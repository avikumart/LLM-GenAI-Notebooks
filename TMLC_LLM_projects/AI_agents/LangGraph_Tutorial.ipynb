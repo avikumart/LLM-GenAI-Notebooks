{
  "nbformat": 4,
  "nbformat_minor": 0,
  "metadata": {
    "colab": {
      "provenance": [],
      "include_colab_link": true
    },
    "kernelspec": {
      "name": "python3",
      "display_name": "Python 3"
    },
    "language_info": {
      "name": "python"
    }
  },
  "cells": [
    {
      "cell_type": "markdown",
      "metadata": {
        "id": "view-in-github",
        "colab_type": "text"
      },
      "source": [
        "<a href=\"https://colab.research.google.com/github/avikumart/LLM-GenAI-Transformers-Notebooks/blob/main/TMLC_LLM_projects/AI_agents/LangGraph_Tutorial.ipynb\" target=\"_parent\"><img src=\"https://colab.research.google.com/assets/colab-badge.svg\" alt=\"Open In Colab\"/></a>"
      ]
    },
    {
      "cell_type": "markdown",
      "source": [
        "LangGraph is a library for building stateful, multi-actor applications with LLMs, used to create agent and multi-agent workflows. Compared to other LLM frameworks, it offers these core benefits: cycles, controllability, and persistence. LangGraph allows you to define flows that involve cycles, essential for most agentic architectures, differentiating it from DAG-based solutions. As a very low-level framework, it provides fine-grained control over both the flow and state of your application, crucial for creating reliable agents. Additionally, LangGraph includes built-in persistence, enabling advanced human-in-the-loop and memory features.\n",
        "\n",
        "Source: LangGraph Github"
      ],
      "metadata": {
        "id": "hzDAq11an95S"
      }
    },
    {
      "cell_type": "code",
      "execution_count": 1,
      "metadata": {
        "colab": {
          "base_uri": "https://localhost:8080/"
        },
        "collapsed": true,
        "id": "NMYY7g3BnDEQ",
        "outputId": "0e6ec2d8-4558-42de-c475-1b72f4566601"
      },
      "outputs": [
        {
          "output_type": "stream",
          "name": "stdout",
          "text": [
            "\u001b[?25l   \u001b[90m━━━━━━━━━━━━━━━━━━━━━━━━━━━━━━━━━━━━━━━━\u001b[0m \u001b[32m0.0/149.7 kB\u001b[0m \u001b[31m?\u001b[0m eta \u001b[36m-:--:--\u001b[0m\r\u001b[2K   \u001b[90m━━━━━━━━━━━━━━━━━━━━━━━━━━━━━━━━━━━━━━━━\u001b[0m \u001b[32m149.7/149.7 kB\u001b[0m \u001b[31m5.3 MB/s\u001b[0m eta \u001b[36m0:00:00\u001b[0m\n",
            "\u001b[?25h\u001b[?25l   \u001b[90m━━━━━━━━━━━━━━━━━━━━━━━━━━━━━━━━━━━━━━━━\u001b[0m \u001b[32m0.0/54.7 kB\u001b[0m \u001b[31m?\u001b[0m eta \u001b[36m-:--:--\u001b[0m\r\u001b[2K   \u001b[90m━━━━━━━━━━━━━━━━━━━━━━━━━━━━━━━━━━━━━━━━\u001b[0m \u001b[32m54.7/54.7 kB\u001b[0m \u001b[31m2.5 MB/s\u001b[0m eta \u001b[36m0:00:00\u001b[0m\n",
            "\u001b[2K   \u001b[90m━━━━━━━━━━━━━━━━━━━━━━━━━━━━━━━━━━━━━━━━\u001b[0m \u001b[32m413.0/413.0 kB\u001b[0m \u001b[31m9.0 MB/s\u001b[0m eta \u001b[36m0:00:00\u001b[0m\n",
            "\u001b[2K   \u001b[90m━━━━━━━━━━━━━━━━━━━━━━━━━━━━━━━━━━━━━━━━\u001b[0m \u001b[32m44.7/44.7 kB\u001b[0m \u001b[31m1.4 MB/s\u001b[0m eta \u001b[36m0:00:00\u001b[0m\n",
            "\u001b[2K   \u001b[90m━━━━━━━━━━━━━━━━━━━━━━━━━━━━━━━━━━━━━━━━\u001b[0m \u001b[32m1.2/1.2 MB\u001b[0m \u001b[31m16.8 MB/s\u001b[0m eta \u001b[36m0:00:00\u001b[0m\n",
            "\u001b[?25h"
          ]
        }
      ],
      "source": [
        "!pip install langgraph langchain_openai openai -q"
      ]
    },
    {
      "cell_type": "markdown",
      "source": [
        "As the same suggests, LangGraph is useful in creating complex flows using graphs. There are 3 important terminologies used:\n",
        "\n",
        "1. Nodes: Nodes represent units of work within your LangGraph. They are typically Python functions that perform a specific task, such as: Interacting with an LLM Calling a tool or API\n",
        "\n",
        "2. Edges: Edges are communication channels between nodes. They define the flow of information and the order of execution.\n",
        "\n",
        "3. State: The state is a central object updated over time by the nodes in the graph. It manages the internal state of your application and can be overridden or added to, depending on the application's requirements. This state can hold things such as Conversation history.\n",
        "\n"
      ],
      "metadata": {
        "id": "bPNGO4d3qBAa"
      }
    },
    {
      "cell_type": "code",
      "source": [
        "import os\n",
        "from google.colab import userdata\n",
        "OpenAI_API = userdata.get('OPENAI_API_KEY')\n",
        "os.environ['OPENAI_API_KEY'] = OpenAI_API"
      ],
      "metadata": {
        "id": "7wLTEmv4p3iY"
      },
      "execution_count": 2,
      "outputs": []
    },
    {
      "cell_type": "markdown",
      "source": [
        "## Single LLM Agent"
      ],
      "metadata": {
        "id": "6LoRXwpbqzsy"
      }
    },
    {
      "cell_type": "code",
      "source": [
        "from typing import Annotated\n",
        "from typing_extensions import TypedDict\n",
        "from langgraph.graph import StateGraph, START, END\n",
        "from langgraph.graph.message import add_messages\n",
        "\n",
        "# Begin by creating a StateGraph. A StateGraph object outlines the structure of the chatbot as a \"state machine.\"\n",
        "# We'll incorporate nodes to represent the LLM and the functions that the agent can invoke,\n",
        "# while edges will define how the agent transitions between these functions.\n",
        "\n",
        "class State(TypedDict):\n",
        "    # Messages have the type \"list\". The `add_messages` function\n",
        "    # in the annotation defines how this state key should be updated\n",
        "    # (in this case, it appends messages to the list, rather than overwriting them)\n",
        "    messages: Annotated[list, add_messages]\n",
        "\n",
        "# Each node can receive the current State as input and output an update to the state.\n",
        "# Updates to messages will be appended to the existing list rather than overwriting it,\n",
        "# thanks to the prebuilt add_messages function used with the Annotated syntax.\n",
        "graph_builder = StateGraph(State)"
      ],
      "metadata": {
        "id": "1fsLkhptq2lF"
      },
      "execution_count": 3,
      "outputs": []
    },
    {
      "cell_type": "code",
      "source": [
        "# Load the LLM\n",
        "from langchain_openai import ChatOpenAI\n",
        "llm = ChatOpenAI(model=\"gpt-4o-mini\")\n",
        "\n",
        "# Create LLM invoke function\n",
        "def chatbot(state: State):\n",
        "    return {\"messages\": [llm.invoke(state[\"messages\"])]}\n",
        "\n",
        "# Creating first node\n",
        "\n",
        "graph_builder.add_node(\"chatbot\", chatbot)\n",
        "# The first argument is the unique node name\n",
        "# The second argument is the function or object that will be called whenever the node is used."
      ],
      "metadata": {
        "colab": {
          "base_uri": "https://localhost:8080/"
        },
        "id": "IBEe_I5arB4p",
        "outputId": "88df32c1-55e9-47a2-f9f7-cd8595bb9ebe"
      },
      "execution_count": 4,
      "outputs": [
        {
          "output_type": "execute_result",
          "data": {
            "text/plain": [
              "<langgraph.graph.state.StateGraph at 0x7e52ee7dc650>"
            ]
          },
          "metadata": {},
          "execution_count": 4
        }
      ]
    },
    {
      "cell_type": "markdown",
      "source": [
        "Observe that the node receives the current State as input and returns a dictionary with an updated \"messages\" list. This is the standard pattern for all LangGraph node functions.\n",
        "\n",
        "The add_messages function in our State appends the LLM's response messages to the existing messages in the state.\n",
        "\n",
        "\n",
        "\n",
        "\n",
        "\n",
        "\n",
        "\n"
      ],
      "metadata": {
        "id": "Y1ITd2cKsMRB"
      }
    },
    {
      "cell_type": "code",
      "source": [
        "# creating edges\n",
        "# Add an entry point to specify where the graph should begin its process each time it runs.\n",
        "# This defines the starting point of the workflow within the graph.\n",
        "graph_builder.add_edge(START, \"chatbot\")\n",
        "# Similarly, define a finish point to indicate that \"whenever this node is executed, the process can terminate.\"\n",
        "# This serves as the endpoint for the graph's workflow.\n",
        "graph_builder.add_edge(\"chatbot\", END)"
      ],
      "metadata": {
        "colab": {
          "base_uri": "https://localhost:8080/"
        },
        "id": "k1HRXOQprKlS",
        "outputId": "8011db3c-e1bf-4b0e-ee9b-02b529c42196"
      },
      "execution_count": 5,
      "outputs": [
        {
          "output_type": "execute_result",
          "data": {
            "text/plain": [
              "<langgraph.graph.state.StateGraph at 0x7e52ee7dc650>"
            ]
          },
          "metadata": {},
          "execution_count": 5
        }
      ]
    },
    {
      "cell_type": "code",
      "source": [
        "# Finally, to execute the graph, call the compile() method on the graph builder.\n",
        "# This will prepare the graph for execution.\n",
        "# This generates a CompiledGraph that can be invoked on our state, allowing us to execute the graph's defined workflow.\n",
        "graph = graph_builder.compile()"
      ],
      "metadata": {
        "id": "q3UA-ye0rNn7"
      },
      "execution_count": 6,
      "outputs": []
    },
    {
      "cell_type": "code",
      "source": [
        "# Display the Graph\n",
        "from IPython.display import Image, display\n",
        "\n",
        "try:\n",
        "    display(Image(graph.get_graph().draw_mermaid_png()))\n",
        "except Exception:\n",
        "    pass"
      ],
      "metadata": {
        "colab": {
          "base_uri": "https://localhost:8080/",
          "height": 251
        },
        "id": "L9URbw-6rOhl",
        "outputId": "d367b455-4730-4128-d30c-2758ba1d68ce"
      },
      "execution_count": 7,
      "outputs": [
        {
          "output_type": "display_data",
          "data": {
            "image/png": "[encoded data removed]",
            "text/plain": [
              "<IPython.core.display.Image object>"
            ]
          },
          "metadata": {}
        }
      ]
    },
    {
      "cell_type": "code",
      "source": [
        "# Passing a input to test the Agent\n",
        "\n",
        "user_input = \"What do you know about AI?\"\n",
        "print(\"User: \" + user_input)\n",
        "\n",
        "for event in graph.stream({\"messages\": [(\"user\", user_input)]}):\n",
        "  for value in event.values():\n",
        "    print(\"Assistant:\", value[\"messages\"][-1].content)"
      ],
      "metadata": {
        "colab": {
          "base_uri": "https://localhost:8080/"
        },
        "id": "KQEVGayjrdZK",
        "outputId": "2de0eb60-3182-41d7-ba73-57fbbf610b70"
      },
      "execution_count": null,
      "outputs": [
        {
          "output_type": "stream",
          "name": "stdout",
          "text": [
            "User: What do you know about AI?\n",
            "Assistant: Artificial Intelligence (AI) refers to the simulation of human intelligence processes by machines, particularly computer systems. These processes include learning (the acquisition of information and rules for using it), reasoning (the use of rules to reach approximate or definite conclusions), and self-correction. Here are some key aspects of AI:\n",
            "\n",
            "1. **Types of AI**:\n",
            "   - **Narrow AI**: Designed to perform a specific task (e.g., virtual assistants, recommendation systems).\n",
            "   - **General AI**: Hypothetical AI that possesses the ability to understand, learn, and apply intelligence across a wide range of tasks at a human level. This type of AI does not yet exist.\n",
            "\n",
            "2. **Subfields of AI**:\n",
            "   - **Machine Learning (ML)**: A subset of AI focused on building systems that learn from and make predictions or decisions based on data. It includes techniques such as supervised learning, unsupervised learning, and reinforcement learning.\n",
            "   - **Natural Language Processing (NLP)**: A field that enables machines to understand and respond to human language, facilitating applications like chatbots and translation services.\n",
            "   - **Computer Vision**: Allows computers to interpret and process visual information from the world, used in applications like image recognition and autonomous vehicles.\n",
            "   - **Robotics**: The design and use of robots that can perform tasks in the real world.\n",
            "\n",
            "3. **Applications**: AI is used across various industries, including:\n",
            "   - **Healthcare**: For diagnostics, personalized medicine, and treatment planning.\n",
            "   - **Finance**: For fraud detection, algorithmic trading, and risk assessment.\n",
            "   - **Transportation**: In autonomous vehicles and traffic management systems.\n",
            "   - **Entertainment**: For content recommendations, game development, and user experience enhancements.\n",
            "\n",
            "4. **Challenges and Considerations**:\n",
            "   - **Ethics**: Concerns around bias in AI models, privacy issues, job displacement, and decision-making transparency.\n",
            "   - **Security**: Risks of AI being used maliciously, such as in deepfakes or cyberattacks.\n",
            "   - **Regulation**: Ongoing discussions about how to govern AI technology to ensure safety, accountability, and ethical use.\n",
            "\n",
            "5. **Future of AI**: The field is rapidly evolving, with ongoing research aimed at advancing capabilities, improving efficiency, and ensuring ethical deployment. Concepts like explainable AI (XAI) are gaining traction to make AI decision-making processes more understandable to users.\n",
            "\n",
            "AI continues to shape many aspects of modern life, and its potential impact on society is profound and multifaceted.\n"
          ]
        }
      ]
    },
    {
      "cell_type": "markdown",
      "source": [
        "## Adding tools to this Simple Agent"
      ],
      "metadata": {
        "id": "wD5EpxDIrrLZ"
      }
    },
    {
      "cell_type": "markdown",
      "source": [
        "We will using Tavily search engine. Get tavily API key from https://tavily.com/"
      ],
      "metadata": {
        "id": "bqvS3TM1tsRh"
      }
    },
    {
      "cell_type": "code",
      "source": [
        "!pip install tavily-python langchain_community"
      ],
      "metadata": {
        "colab": {
          "base_uri": "https://localhost:8080/"
        },
        "collapsed": true,
        "id": "84f8U9u8rlBt",
        "outputId": "e93ba0d9-35d2-4f0d-b739-30239a9f7885"
      },
      "execution_count": null,
      "outputs": [
        {
          "output_type": "stream",
          "name": "stdout",
          "text": [
            "Collecting tavily-python\n",
            "  Downloading tavily_python-0.5.0-py3-none-any.whl.metadata (11 kB)\n",
            "Collecting langchain_community\n",
            "  Downloading langchain_community-0.3.14-py3-none-any.whl.metadata (2.9 kB)\n",
            "Requirement already satisfied: requests in /usr/local/lib/python3.11/dist-packages (from tavily-python) (2.32.3)\n",
            "Requirement already satisfied: tiktoken>=0.5.1 in /usr/local/lib/python3.11/dist-packages (from tavily-python) (0.8.0)\n",
            "Requirement already satisfied: httpx in /usr/local/lib/python3.11/dist-packages (from tavily-python) (0.28.1)\n",
            "Requirement already satisfied: PyYAML>=5.3 in /usr/local/lib/python3.11/dist-packages (from langchain_community) (6.0.2)\n",
            "Requirement already satisfied: SQLAlchemy<3,>=1.4 in /usr/local/lib/python3.11/dist-packages (from langchain_community) (2.0.37)\n",
            "Requirement already satisfied: aiohttp<4.0.0,>=3.8.3 in /usr/local/lib/python3.11/dist-packages (from langchain_community) (3.11.11)\n",
            "Collecting dataclasses-json<0.7,>=0.5.7 (from langchain_community)\n",
            "  Downloading dataclasses_json-0.6.7-py3-none-any.whl.metadata (25 kB)\n",
            "Collecting httpx-sse<0.5.0,>=0.4.0 (from langchain_community)\n",
            "  Downloading httpx_sse-0.4.0-py3-none-any.whl.metadata (9.0 kB)\n",
            "Requirement already satisfied: langchain<0.4.0,>=0.3.14 in /usr/local/lib/python3.11/dist-packages (from langchain_community) (0.3.14)\n",
            "Requirement already satisfied: langchain-core<0.4.0,>=0.3.29 in /usr/local/lib/python3.11/dist-packages (from langchain_community) (0.3.29)\n",
            "Requirement already satisfied: langsmith<0.3,>=0.1.125 in /usr/local/lib/python3.11/dist-packages (from langchain_community) (0.2.10)\n",
            "Requirement already satisfied: numpy<2,>=1.22.4 in /usr/local/lib/python3.11/dist-packages (from langchain_community) (1.26.4)\n",
            "Collecting pydantic-settings<3.0.0,>=2.4.0 (from langchain_community)\n",
            "  Downloading pydantic_settings-2.7.1-py3-none-any.whl.metadata (3.5 kB)\n",
            "Requirement already satisfied: tenacity!=8.4.0,<10,>=8.1.0 in /usr/local/lib/python3.11/dist-packages (from langchain_community) (9.0.0)\n",
            "Requirement already satisfied: aiohappyeyeballs>=2.3.0 in /usr/local/lib/python3.11/dist-packages (from aiohttp<4.0.0,>=3.8.3->langchain_community) (2.4.4)\n",
            "Requirement already satisfied: aiosignal>=1.1.2 in /usr/local/lib/python3.11/dist-packages (from aiohttp<4.0.0,>=3.8.3->langchain_community) (1.3.2)\n",
            "Requirement already satisfied: attrs>=17.3.0 in /usr/local/lib/python3.11/dist-packages (from aiohttp<4.0.0,>=3.8.3->langchain_community) (24.3.0)\n",
            "Requirement already satisfied: frozenlist>=1.1.1 in /usr/local/lib/python3.11/dist-packages (from aiohttp<4.0.0,>=3.8.3->langchain_community) (1.5.0)\n",
            "Requirement already satisfied: multidict<7.0,>=4.5 in /usr/local/lib/python3.11/dist-packages (from aiohttp<4.0.0,>=3.8.3->langchain_community) (6.1.0)\n",
            "Requirement already satisfied: propcache>=0.2.0 in /usr/local/lib/python3.11/dist-packages (from aiohttp<4.0.0,>=3.8.3->langchain_community) (0.2.1)\n",
            "Requirement already satisfied: yarl<2.0,>=1.17.0 in /usr/local/lib/python3.11/dist-packages (from aiohttp<4.0.0,>=3.8.3->langchain_community) (1.18.3)\n",
            "Collecting marshmallow<4.0.0,>=3.18.0 (from dataclasses-json<0.7,>=0.5.7->langchain_community)\n",
            "  Downloading marshmallow-3.25.1-py3-none-any.whl.metadata (7.3 kB)\n",
            "Collecting typing-inspect<1,>=0.4.0 (from dataclasses-json<0.7,>=0.5.7->langchain_community)\n",
            "  Downloading typing_inspect-0.9.0-py3-none-any.whl.metadata (1.5 kB)\n",
            "Requirement already satisfied: langchain-text-splitters<0.4.0,>=0.3.3 in /usr/local/lib/python3.11/dist-packages (from langchain<0.4.0,>=0.3.14->langchain_community) (0.3.5)\n",
            "Requirement already satisfied: pydantic<3.0.0,>=2.7.4 in /usr/local/lib/python3.11/dist-packages (from langchain<0.4.0,>=0.3.14->langchain_community) (2.10.5)\n",
            "Requirement already satisfied: jsonpatch<2.0,>=1.33 in /usr/local/lib/python3.11/dist-packages (from langchain-core<0.4.0,>=0.3.29->langchain_community) (1.33)\n",
            "Requirement already satisfied: packaging<25,>=23.2 in /usr/local/lib/python3.11/dist-packages (from langchain-core<0.4.0,>=0.3.29->langchain_community) (24.2)\n",
            "Requirement already satisfied: typing-extensions>=4.7 in /usr/local/lib/python3.11/dist-packages (from langchain-core<0.4.0,>=0.3.29->langchain_community) (4.12.2)\n",
            "Requirement already satisfied: orjson<4.0.0,>=3.9.14 in /usr/local/lib/python3.11/dist-packages (from langsmith<0.3,>=0.1.125->langchain_community) (3.10.14)\n",
            "Requirement already satisfied: requests-toolbelt<2.0.0,>=1.0.0 in /usr/local/lib/python3.11/dist-packages (from langsmith<0.3,>=0.1.125->langchain_community) (1.0.0)\n",
            "Requirement already satisfied: anyio in /usr/local/lib/python3.11/dist-packages (from httpx->tavily-python) (3.7.1)\n",
            "Requirement already satisfied: certifi in /usr/local/lib/python3.11/dist-packages (from httpx->tavily-python) (2024.12.14)\n",
            "Requirement already satisfied: httpcore==1.* in /usr/local/lib/python3.11/dist-packages (from httpx->tavily-python) (1.0.7)\n",
            "Requirement already satisfied: idna in /usr/local/lib/python3.11/dist-packages (from httpx->tavily-python) (3.10)\n",
            "Requirement already satisfied: h11<0.15,>=0.13 in /usr/local/lib/python3.11/dist-packages (from httpcore==1.*->httpx->tavily-python) (0.14.0)\n",
            "Collecting python-dotenv>=0.21.0 (from pydantic-settings<3.0.0,>=2.4.0->langchain_community)\n",
            "  Downloading python_dotenv-1.0.1-py3-none-any.whl.metadata (23 kB)\n",
            "Requirement already satisfied: charset-normalizer<4,>=2 in /usr/local/lib/python3.11/dist-packages (from requests->tavily-python) (3.4.1)\n",
            "Requirement already satisfied: urllib3<3,>=1.21.1 in /usr/local/lib/python3.11/dist-packages (from requests->tavily-python) (2.3.0)\n",
            "Requirement already satisfied: greenlet!=0.4.17 in /usr/local/lib/python3.11/dist-packages (from SQLAlchemy<3,>=1.4->langchain_community) (3.1.1)\n",
            "Requirement already satisfied: regex>=2022.1.18 in /usr/local/lib/python3.11/dist-packages (from tiktoken>=0.5.1->tavily-python) (2024.11.6)\n",
            "Requirement already satisfied: jsonpointer>=1.9 in /usr/local/lib/python3.11/dist-packages (from jsonpatch<2.0,>=1.33->langchain-core<0.4.0,>=0.3.29->langchain_community) (3.0.0)\n",
            "Requirement already satisfied: annotated-types>=0.6.0 in /usr/local/lib/python3.11/dist-packages (from pydantic<3.0.0,>=2.7.4->langchain<0.4.0,>=0.3.14->langchain_community) (0.7.0)\n",
            "Requirement already satisfied: pydantic-core==2.27.2 in /usr/local/lib/python3.11/dist-packages (from pydantic<3.0.0,>=2.7.4->langchain<0.4.0,>=0.3.14->langchain_community) (2.27.2)\n",
            "Collecting mypy-extensions>=0.3.0 (from typing-inspect<1,>=0.4.0->dataclasses-json<0.7,>=0.5.7->langchain_community)\n",
            "  Downloading mypy_extensions-1.0.0-py3-none-any.whl.metadata (1.1 kB)\n",
            "Requirement already satisfied: sniffio>=1.1 in /usr/local/lib/python3.11/dist-packages (from anyio->httpx->tavily-python) (1.3.1)\n",
            "Downloading tavily_python-0.5.0-py3-none-any.whl (14 kB)\n",
            "Downloading langchain_community-0.3.14-py3-none-any.whl (2.5 MB)\n",
            "\u001b[2K   \u001b[90m━━━━━━━━━━━━━━━━━━━━━━━━━━━━━━━━━━━━━━━━\u001b[0m \u001b[32m2.5/2.5 MB\u001b[0m \u001b[31m26.8 MB/s\u001b[0m eta \u001b[36m0:00:00\u001b[0m\n",
            "\u001b[?25hDownloading dataclasses_json-0.6.7-py3-none-any.whl (28 kB)\n",
            "Downloading httpx_sse-0.4.0-py3-none-any.whl (7.8 kB)\n",
            "Downloading pydantic_settings-2.7.1-py3-none-any.whl (29 kB)\n",
            "Downloading marshmallow-3.25.1-py3-none-any.whl (49 kB)\n",
            "\u001b[2K   \u001b[90m━━━━━━━━━━━━━━━━━━━━━━━━━━━━━━━━━━━━━━━━\u001b[0m \u001b[32m49.6/49.6 kB\u001b[0m \u001b[31m5.0 MB/s\u001b[0m eta \u001b[36m0:00:00\u001b[0m\n",
            "\u001b[?25hDownloading python_dotenv-1.0.1-py3-none-any.whl (19 kB)\n",
            "Downloading typing_inspect-0.9.0-py3-none-any.whl (8.8 kB)\n",
            "Downloading mypy_extensions-1.0.0-py3-none-any.whl (4.7 kB)\n",
            "Installing collected packages: python-dotenv, mypy-extensions, marshmallow, httpx-sse, typing-inspect, tavily-python, pydantic-settings, dataclasses-json, langchain_community\n",
            "Successfully installed dataclasses-json-0.6.7 httpx-sse-0.4.0 langchain_community-0.3.14 marshmallow-3.25.1 mypy-extensions-1.0.0 pydantic-settings-2.7.1 python-dotenv-1.0.1 tavily-python-0.5.0 typing-inspect-0.9.0\n"
          ]
        }
      ]
    },
    {
      "cell_type": "code",
      "source": [
        "os.environ['TAVILY_API_KEY'] = userdata.get('tavily')"
      ],
      "metadata": {
        "id": "WziRDhikt00R"
      },
      "execution_count": null,
      "outputs": []
    },
    {
      "cell_type": "code",
      "source": [
        "# tavily is available from langchain community library\n",
        "from langchain_community.tools.tavily_search import TavilySearchResults\n",
        "\n",
        "tool = TavilySearchResults(max_results=2)\n",
        "tools = [tool]\n",
        "\n",
        "# testing\n",
        "tool.invoke(\"What is ML?\")"
      ],
      "metadata": {
        "colab": {
          "base_uri": "https://localhost:8080/"
        },
        "id": "dmJt_2Obt8e4",
        "outputId": "55fb0646-3465-4cc5-8ae8-a3fdb5ff0a8e"
      },
      "execution_count": null,
      "outputs": [
        {
          "output_type": "execute_result",
          "data": {
            "text/plain": [
              "[{'url': 'https://www.ibm.com/think/topics/machine-learning',\n",
              "  'content': 'Machine learning (ML) is a branch of artificial intelligence (AI) and computer science that focuses on the using data and algorithms to enable AI to imitate the way that humans learn, gradually improving its accuracy. Supervised learning, also known as supervised machine learning, is defined by its use of labeled datasets to train algorithms to classify data or predict outcomes accurately. Reinforcement machine learning is a machine\\xa0learning model that is similar to supervised learning, but the algorithm isn’t trained using sample data. However, implementing machine learning in businesses has also raised a number of ethical concerns about AI technologies. Train, validate, tune and deploy generative AI, foundation models and machine learning capabilities with IBM watsonx.ai, a next-generation enterprise studio for AI builders.'},\n",
              " {'url': 'https://www.geeksforgeeks.org/introduction-machine-learning/',\n",
              "  'content': 'Machine learning (ML) is a type of artificial intelligence (AI) that allows computers to learn without being explicitly programmed. This article explores the concept of machine learning, providing various definitions and discussing its applications. What is Machine Learning?Machine learning (ML) is'}]"
            ]
          },
          "metadata": {},
          "execution_count": 12
        }
      ]
    },
    {
      "cell_type": "code",
      "source": [
        "from langgraph.prebuilt import ToolNode, tools_condition\n",
        "\n",
        "# ToolNode -> A node that runs the tools called in the last AIMessage.\n",
        "# It can be used either in StateGraph with a \"messages\" state key (or a custom key passed via ToolNode's 'messages_key').\n",
        "# If multiple tool calls are requested, they will be run in parallel.\n",
        "# The output will be a list of ToolMessages, one for each tool call.\n",
        "# tools_condition -> Use in the conditional_edge to route to the ToolNode if the last message has tool calls.\n",
        "# Otherwise, route to the end."
      ],
      "metadata": {
        "id": "2xnWdawhuCUM"
      },
      "execution_count": null,
      "outputs": []
    },
    {
      "cell_type": "code",
      "source": [
        "# New Agent\n",
        "\n",
        "class State(TypedDict):\n",
        "    messages: Annotated[list, add_messages]\n",
        "\n",
        "graph_builder = StateGraph(State)\n",
        "\n",
        "tool = TavilySearchResults(max_results=2)\n",
        "tools = [tool]\n",
        "llm = ChatOpenAI(model=\"gpt-4o-mini\")\n",
        "llm_with_tools = llm.bind_tools(tools)\n",
        "\n",
        "def chatbot(state: State):\n",
        "    return {\"messages\": [llm_with_tools.invoke(state[\"messages\"])]}\n",
        "\n",
        "graph_builder.add_node(\"chatbot\", chatbot)\n",
        "\n",
        "tool_node = ToolNode(tools=[tool])\n",
        "graph_builder.add_node(\"tools\", tool_node)\n",
        "\n",
        "graph_builder.add_conditional_edges(\n",
        "    \"chatbot\",\n",
        "    tools_condition,\n",
        ")\n",
        "\n",
        "graph_builder.add_edge(\"tools\", \"chatbot\")\n",
        "graph_builder.add_edge(START, \"chatbot\")\n",
        "\n",
        "graph = graph_builder.compile()"
      ],
      "metadata": {
        "id": "-tGPb32MuP-7"
      },
      "execution_count": null,
      "outputs": []
    },
    {
      "cell_type": "code",
      "source": [
        "try:\n",
        "    display(Image(graph.get_graph().draw_mermaid_png()))\n",
        "except Exception:\n",
        "    pass"
      ],
      "metadata": {
        "colab": {
          "base_uri": "https://localhost:8080/",
          "height": 266
        },
        "id": "bhSdoFgtuTKq",
        "outputId": "03fe109c-2391-4a3f-a775-a45f8f2c71c5"
      },
      "execution_count": null,
      "outputs": [
        {
          "output_type": "display_data",
          "data": {
            "image/png": "[encoded data removed]",
            "text/plain": [
              "<IPython.core.display.Image object>"
            ]
          },
          "metadata": {}
        }
      ]
    },
    {
      "cell_type": "code",
      "source": [
        "# Passing a input to test the Agent with tool calling\n",
        "user_input = \"What do you know about AI?\"\n",
        "print(\"User: \" + user_input)\n",
        "\n",
        "for event in graph.stream({\"messages\": [(\"user\", user_input)]}):\n",
        "  for value in event.values():\n",
        "    print(\"Assistant:\", value[\"messages\"][-1].content)"
      ],
      "metadata": {
        "colab": {
          "base_uri": "https://localhost:8080/"
        },
        "id": "5Wwh468lvD1a",
        "outputId": "605085e0-fae4-4141-decb-28c6922b23d7"
      },
      "execution_count": null,
      "outputs": [
        {
          "output_type": "stream",
          "name": "stdout",
          "text": [
            "User: What do you know about AI?\n",
            "Assistant: Artificial Intelligence (AI) refers to the simulation of human intelligence processes by machines, especially computer systems. These processes include learning (the acquisition of information and rules for using it), reasoning (using rules to reach approximate or definite conclusions), problem-solving, perception, language understanding, and more.\n",
            "\n",
            "Here are some key points about AI:\n",
            "\n",
            "1. **Types of AI**:\n",
            "   - **Narrow AI**: Designed to perform a narrow task (e.g., facial recognition, internet searches).\n",
            "   - **General AI**: Theoretical AI that has the ability to understand, learn, and apply intelligence to solve any problem, similar to human cognitive abilities.\n",
            "\n",
            "2. **Machine Learning (ML)**: A subset of AI that involves training algorithms on data so that they can make predictions or decisions without being explicitly programmed.\n",
            "\n",
            "3. **Deep Learning**: A further subset of ML that uses artificial neural networks to process vast amounts of data, often used in image and speech recognition.\n",
            "\n",
            "4. **Applications**: AI is applied in various fields, including healthcare (diagnosis), finance (credit scoring), transportation (self-driving cars), customer service (chatbots), and many others.\n",
            "\n",
            "5. **Ethical Considerations**: The rise of AI has brought up concerns about privacy, job displacement, bias in decision-making, and the general implications of machines making autonomous decisions.\n",
            "\n",
            "6. **Future Prospects**: AI continues to advance, with ongoing research in reinforcement learning, natural language processing, and robotics, which may further enhance its capabilities and integration into daily life.\n",
            "\n",
            "7. **Tools and Frameworks**: Several programming languages (like Python) and tools (like TensorFlow, Keras, and PyTorch) are used to develop AI systems.\n",
            "\n",
            "AI is a rapidly evolving field with significant potential to transform industries and society at large.\n"
          ]
        }
      ]
    },
    {
      "cell_type": "markdown",
      "source": [
        "## Add memory to the Agent\n",
        "\n",
        "As discussed earlier, memory can be very useful in maintaining the context for the LLM and provide relevant answers to next user queries.\n",
        "\n",
        "LangGraph has persistent checkpointing. By providing a checkpointer during the graph compilation and specifying a thread_id when invoking the graph, LangGraph automatically saves the state after each step. When the graph is invoked again using the same thread_id, it loads the saved state, enabling the chatbot to resume from where it previously left off."
      ],
      "metadata": {
        "id": "GR-6iYaYwERh"
      }
    },
    {
      "cell_type": "code",
      "source": [
        "from langgraph.checkpoint.memory import MemorySaver\n",
        "memory = MemorySaver()"
      ],
      "metadata": {
        "id": "xGu5MS4ovE4A"
      },
      "execution_count": null,
      "outputs": []
    },
    {
      "cell_type": "markdown",
      "source": [
        "Currently using an memory checkpointer. This is limited till experimentations but in a production application, you should switch to use SqliteSaver or PostgresSaver and connect to your own DB to store the chat memory of graph."
      ],
      "metadata": {
        "id": "4VeF_RShw0jy"
      }
    },
    {
      "cell_type": "code",
      "source": [
        "# Building the Agent with Memory\n",
        "class State(TypedDict):\n",
        "    messages: Annotated[list, add_messages]\n",
        "\n",
        "graph_builder = StateGraph(State)\n",
        "\n",
        "tool = TavilySearchResults(max_results=2)\n",
        "tools = [tool]\n",
        "llm = ChatOpenAI(model=\"gpt-4o-mini\")\n",
        "llm_with_tools = llm.bind_tools(tools)\n",
        "\n",
        "def chatbot(state: State):\n",
        "    return {\"messages\": [llm_with_tools.invoke(state[\"messages\"])]}\n",
        "\n",
        "graph_builder.add_node(\"chatbot\", chatbot)\n",
        "\n",
        "tool_node = ToolNode(tools=[tool])\n",
        "graph_builder.add_node(\"tools\", tool_node)\n",
        "\n",
        "graph_builder.add_conditional_edges(\n",
        "    \"chatbot\",\n",
        "    tools_condition,\n",
        ")\n",
        "\n",
        "graph_builder.add_edge(\"tools\", \"chatbot\")\n",
        "graph_builder.add_edge(START, \"chatbot\")\n",
        "\n",
        "graph = graph_builder.compile(checkpointer=memory)"
      ],
      "metadata": {
        "id": "ZlgVCmo_xGd9"
      },
      "execution_count": null,
      "outputs": []
    },
    {
      "cell_type": "code",
      "source": [
        "try:\n",
        "    display(Image(graph.get_graph().draw_mermaid_png()))\n",
        "except Exception:\n",
        "    pass"
      ],
      "metadata": {
        "colab": {
          "base_uri": "https://localhost:8080/",
          "height": 266
        },
        "id": "a0FmnYLsxWlD",
        "outputId": "fb20dff4-03b8-46da-917c-b396dc09802e"
      },
      "execution_count": null,
      "outputs": [
        {
          "output_type": "display_data",
          "data": {
            "image/png": "[encoded data removed]",
            "text/plain": [
              "<IPython.core.display.Image object>"
            ]
          },
          "metadata": {}
        }
      ]
    },
    {
      "cell_type": "code",
      "source": [
        "config = {\"configurable\": {\"thread_id\": \"User_1\"}}\n",
        "\n",
        "user_input = \"Hi, my name is Chirag\"\n",
        "\n",
        "events = graph.stream(\n",
        "    {\"messages\": [(\"user\", user_input)]}, config, stream_mode=\"values\"\n",
        ")\n",
        "\n",
        "for event in events:\n",
        "    event[\"messages\"][-1].pretty_print()"
      ],
      "metadata": {
        "colab": {
          "base_uri": "https://localhost:8080/"
        },
        "id": "RcSALq32xXNB",
        "outputId": "4cb6de8b-32e1-42f5-a494-eb8e3a78cd53"
      },
      "execution_count": null,
      "outputs": [
        {
          "output_type": "stream",
          "name": "stdout",
          "text": [
            "================================\u001b[1m Human Message \u001b[0m=================================\n",
            "\n",
            "Hi, my name is Chirag\n",
            "==================================\u001b[1m Ai Message \u001b[0m==================================\n",
            "\n",
            "Hello Chirag! How can I assist you today?\n"
          ]
        }
      ]
    },
    {
      "cell_type": "code",
      "source": [
        "user_input = \"Do you know my name?\"\n",
        "\n",
        "events = graph.stream(\n",
        "    {\"messages\": [(\"user\", user_input)]}, config, stream_mode=\"values\"\n",
        ")\n",
        "\n",
        "for event in events:\n",
        "    event[\"messages\"][-1].pretty_print()"
      ],
      "metadata": {
        "colab": {
          "base_uri": "https://localhost:8080/"
        },
        "id": "a99eFsJKx1iE",
        "outputId": "0028e78b-9c0c-4cfa-d641-7f05055dad8c"
      },
      "execution_count": null,
      "outputs": [
        {
          "output_type": "stream",
          "name": "stdout",
          "text": [
            "================================\u001b[1m Human Message \u001b[0m=================================\n",
            "\n",
            "Do you know my name?\n",
            "==================================\u001b[1m Ai Message \u001b[0m==================================\n",
            "\n",
            "Yes, you mentioned that your name is Chirag. How can I assist you further?\n"
          ]
        }
      ]
    },
    {
      "cell_type": "markdown",
      "source": [
        "### What would happen if I change my config"
      ],
      "metadata": {
        "id": "NYWukh-XyYU5"
      }
    },
    {
      "cell_type": "code",
      "source": [
        "config = {\"configurable\": {\"thread_id\": \"User_2\"}}\n",
        "\n",
        "user_input = \"Do you know my name?\"\n",
        "\n",
        "events = graph.stream(\n",
        "    {\"messages\": [(\"user\", user_input)]}, config, stream_mode=\"values\"\n",
        ")\n",
        "\n",
        "for event in events:\n",
        "    event[\"messages\"][-1].pretty_print()"
      ],
      "metadata": {
        "colab": {
          "base_uri": "https://localhost:8080/"
        },
        "id": "DjUWYX8ryTJg",
        "outputId": "613f1511-6464-4069-aae6-5392650ab9de"
      },
      "execution_count": null,
      "outputs": [
        {
          "output_type": "stream",
          "name": "stdout",
          "text": [
            "================================\u001b[1m Human Message \u001b[0m=================================\n",
            "\n",
            "Do you know my name?\n",
            "==================================\u001b[1m Ai Message \u001b[0m==================================\n",
            "\n",
            "I don't have access to personal information about users unless you've shared it with me during our conversation. Therefore, I don't know your name. If you'd like me to know your name, feel free to share it!\n"
          ]
        }
      ]
    },
    {
      "cell_type": "markdown",
      "source": [
        "As expected, as the thread id has changed, it doesn't have access to memory of other thread"
      ],
      "metadata": {
        "id": "D31FjnY8yiCK"
      }
    },
    {
      "cell_type": "markdown",
      "source": [
        "## Snapshot of current state"
      ],
      "metadata": {
        "id": "3B_xX5zwyzde"
      }
    },
    {
      "cell_type": "code",
      "source": [
        "snapshot = graph.get_state(config)\n",
        "snapshot"
      ],
      "metadata": {
        "colab": {
          "base_uri": "https://localhost:8080/"
        },
        "id": "gORsSGffyzBD",
        "outputId": "4f0f9b27-f3d5-440f-91df-5d7c892c3dec"
      },
      "execution_count": null,
      "outputs": [
        {
          "output_type": "execute_result",
          "data": {
            "text/plain": [
              "StateSnapshot(values={'messages': [HumanMessage(content='Do you know my name?', additional_kwargs={}, response_metadata={}, id='f86f01b0-9314-4e80-8c18-88d2a4d99ca9'), AIMessage(content=\"I don't have access to personal information about users unless you've shared it with me during our conversation. Therefore, I don't know your name. If you'd like me to know your name, feel free to share it!\", additional_kwargs={'refusal': None}, response_metadata={'token_usage': {'completion_tokens': 44, 'prompt_tokens': 85, 'total_tokens': 129, 'completion_tokens_details': {'accepted_prediction_tokens': 0, 'audio_tokens': 0, 'reasoning_tokens': 0, 'rejected_prediction_tokens': 0}, 'prompt_tokens_details': {'audio_tokens': 0, 'cached_tokens': 0}}, 'model_name': 'gpt-4o-mini-2024-07-18', 'system_fingerprint': 'fp_72ed7ab54c', 'finish_reason': 'stop', 'logprobs': None}, id='run-cf71db83-631e-4cfb-8fc8-343af1cd1d26-0', usage_metadata={'input_tokens': 85, 'output_tokens': 44, 'total_tokens': 129, 'input_token_details': {'audio': 0, 'cache_read': 0}, 'output_token_details': {'audio': 0, 'reasoning': 0}})]}, next=(), config={'configurable': {'thread_id': 'User_2', 'checkpoint_ns': '', 'checkpoint_id': '1efd4bd1-7fff-60e9-8001-cee50c8db139'}}, metadata={'source': 'loop', 'writes': {'chatbot': {'messages': [AIMessage(content=\"I don't have access to personal information about users unless you've shared it with me during our conversation. Therefore, I don't know your name. If you'd like me to know your name, feel free to share it!\", additional_kwargs={'refusal': None}, response_metadata={'token_usage': {'completion_tokens': 44, 'prompt_tokens': 85, 'total_tokens': 129, 'completion_tokens_details': {'accepted_prediction_tokens': 0, 'audio_tokens': 0, 'reasoning_tokens': 0, 'rejected_prediction_tokens': 0}, 'prompt_tokens_details': {'audio_tokens': 0, 'cached_tokens': 0}}, 'model_name': 'gpt-4o-mini-2024-07-18', 'system_fingerprint': 'fp_72ed7ab54c', 'finish_reason': 'stop', 'logprobs': None}, id='run-cf71db83-631e-4cfb-8fc8-343af1cd1d26-0', usage_metadata={'input_tokens': 85, 'output_tokens': 44, 'total_tokens': 129, 'input_token_details': {'audio': 0, 'cache_read': 0}, 'output_token_details': {'audio': 0, 'reasoning': 0}})]}}, 'thread_id': 'User_2', 'step': 1, 'parents': {}}, created_at='2025-01-17T10:23:28.833115+00:00', parent_config={'configurable': {'thread_id': 'User_2', 'checkpoint_ns': '', 'checkpoint_id': '1efd4bd1-5e8b-640e-8000-44361ee9322e'}}, tasks=())"
            ]
          },
          "metadata": {},
          "execution_count": 28
        }
      ]
    },
    {
      "cell_type": "markdown",
      "source": [
        "## Multi LLM Agent Flow"
      ],
      "metadata": {
        "id": "FW_fMIhM1nZb"
      }
    },
    {
      "cell_type": "code",
      "source": [
        "from langchain.prompts import PromptTemplate\n",
        "\n",
        "def classify_feedback(state):\n",
        "    llm = ChatOpenAI()\n",
        "    prompt = PromptTemplate.from_template(\"\"\"\n",
        "    You are a sentiment analysis agent. You need to classify the following feedback as either positive or negative.\n",
        "\n",
        "    Feedback: {input}\n",
        "\n",
        "    Your answer (positive/negative):\n",
        "    \"\"\")\n",
        "    chain = prompt | llm\n",
        "    response = chain.invoke({\"input\": state[\"input\"]})\n",
        "    sentiment = response.content.strip().lower()\n",
        "    return {\"sentiment\": sentiment, \"input\": state[\"input\"]}\n",
        "\n",
        "# Handling positive feedback with a thank-you message\n",
        "def handle_positive_feedback(state):\n",
        "    llm = ChatOpenAI()\n",
        "    prompt = PromptTemplate.from_template(\n",
        "        \"Thank the customer for their positive feedback: {input}\"\n",
        "    )\n",
        "    chain = prompt | llm\n",
        "    response = chain.invoke({\"input\": state[\"input\"]})\n",
        "    return {\"output\": response}\n",
        "\n",
        "# Handling negative feedback with an apology and improvement promise\n",
        "def handle_negative_feedback(state):\n",
        "    llm = ChatOpenAI()\n",
        "    prompt = PromptTemplate.from_template(\n",
        "        \"Apologize to the customer and assure them that the issue will be addressed: {input}\"\n",
        "    )\n",
        "    chain = prompt | llm\n",
        "    response = chain.invoke({\"input\": state[\"input\"]})\n",
        "    return {\"output\": response}\n",
        "\n",
        "# Defining the agent state\n",
        "# Check how there is a change in the functions above where we have specifically used input, output and sentiment\n",
        "class AgentState(TypedDict):\n",
        "    input: str\n",
        "    output: str\n",
        "    sentiment: str\n",
        "\n",
        "# Creating the workflow\n",
        "workflow = StateGraph(AgentState)\n",
        "\n",
        "workflow.add_node(\"classify\", classify_feedback)\n",
        "workflow.add_node(\"positive_agent\", handle_positive_feedback)\n",
        "workflow.add_node(\"negative_agent\", handle_negative_feedback)\n",
        "\n",
        "workflow.add_conditional_edges(\n",
        "    \"classify\",\n",
        "    lambda x: x[\"sentiment\"],\n",
        "    {\n",
        "        \"positive\": \"positive_agent\",\n",
        "        \"negative\": \"negative_agent\"\n",
        "    }\n",
        ")\n",
        "\n",
        "workflow.set_entry_point(\"classify\")\n",
        "workflow.add_edge(\"positive_agent\", END)\n",
        "workflow.add_edge(\"negative_agent\", END)\n",
        "workflow.compile()"
      ],
      "metadata": {
        "colab": {
          "base_uri": "https://localhost:8080/",
          "height": 374
        },
        "id": "-iaOy2-Qzmza",
        "outputId": "7b17407a-6cc2-4236-84b8-54fc90a4c01d"
      },
      "execution_count": null,
      "outputs": [
        {
          "output_type": "execute_result",
          "data": {
            "text/plain": [
              "<langgraph.graph.state.CompiledStateGraph object at 0x7a3d54854250>"
            ],
            "image/png": "[encoded data removed]"
          },
          "metadata": {},
          "execution_count": 33
        }
      ]
    },
    {
      "cell_type": "code",
      "source": [
        "def get_feedback(user_input):\n",
        "  events = graph.stream(\n",
        "      {\"messages\": [(\"user\", user_input)]}, config, stream_mode=\"values\"\n",
        "  )\n",
        "\n",
        "  for event in events:\n",
        "      event[\"messages\"][-1].pretty_print()\n",
        "\n",
        "user_inputs = [\"I absolutely loved the service! The staff were friendly, and everything went smoothly. I'll definitely come back!\",\n",
        "            \"The service was slow, and the staff seemed disinterested. I had to wait much longer than expected.\",\n",
        "            \"My experience was frustrating. The website was hard to navigate, and I couldn't find the information I needed.\"]\n",
        "\n",
        "for input in user_inputs:\n",
        "  get_feedback(input)\n",
        "  print(\"\\n\")"
      ],
      "metadata": {
        "colab": {
          "base_uri": "https://localhost:8080/"
        },
        "id": "DcaXp-QRz0Di",
        "outputId": "7f56be1c-72e8-4417-e626-9195bcb766c9"
      },
      "execution_count": null,
      "outputs": [
        {
          "output_type": "stream",
          "name": "stdout",
          "text": [
            "================================\u001b[1m Human Message \u001b[0m=================================\n",
            "\n",
            "I absolutely loved the service! The staff were friendly, and everything went smoothly. I'll definitely come back!\n",
            "==================================\u001b[1m Ai Message \u001b[0m==================================\n",
            "\n",
            "I'm glad to hear that you had a great experience! If you have any specific questions or if there's anything else you'd like to share about your experience, feel free to let me know. Looking forward to assisting you again!\n",
            "\n",
            "\n",
            "================================\u001b[1m Human Message \u001b[0m=================================\n",
            "\n",
            "The service was slow, and the staff seemed disinterested. I had to wait much longer than expected.\n",
            "==================================\u001b[1m Ai Message \u001b[0m==================================\n",
            "\n",
            "I'm sorry to hear that your experience was not satisfactory. Slow service and unengaged staff can be quite frustrating. If you plan to provide feedback to the establishment, it might be helpful to mention specific details about your experience, as this can help them improve their service. If you have any other concerns or need assistance, feel free to share!\n",
            "\n",
            "\n",
            "================================\u001b[1m Human Message \u001b[0m=================================\n",
            "\n",
            "My experience was frustrating. The website was hard to navigate, and I couldn't find the information I needed.\n",
            "==================================\u001b[1m Ai Message \u001b[0m==================================\n",
            "\n",
            "I'm sorry to hear that you had a frustrating experience with the website. Difficult navigation can be very annoying, especially when you're trying to find specific information. If you have any specific feedback about the website or if there's something you were trying to find, I can assist you with that. Additionally, consider reaching out to the website's support team to provide your feedback; they may appreciate it and could improve the user experience. Let me know how I can help!\n",
            "\n",
            "\n"
          ]
        }
      ]
    }
  ]
}