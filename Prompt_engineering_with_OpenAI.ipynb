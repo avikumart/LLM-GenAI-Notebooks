{
  "nbformat": 4,
  "nbformat_minor": 0,
  "metadata": {
    "colab": {
      "provenance": [],
      "authorship_tag": "ABX9TyMJ7a4sOlZsuUc+N0FZUwW1",
      "include_colab_link": true
    },
    "kernelspec": {
      "name": "python3",
      "display_name": "Python 3"
    },
    "language_info": {
      "name": "python"
    }
  },
  "cells": [
    {
      "cell_type": "markdown",
      "metadata": {
        "id": "view-in-github",
        "colab_type": "text"
      },
      "source": [
        "<a href=\"https://colab.research.google.com/github/avikumart/LLM-GenAI-Transformers-Notebooks/blob/main/Prompt_engineering_with_OpenAI.ipynb\" target=\"_parent\"><img src=\"https://colab.research.google.com/assets/colab-badge.svg\" alt=\"Open In Colab\"/></a>"
      ]
    },
    {
      "cell_type": "code",
      "source": [
        "!pip install python-dotenv -q"
      ],
      "metadata": {
        "id": "mQKfsNSP99Sl"
      },
      "execution_count": null,
      "outputs": []
    },
    {
      "cell_type": "code",
      "execution_count": null,
      "metadata": {
        "id": "Ejy8emjj8LAD"
      },
      "outputs": [],
      "source": [
        "from openai import OpenAI\n",
        "import os\n",
        "from google.colab import userdata  # Allows accessing user data stored in Google Colab\n",
        "\n",
        "# Retrieve the OpenAI API key from the user data\n",
        "OpenAI_API = userdata.get('OPENAI_API_KEY')\n",
        "\n",
        "os.environ['OPENAI_API_KEY'] = OpenAI_API"
      ]
    },
    {
      "cell_type": "code",
      "source": [
        "# load openai model for interaction\n",
        "client = OpenAI()\n",
        "\n",
        "ChatComp = client.chat.completions.create(\n",
        "    model = \"gpt-4o\",\n",
        "    messages = [\n",
        "        {\"role\": \"system\", \"content\": \"You are a helpful assistant.\"},\n",
        "        {\"role\": \"user\", \"content\": \"Who won the world series in 2020?\"},\n",
        "    ]\n",
        ")\n",
        "\n",
        "print(ChatComp.choices[0].message)"
      ],
      "metadata": {
        "colab": {
          "base_uri": "https://localhost:8080/"
        },
        "id": "q5Njk-ZA93Fs",
        "outputId": "bb6078e5-716e-41c4-e20d-66ca410aeada"
      },
      "execution_count": null,
      "outputs": [
        {
          "output_type": "stream",
          "name": "stdout",
          "text": [
            "ChatCompletionMessage(content='The Los Angeles Dodgers won the World Series in 2020. They defeated the Tampa Bay Rays in six games to claim the championship.', refusal=None, role='assistant', audio=None, function_call=None, tool_calls=None)\n"
          ]
        }
      ]
    },
    {
      "cell_type": "code",
      "source": [
        "res1 = client.chat.completions.create(\n",
        "    model = \"gpt-3.5-turbo\",\n",
        "    messages = [\n",
        "        {\"role\": \"system\", \"content\": \"You are a helpful assistant.\"},\n",
        "        {\"role\": \"user\", \"content\": \"Who won the world series in 2020?\"},\n",
        "    ]\n",
        ")\n",
        "\n",
        "print(res1.choices[0].message)"
      ],
      "metadata": {
        "colab": {
          "base_uri": "https://localhost:8080/"
        },
        "id": "Gx_G2zR6-g0y",
        "outputId": "4ccf69bc-cbd8-4f06-c12a-e22a21abd747"
      },
      "execution_count": null,
      "outputs": [
        {
          "output_type": "stream",
          "name": "stdout",
          "text": [
            "ChatCompletionMessage(content='The Los Angeles Dodgers won the World Series in 2020. They defeated the Tampa Bay Rays to win their first championship since 1988.', refusal=None, role='assistant', audio=None, function_call=None, tool_calls=None)\n"
          ]
        }
      ]
    },
    {
      "cell_type": "markdown",
      "source": [
        "1. least to most prompting"
      ],
      "metadata": {
        "id": "ofOLfiQcIO5r"
      }
    },
    {
      "cell_type": "code",
      "source": [
        "res2 = client.chat.completions.create(\n",
        "    model = \"gpt-4o\",\n",
        "    messages  = [\n",
        "        {\"role\":\"system\", \"content\":\"you're a helpful ai assistant helping users generate suitable responses for wide range of questions in general knowledge, world and technology\"},\n",
        "        {\"role\":\"user\",\"content\":\"\"\"How many unique words are there in given statement: 'world's larget stadium is in gujarat state of india'\n",
        "                                 1. identify all words in the statement.\n",
        "         2. Determine the unique words in the statement\n",
        "         3. count all the numbers in the statement\"\"\"}\n",
        "    ]\n",
        ")\n",
        "\n",
        "print(res2.choices[0].message)"
      ],
      "metadata": {
        "colab": {
          "base_uri": "https://localhost:8080/"
        },
        "id": "g_89xqwlCvCX",
        "outputId": "7465909b-f4f4-4563-bb0e-bf8a39de11ab"
      },
      "execution_count": null,
      "outputs": [
        {
          "output_type": "stream",
          "name": "stdout",
          "text": [
            "ChatCompletionMessage(content=\"To address the tasks outlined for the given statement:\\n\\n1. **Identify all words in the statement:**\\n   The words in the statement are: \\n   - world's\\n   - largest\\n   - stadium\\n   - is\\n   - in\\n   - gujarat\\n   - state\\n   - of\\n   - india\\n\\n2. **Determine the unique words in the statement:**\\n   The unique words are simply a list where no word is repeated. From the above list, these are:\\n   - world's\\n   - largest\\n   - stadium\\n   - is\\n   - in\\n   - gujarat\\n   - state\\n   - of\\n   - india\\n\\n   Since none of the words repeat, all are unique. The total number of unique words is 9.\\n\\n3. **Count all the numbers in the statement:**\\n   There are no numerical figures in the statement. Thus, the count of numbers is 0.\", refusal=None, role='assistant', audio=None, function_call=None, tool_calls=None)\n"
          ]
        }
      ]
    },
    {
      "cell_type": "markdown",
      "source": [
        "2.  Meta prompting"
      ],
      "metadata": {
        "id": "oYwOimYkISBW"
      }
    },
    {
      "cell_type": "code",
      "source": [
        "res3 = client.chat.completions.create(\n",
        "    model = \"gpt-4o\",\n",
        "    messages = [ {\"role\":\"system\", \"content\":\"you're helpful assistant to generate new helpful prompts from given prompt\"},\n",
        "                {\"role\":\"user\",\"content\":\"\"\"Generate a detailed prompt that can help a language model write a persuasive essay.\n",
        "                The generated prompt should include instructions on structure, tone, and essential elements to be covered in the essay.\"\"\"}\n",
        "               ]\n",
        ")\n",
        "\n",
        "res3.choices[0].message"
      ],
      "metadata": {
        "colab": {
          "base_uri": "https://localhost:8080/"
        },
        "id": "mehQZHCSFe6v",
        "outputId": "c14cd045-4419-4acd-d1b9-abfdec307f22"
      },
      "execution_count": null,
      "outputs": [
        {
          "output_type": "execute_result",
          "data": {
            "text/plain": [
              "ChatCompletionMessage(content='**Prompt for Writing a Persuasive Essay**\\n\\n**Title: Crafting a Persuasive Argument**\\n\\n**Introduction:**\\n1. Begin with a compelling hook that grabs the reader’s attention. This could be a startling fact, a provocative question, or a short anecdote related to your topic.\\n2. Clearly state your thesis. This should be a strong, debatable statement that expresses your main argument.\\n3. Provide a brief overview of the points you will discuss to support your thesis.\\n\\n**Body Paragraphs:**\\n\\n- *Structure:*\\n  - **Topic Sentence:** Start each paragraph with a clear topic sentence that relates back to your thesis.\\n  - **Evidence and Examples:** Use credible sources and examples to back up your claims. This may include statistics, expert opinions, historical examples, or real-world applications.\\n  - **Explanation:** Elaborate on how the evidence supports your thesis. Make logical connections that readers can easily follow.\\n  - **Address Counterarguments:** Consider the opposing views and address them with counter-evidence or a strong rebuttal. This demonstrates a balanced and well-thought-out argument.\\n\\n- *Tone:*\\n  - Maintain a confident yet respectful tone. Be assertive in your convictions but avoid being confrontational. Use persuasive language that resonates with your audience and appeals to logic, ethics, and emotion where relevant.\\n\\n**Conclusion:**\\n1. Restate your thesis in a new light, considering the evidence and discussions presented.\\n2. Summarize the key points you made in the essay.\\n3. End with a powerful closing statement or call to action. Encourage readers to think about your perspective, act in a certain way, or consider further the importance of your topic.\\n\\n**Essential Elements:**\\n- Clarity and coherence: Ensure your essay flows logically with smooth transitions between paragraphs and ideas.\\n- Persuasive language: Use rhetorical devices, such as pathos, logos, and ethos, to strengthen your argument.\\n- Thorough research: Base your essay on well-researched and reliable information to establish credibility.\\n\\n**Additional Guidelines:**\\n- Keep your audience in mind throughout the essay. Consider their values, beliefs, and potential objections to ensure your argument is compelling and relatable.\\n- Proofread and revise your essay for grammatical accuracy, clarity, and impact before final submission.\\n\\nBy following these instructions, aim to create a persuasive essay that not only states a strong case but also engages and influences the reader effectively.', refusal=None, role='assistant', audio=None, function_call=None, tool_calls=None)"
            ]
          },
          "metadata": {},
          "execution_count": 27
        }
      ]
    },
    {
      "cell_type": "markdown",
      "source": [
        "3. One-shot prompting"
      ],
      "metadata": {
        "id": "GOMhPEOiNcj3"
      }
    },
    {
      "cell_type": "code",
      "source": [
        "res4 = client.chat.completions.create(\n",
        "    model = \"gpt-4o\",\n",
        "    messages = [ {\"role\":\"system\", \"content\":\"you're intelligent machine to classify statements based on given examples.\"},\n",
        "                {\"role\":\"user\",\"content\":\"\"\"Do the sentiment analysis as per the below guidelines:\n",
        "                Example: \"That movie was really bad to be honest --> sentiment: negative\n",
        "                Give the one word response of sentiment for below statement:\n",
        "                \"i loved to stay among mountains\"\n",
        "                \"\"\"}]\n",
        ")\n",
        "\n",
        "res4.choices[0].message"
      ],
      "metadata": {
        "colab": {
          "base_uri": "https://localhost:8080/"
        },
        "id": "xuP5B2GVIwpK",
        "outputId": "2d9e471b-7c4f-4f13-a143-de06d3c3053d"
      },
      "execution_count": null,
      "outputs": [
        {
          "output_type": "execute_result",
          "data": {
            "text/plain": [
              "ChatCompletionMessage(content='positive', refusal=None, role='assistant', audio=None, function_call=None, tool_calls=None)"
            ]
          },
          "metadata": {},
          "execution_count": 28
        }
      ]
    },
    {
      "cell_type": "markdown",
      "source": [
        "4. multi-task prompting"
      ],
      "metadata": {
        "id": "4Wb2lhCVPhCm"
      }
    },
    {
      "cell_type": "code",
      "source": [
        "res5 = client.chat.completions.create(\n",
        "    model = \"gpt-4o\",\n",
        "    messages = [ {\"role\":\"system\", \"content\":\"you're intelligent machine to help generate response from given task with multiple outputs.\"},\n",
        "                {\"role\":\"user\",\"content\":\"\"\"Analyze the sentiment of the following customer review and summarize its main points:\n",
        "                ‘I recently purchased the new smartphone model, and while I appreciate its sleek design, the battery life is disappointing, and the camera quality is subpar.’\n",
        "                \"\"\"}]\n",
        ")\n",
        "\n",
        "res5.choices[0].message"
      ],
      "metadata": {
        "colab": {
          "base_uri": "https://localhost:8080/"
        },
        "id": "YaCpeC0bNbRt",
        "outputId": "832ba742-7e57-44f6-8a46-9d282983de4b"
      },
      "execution_count": null,
      "outputs": [
        {
          "output_type": "execute_result",
          "data": {
            "text/plain": [
              "ChatCompletionMessage(content=\"Sentiment Analysis: The sentiment of the customer review is mixed, with both positive and negative aspects.\\n\\nSummary of Main Points:\\n1. Positive Aspect:\\n   - The customer appreciates the smartphone's sleek design.\\n\\n2. Negative Aspects:\\n   - The battery life of the smartphone is disappointing.\\n   - The camera quality is subpar.\", refusal=None, role='assistant', audio=None, function_call=None, tool_calls=None)"
            ]
          },
          "metadata": {},
          "execution_count": 29
        }
      ]
    },
    {
      "cell_type": "markdown",
      "source": [
        "5. role-prompting"
      ],
      "metadata": {
        "id": "mKv8kRA9Q9qQ"
      }
    },
    {
      "cell_type": "code",
      "source": [
        "res6 = client.chat.completions.create(\n",
        "    model = \"gpt-4o\",\n",
        "    messages = [ {\"role\":\"system\", \"content\":\"you're intelligent machine to help generate response from given task.\"},\n",
        "                {\"role\":\"user\",\"content\":\"\"\"As a historian, provide an overview of the causes and consequences of the Industrial Revolution.\n",
        "                Generate a long form answer.\n",
        "                \"\"\"}]\n",
        ")\n",
        "\n",
        "res6.choices[0].message"
      ],
      "metadata": {
        "colab": {
          "base_uri": "https://localhost:8080/"
        },
        "id": "fGO4zLSAP5Zb",
        "outputId": "62c96497-5425-4903-ab20-b9d8d3d3378c"
      },
      "execution_count": null,
      "outputs": [
        {
          "output_type": "execute_result",
          "data": {
            "text/plain": [
              "ChatCompletionMessage(content=\"The Industrial Revolution, which began in Great Britain in the late 18th century and spread to other parts of the world over the following decades, marked a profound transformation in the way societies operated. It altered economies, social structures, and the environment in unprecedented ways. As a historian, exploring the causes and consequences of the Industrial Revolution offers insight into how this pivotal period served as a catalyst for modernity.\\n\\n### Causes of the Industrial Revolution\\n\\n1. **Agricultural Revolution**: Before the Industrial Revolution, most of the population was engaged in agriculture. The 18th century saw significant changes in agricultural practices in Britain, often referred to as the Agricultural Revolution. Innovations such as crop rotation, selective breeding, and the use of new machinery like the seed drill increased productivity. This surplus in agricultural output reduced the labor needed on farms, allowing more people to move to urban areas to seek education and employment, providing labor for burgeoning industries.\\n\\n2. **Population Growth**: The increased food supply and improvements in living conditions contributed to a dramatic rise in population. This population boom ensured a steady supply of labor for factories and was essential for creating a domestic market for industrial goods.\\n\\n3. **Capital Availability**: Britain had accumulated capital from its overseas trade and its colonial empire. This wealth could be invested in new industrial enterprises. Entrepreneurs were willing to take risks and invest in innovations, infrastructure, and manufacturing processes.\\n\\n4. **Natural Resources**: Britain's abundance of coal and iron ore was critical. Coal provided the fuel needed to power steam engines, while iron was essential for constructing machinery, railways, and building structures.\\n\\n5. **Technological Innovations**: A series of technological advancements catalyzed industrialization. James Watt's improvements to the steam engine, the spinning jenny and power loom in textiles, and the development of the Bessemer process for steelmaking are just a few examples of innovations that spurred industrial growth.\\n\\n6. **Transportation Networks**: Improved infrastructure, such as canals, railways, and roads, facilitated the efficient movement of goods and raw materials. This internal connectivity enhanced trade and logistics, supporting industrial growth.\\n\\n7. **Political Stability and Freedom of Trade**: Britain enjoyed relative political stability and the government's laissez-faire approach allowed businesses to operate with minimal regulation. Additionally, British colonial policies and its naval power ensured access to international markets.\\n\\n### Consequences of the Industrial Revolution\\n\\n1. **Economic Transformation**: The shift from agrarian economies to industrialized ones marked a significant change. This period saw the rise of factory-based production, leading to the concepts of mass production and economies of scale. Traditional crafts and small workshops were gradually overshadowed by large industrial sectors. Capitalism and the factory system became dominant, fostering economic growth but also intensifying class divisions.\\n\\n2. **Urbanization**: The increase in industrial activity was accompanied by massive urban migration as people moved from rural areas to cities in search of work. This led to rapid urbanization, with cities growing in size and number. The urban experience was mixed; while cities became centers of culture and economic activity, they also suffered from overcrowding, sanitation issues, and inadequate infrastructure.\\n\\n3. **Social Changes**: The Industrial Revolution had a profound impact on social structures. It led to the emergence of distinct social classes, particularly the industrial middle class, known as the bourgeoisie, and the working class or proletariat. Labor conditions were often harsh, with long hours, low wages, and unsafe working environments, which eventually led to labor movements and demands for reforms.\\n\\n4. **Technological Progress and Innovation**: The revolution stimulated innovation and technological progress, accelerating advancements in areas such as transportation (railways, steamships), communication (the telegraph), and manufacturing processes. These technologies fundamentally altered daily life and global socioeconomic structures.\\n\\n5. **Global Trade and Colonial Expansion**: Industrialization bolstered European powers, enabling them to expand their empires and trade networks. The demand for raw materials and new markets for industrial products fueled colonialism and intensified global trade relationships.\\n\\n6. **Environmental Impact**: The Industrial Revolution marked the beginning of significant environmental changes due to industrial activity. The reliance on coal as a primary energy source led to deforestation, air pollution, and other environmental challenges, issues that have persisted and evolved into modern concerns about climate change.\\n\\n7. **Impact on Labor and Society**: The conditions of factory workers spurred the growth of labor unions and movements advocating for rights, leading to legislative changes. This included laws regulating child labor, reducing working hours, and improving workplace safety, setting the stage for modern labor rights.\\n\\n8. **Cultural and Intellectual Impacts**: The period saw shifts in cultural norms and attitudes. The challenges of a rapidly changing society prompted intellectual responses, ranging from romanticism, which emphasized emotion and nature, to socialism and Marxism, which critiqued capitalism and proposed alternatives focusing on equity and collective ownership.\\n\\nOverall, the Industrial Revolution was a multifaceted event with causes deeply rooted in economic, social, and technological arenas. Its impacts reshaped every aspect of human life, ushering in a new age that laid the foundations for the contemporary world. It remains a pivotal study in understanding the trajectories of economic development, technological innovation, and their intertwined relationship with society.\", refusal=None, role='assistant', audio=None, function_call=None, tool_calls=None)"
            ]
          },
          "metadata": {},
          "execution_count": 30
        }
      ]
    },
    {
      "cell_type": "markdown",
      "source": [
        "6. task-specific prompting"
      ],
      "metadata": {
        "id": "w-bYRNoeShGk"
      }
    },
    {
      "cell_type": "code",
      "source": [
        "res7 = client.chat.completions.create(\n",
        "    model = \"gpt-4o\",\n",
        "    messages = [ {\"role\":\"system\", \"content\":\"you're intelligent machine to help generate response from given task.\"},\n",
        "                {\"role\":\"user\",\"content\":\"\"\"Task: Code Debugging\n",
        "Analyze the following Python code snippet and identify any bugs or inefficiencies.\n",
        "Your analysis should:\n",
        "1. Clearly describe what the code is intended to do.\n",
        "2. Point out any issues or errors in the code, explaining why they occur.\n",
        "3. Suggest solutions or improvements to fix the issues or optimize the code.\n",
        "4. Provide a corrected or improved version of the code, if applicable.\n",
        "\n",
        "Code:\n",
        "def calculate_average(numbers):\n",
        "total = 0\n",
        "for i in range(len(numbers)):\n",
        "total += numbers[i]\n",
        "return total / len(numbers)\n",
        "Analysis:\n",
        "\"\"\"}]\n",
        ")\n",
        "\n",
        "res7.choices[0].message"
      ],
      "metadata": {
        "colab": {
          "base_uri": "https://localhost:8080/"
        },
        "id": "b0V3EaakRM4W",
        "outputId": "14dbb694-6d76-409c-8614-71c6eaf9a36d"
      },
      "execution_count": null,
      "outputs": [
        {
          "output_type": "execute_result",
          "data": {
            "text/plain": [
              "ChatCompletionMessage(content='1. **Intended Functionality:**\\n   The code is intended to calculate the average of a list of numbers. It sums up all the numbers in the list and then divides the total by the number of elements to find the average.\\n\\n2. **Issues or Errors:**\\n   - **Indentation Error:** The function has an indentation error. The lines inside the function should be indented to be part of the function body. In Python, indentation is crucial to define blocks of code.\\n\\n   - **Inefficiency in Iteration:** The loop `for i in range(len(numbers)):` iterates over numbers using their indices, which is less Pythonic. A more efficient approach is to iterate directly over the list elements.\\n\\n   - **Division by Zero:** The code does not handle cases where the input list `numbers` might be empty. If an empty list is passed, the code will attempt to divide by zero, resulting in a runtime error.\\n\\n   - **Input Validation:** The code does not validate whether the elements in the list are indeed numbers, which could lead to unexpected errors if non-numeric inputs are present.\\n\\n3. **Suggestions and Improvements:**\\n   - Fix the indentation to ensure the code inside the function is properly aligned.\\n   - Use a for-each loop to iterate directly over the elements in the list.\\n   - Add a check for an empty list to prevent division by zero.\\n   - Optionally, add input validation to ensure all elements are numeric.\\n\\n4. **Corrected Version of the Code:**\\n```python\\ndef calculate_average(numbers):\\n    if len(numbers) == 0:\\n        return 0  # Or return a message indicating the list is empty\\n\\n    total = 0\\n    for number in numbers:\\n        if not isinstance(number, (int, float)):  # Optional validation\\n            raise ValueError(\"List must contain only numbers.\")\\n\\n        total += number\\n\\n    return total / len(numbers)\\n```\\n\\n**Explanation of Corrections:**\\n- Indentation is fixed to ensure code within the function is correctly indented.\\n- Changed the loop to `for number in numbers:` to iterate directly over the list elements.\\n- Added a check for an empty list at the beginning to avoid division by zero.\\n- Included optional type validation to ensure that all elements in the list are numbers, raising a `ValueError` if any are not.', refusal=None, role='assistant', audio=None, function_call=None, tool_calls=None)"
            ]
          },
          "metadata": {},
          "execution_count": 31
        }
      ]
    },
    {
      "cell_type": "markdown",
      "source": [
        "7. few-shot prompting"
      ],
      "metadata": {
        "id": "FgJvrKqPXoAN"
      }
    },
    {
      "cell_type": "code",
      "source": [
        "res8 = client.chat.completions.create(\n",
        "    model = \"gpt-4o\",\n",
        "    messages = [{\"role\":\"system\", \"content\":\"you're intelligent machine to help generate response from given task.\"},\n",
        "                {\"role\":\"user\",\"content\":\"Analyze the sentiment of the given statement based on examples.\"},\n",
        "                {\"role\":\"assistant\", \"content\":\"sure, please give me examples\"},\n",
        "                {\"role\":\"user\", \"content\":\"\"\"1. I had bought the headphones which really good. --> sentiment: POSITIVE\n",
        "                2. That movie was really bad. --> NEGATIVE\n",
        "                Then, what's the sentiment of below statement.\n",
        "                'i had worst experience with indigo airlines'\"\"\"\n",
        "                }\n",
        "                ]\n",
        ")\n",
        "\n",
        "res8.choices[0].message"
      ],
      "metadata": {
        "colab": {
          "base_uri": "https://localhost:8080/"
        },
        "id": "N1xlN5hBSuzx",
        "outputId": "6c2a8bbb-a9e7-4efa-8938-9f1e0db70e13"
      },
      "execution_count": null,
      "outputs": [
        {
          "output_type": "execute_result",
          "data": {
            "text/plain": [
              "ChatCompletionMessage(content='The sentiment of the statement \"i had worst experience with indigo airlines\" is NEGATIVE.', refusal=None, role='assistant', audio=None, function_call=None, tool_calls=None)"
            ]
          },
          "metadata": {},
          "execution_count": 32
        }
      ]
    },
    {
      "cell_type": "code",
      "source": [],
      "metadata": {
        "id": "6D_75wLoZUsK"
      },
      "execution_count": null,
      "outputs": []
    }
  ]
}