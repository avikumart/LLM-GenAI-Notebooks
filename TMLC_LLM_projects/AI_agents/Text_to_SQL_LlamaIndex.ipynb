{
  "nbformat": 4,
  "nbformat_minor": 0,
  "metadata": {
    "colab": {
      "provenance": [],
      "include_colab_link": true
    },
    "kernelspec": {
      "name": "python3",
      "display_name": "Python 3"
    },
    "language_info": {
      "name": "python"
    }
  },
  "cells": [
    {
      "cell_type": "markdown",
      "metadata": {
        "id": "view-in-github",
        "colab_type": "text"
      },
      "source": [
        "<a href=\"https://colab.research.google.com/github/avikumart/LLM-GenAI-Transformers-Notebooks/blob/main/TMLC_LLM_projects/AI_agents/Text_to_SQL_LlamaIndex.ipynb\" target=\"_parent\"><img src=\"https://colab.research.google.com/assets/colab-badge.svg\" alt=\"Open In Colab\"/></a>"
      ]
    },
    {
      "cell_type": "markdown",
      "source": [
        "## Installing Libraries"
      ],
      "metadata": {
        "id": "XTlJZgVZi3_N"
      }
    },
    {
      "cell_type": "code",
      "execution_count": 1,
      "metadata": {
        "colab": {
          "base_uri": "https://localhost:8080/"
        },
        "collapsed": true,
        "id": "gIC0PLSCTztm",
        "outputId": "4575fb20-5260-4abf-8887-2cd2c811435e"
      },
      "outputs": [
        {
          "output_type": "stream",
          "name": "stdout",
          "text": [
            "\u001b[2K   \u001b[90m━━━━━━━━━━━━━━━━━━━━━━━━━━━━━━━━━━━━━━━━\u001b[0m \u001b[32m1.6/1.6 MB\u001b[0m \u001b[31m25.4 MB/s\u001b[0m eta \u001b[36m0:00:00\u001b[0m\n",
            "\u001b[2K   \u001b[90m━━━━━━━━━━━━━━━━━━━━━━━━━━━━━━━━━━━━━━━━\u001b[0m \u001b[32m253.0/253.0 kB\u001b[0m \u001b[31m21.3 MB/s\u001b[0m eta \u001b[36m0:00:00\u001b[0m\n",
            "\u001b[2K   \u001b[90m━━━━━━━━━━━━━━━━━━━━━━━━━━━━━━━━━━━━━━━━\u001b[0m \u001b[32m300.7/300.7 kB\u001b[0m \u001b[31m26.7 MB/s\u001b[0m eta \u001b[36m0:00:00\u001b[0m\n",
            "\u001b[2K   \u001b[90m━━━━━━━━━━━━━━━━━━━━━━━━━━━━━━━━━━━━━━━━\u001b[0m \u001b[32m1.2/1.2 MB\u001b[0m \u001b[31m70.6 MB/s\u001b[0m eta \u001b[36m0:00:00\u001b[0m\n",
            "\u001b[2K   \u001b[90m━━━━━━━━━━━━━━━━━━━━━━━━━━━━━━━━━━━━━━━━\u001b[0m \u001b[32m50.9/50.9 kB\u001b[0m \u001b[31m4.8 MB/s\u001b[0m eta \u001b[36m0:00:00\u001b[0m\n",
            "\u001b[?25h"
          ]
        }
      ],
      "source": [
        "!pip install llama-index llama-index-llms-openai openai sqlalchemy -q"
      ]
    },
    {
      "cell_type": "code",
      "source": [
        "import os\n",
        "from google.colab import userdata\n",
        "os.environ[\"OPENAI_API_KEY\"] = userdata.get('OPENAI_API_KEY')"
      ],
      "metadata": {
        "id": "cHCymmu9Z2U9"
      },
      "execution_count": 2,
      "outputs": []
    },
    {
      "cell_type": "markdown",
      "source": [
        "## Generate DB"
      ],
      "metadata": {
        "id": "sSlEXwibi7XH"
      }
    },
    {
      "cell_type": "code",
      "source": [
        "from sqlalchemy import create_engine,MetaData,Table,Column,String,Integer,select,Boolean,Date,Float"
      ],
      "metadata": {
        "id": "X8sehEf0aA9k"
      },
      "execution_count": 3,
      "outputs": []
    },
    {
      "cell_type": "code",
      "source": [
        "# Create an in-memory SQLite database engine using SQLAlchemy's create_engine function.\n",
        "# The ':memory:' argument indicates that the database is temporary and stored in RAM.\n",
        "engine = create_engine(\"sqlite:///:memory:\")\n",
        "\n",
        "# Initialize a MetaData object, which will hold the schema definitions for the database.\n",
        "# MetaData is used to track information about tables, columns, constraints, etc.\n",
        "metadata_obj = MetaData()"
      ],
      "metadata": {
        "id": "ZOJzVYXFaRH7"
      },
      "execution_count": 4,
      "outputs": []
    },
    {
      "cell_type": "code",
      "source": [
        "# Define the 'employee' table using SQLAlchemy's Table function.\n",
        "employee_table = Table(\n",
        "    \"employee\",  # Table name\n",
        "    metadata_obj,  # The metadata object that will track the table schema\n",
        "    Column(\"employee_id\", Integer, primary_key=True),  # Unique ID for each employee, primary key\n",
        "    Column(\"first_name\", String(50), nullable=False),  # First name of the employee, required field\n",
        "    Column(\"last_name\", String(50), nullable=False),  # Last name of the employee, required field\n",
        "    Column(\"email\", String(100), unique=True),  # Email, must be unique for each employee\n",
        "    Column(\"phone_number\", String(15)),  # Phone number, optional field\n",
        "    Column(\"hire_date\", Date, nullable=False),  # Date of hiring, required field\n",
        "    Column(\"job_title\", String(50)),  # Job title of the employee, optional field\n",
        "    Column(\"salary\", Float),  # Employee's salary, optional field\n",
        "    Column(\"is_manager\", Boolean, default=False),  # Boolean indicating if the employee is a manager, default is False\n",
        ")\n",
        "\n",
        "# Create the 'employee' table in the database associated with the engine.\n",
        "metadata_obj.create_all(engine)"
      ],
      "metadata": {
        "id": "SSLnvvIJaThr"
      },
      "execution_count": 5,
      "outputs": []
    },
    {
      "cell_type": "code",
      "source": [
        "# SQLDatabase will be used to interact with a SQL database\n",
        "from llama_index.core import SQLDatabase\n",
        "from llama_index.llms.openai import OpenAI\n",
        "\n",
        "llm = OpenAI(temperature=0.1, model=\"gpt-4o-mini\")\n",
        "\n",
        "# The 'include_tables' argument ensures that only the \"employee\" table is considered for querying.\n",
        "sql_database = SQLDatabase(engine, include_tables=[\"employee\"])"
      ],
      "metadata": {
        "id": "0QD_zg3ga95O"
      },
      "execution_count": 7,
      "outputs": []
    },
    {
      "cell_type": "code",
      "source": [
        "from sqlalchemy import insert\n",
        "from datetime import date\n",
        "\n",
        "# Define a list of dictionaries representing rows to insert into the 'employee' table.\n",
        "# Each dictionary contains the details of an employee such as their ID, name, email, etc.\n",
        "rows = [\n",
        "    {\n",
        "        \"employee_id\": 1,\n",
        "        \"first_name\": \"Alice\",\n",
        "        \"last_name\": \"Johnson\",\n",
        "        \"email\": \"alice.johnson@example.com\",\n",
        "        \"phone_number\": \"123-456-7890\",\n",
        "        \"hire_date\": date(2021, 6, 15),\n",
        "        \"job_title\": \"Software Developer\",\n",
        "        \"salary\": 85000.0,\n",
        "        \"is_manager\": False,\n",
        "    },\n",
        "    {\n",
        "        \"employee_id\": 2,\n",
        "        \"first_name\": \"Bob\",\n",
        "        \"last_name\": \"Smith\",\n",
        "        \"email\": \"bob.smith@example.com\",\n",
        "        \"phone_number\": \"987-654-3210\",\n",
        "        \"hire_date\": date(2020, 3, 10),\n",
        "        \"job_title\": \"Project Manager\",\n",
        "        \"salary\": 120000.0,\n",
        "        \"is_manager\": True,\n",
        "    },\n",
        "    {\n",
        "        \"employee_id\": 3,\n",
        "        \"first_name\": \"Charlie\",\n",
        "        \"last_name\": \"Brown\",\n",
        "        \"email\": \"charlie.brown@example.com\",\n",
        "        \"phone_number\": \"555-123-4567\",\n",
        "        \"hire_date\": date(2019, 11, 1),\n",
        "        \"job_title\": \"Data Scientist\",\n",
        "        \"salary\": 95000.0,\n",
        "        \"is_manager\": False,\n",
        "    },\n",
        "    {\n",
        "        \"employee_id\": 4,\n",
        "        \"first_name\": \"Diana\",\n",
        "        \"last_name\": \"Prince\",\n",
        "        \"email\": \"diana.prince@example.com\",\n",
        "        \"phone_number\": \"333-444-5555\",\n",
        "        \"hire_date\": date(2022, 7, 20),\n",
        "        \"job_title\": \"HR Specialist\",\n",
        "        \"salary\": 70000.0,\n",
        "        \"is_manager\": False,\n",
        "    },\n",
        "    {\n",
        "        \"employee_id\": 5,\n",
        "        \"first_name\": \"Evan\",\n",
        "        \"last_name\": \"Taylor\",\n",
        "        \"email\": \"evan.taylor@example.com\",\n",
        "        \"phone_number\": \"222-333-4444\",\n",
        "        \"hire_date\": date(2023, 1, 5),\n",
        "        \"job_title\": \"Marketing Analyst\",\n",
        "        \"salary\": 65000.0,\n",
        "        \"is_manager\": False,\n",
        "    },\n",
        "]\n",
        "\n",
        "# Loop over each row in the 'rows' list to insert data into the employee_table.\n",
        "for row in rows:\n",
        "    # Create an insert statement for the employee_table with the data from each row.\n",
        "    alchemy_query = insert(employee_table).values(**row)\n",
        "\n",
        "    # Execute the insert statement within a transaction block.\n",
        "    # 'engine.begin()' ensures that the database connection is committed or rolled back correctly.\n",
        "    with engine.begin() as connection:\n",
        "        cursor = connection.execute(alchemy_query)  # Execute the insert statement on the connection"
      ],
      "metadata": {
        "id": "7fN2e7WHbEc1"
      },
      "execution_count": 8,
      "outputs": []
    },
    {
      "cell_type": "code",
      "source": [
        "# Sample data read\n",
        "alchemy_query = select(\n",
        "    employee_table.c.employee_id,\n",
        "    employee_table.c.first_name,\n",
        "    employee_table.c.last_name\n",
        ").select_from(employee_table)\n",
        "\n",
        "with engine.connect() as connection:\n",
        "    results = connection.execute(alchemy_query).fetchall()\n",
        "    print(results)"
      ],
      "metadata": {
        "colab": {
          "base_uri": "https://localhost:8080/"
        },
        "id": "bLGG6rOWcWL9",
        "outputId": "680392fa-a23f-48b4-c164-819131474379"
      },
      "execution_count": 9,
      "outputs": [
        {
          "output_type": "stream",
          "name": "stdout",
          "text": [
            "[(1, 'Alice', 'Johnson'), (2, 'Bob', 'Smith'), (3, 'Charlie', 'Brown'), (4, 'Diana', 'Prince'), (5, 'Evan', 'Taylor')]\n"
          ]
        }
      ]
    },
    {
      "cell_type": "code",
      "source": [
        "# Sample data read with SQL query like format\n",
        "from sqlalchemy import text\n",
        "\n",
        "with engine.connect() as connection:\n",
        "    rows = connection.execute(text(\"SELECT employee_id from employee\"))\n",
        "    for row in rows:\n",
        "        print(row)"
      ],
      "metadata": {
        "colab": {
          "base_uri": "https://localhost:8080/"
        },
        "id": "lu9kGcpvcmpV",
        "outputId": "03935817-5a0a-4487-d347-514c29f143a1"
      },
      "execution_count": 10,
      "outputs": [
        {
          "output_type": "stream",
          "name": "stdout",
          "text": [
            "(1,)\n",
            "(2,)\n",
            "(3,)\n",
            "(4,)\n",
            "(5,)\n"
          ]
        }
      ]
    },
    {
      "cell_type": "markdown",
      "source": [
        "After building the SQL database, we can utilize the NLSQLTableQueryEngine to create natural language queries, which are then converted into SQL queries. It's important to specify the tables we want the query engine to focus on. If we don't specify them, the engine will pull the entire schema context, which could exceed the context window of the LLM."
      ],
      "metadata": {
        "id": "bDrVDaC6eCTW"
      }
    },
    {
      "cell_type": "markdown",
      "source": [
        "## Natural Language to SQL Query Engine (NLSQL)"
      ],
      "metadata": {
        "id": "GQYUVJzdjUIG"
      }
    },
    {
      "cell_type": "code",
      "source": [
        "from llama_index.core.query_engine import NLSQLTableQueryEngine\n",
        "\n",
        "query_engine = NLSQLTableQueryEngine(\n",
        "    sql_database=sql_database,  # The SQL database object containing the employee table\n",
        "    tables=[\"employee\"],  # The list of tables to query from (in this case, just \"employee\")\n",
        "    llm=llm\n",
        ")\n",
        "\n",
        "# Define a query that asks how many employees have a salary greater than 70,000.\n",
        "query_str = \"How many employees have salary greater than 70000?\"\n",
        "\n",
        "# Use the query engine to process the query and get the response.\n",
        "response = query_engine.query(query_str)\n",
        "\n",
        "# Display the response returned by the query engine (e.g., the answer to the query).\n",
        "display(response)"
      ],
      "metadata": {
        "colab": {
          "base_uri": "https://localhost:8080/",
          "height": 160
        },
        "id": "fU2yLTbIcwo-",
        "outputId": "8bf8e3b8-e8b7-4547-f644-eb288929097a"
      },
      "execution_count": 11,
      "outputs": [
        {
          "output_type": "display_data",
          "data": {
            "text/plain": [
              "Response(response='There are 3 employees with a salary greater than $70,000.', source_nodes=[NodeWithScore(node=TextNode(id_='cc0d8ee8-8865-4d11-983e-206b3cbc7f5f', embedding=None, metadata={'sql_query': 'SELECT COUNT(*) AS employee_count FROM employee WHERE salary > 70000;', 'result': [(3,)], 'col_keys': ['employee_count']}, excluded_embed_metadata_keys=['sql_query', 'result', 'col_keys'], excluded_llm_metadata_keys=['sql_query', 'result', 'col_keys'], relationships={}, metadata_template='{key}: {value}', metadata_separator='\\n', text='[(3,)]', mimetype='text/plain', start_char_idx=None, end_char_idx=None, metadata_seperator='\\n', text_template='{metadata_str}\\n\\n{content}'), score=None)], metadata={'cc0d8ee8-8865-4d11-983e-206b3cbc7f5f': {'sql_query': 'SELECT COUNT(*) AS employee_count FROM employee WHERE salary > 70000;', 'result': [(3,)], 'col_keys': ['employee_count']}, 'sql_query': 'SELECT COUNT(*) AS employee_count FROM employee WHERE salary > 70000;', 'result': [(3,)], 'col_keys': ['employee_count']})"
            ]
          },
          "metadata": {}
        }
      ]
    },
    {
      "cell_type": "code",
      "source": [
        "# To get the response\n",
        "print(response.response)\n",
        "\n",
        "# To get the result of sql query\n",
        "print(response.metadata[\"result\"])"
      ],
      "metadata": {
        "colab": {
          "base_uri": "https://localhost:8080/"
        },
        "id": "fJsrdsA8mqzg",
        "outputId": "d5ae93c9-ebff-42bd-ecdc-a81b35ef1632"
      },
      "execution_count": 12,
      "outputs": [
        {
          "output_type": "stream",
          "name": "stdout",
          "text": [
            "There are 3 employees with a salary greater than $70,000.\n",
            "[(3,)]\n"
          ]
        }
      ]
    },
    {
      "cell_type": "markdown",
      "source": [
        "If we're unsure in advance which table to use, and the full schema size exceeds the context window of the model, it's best to store the table schema in an index. This way, we can retrieve the appropriate schema during query execution.\n",
        "\n",
        "To achieve this, we can use the SQLTableNodeMapping object, which takes a SQLDatabase and generates a Node object for each SQLTableSchema object. These nodes are then passed into the ObjectIndex constructor for indexing and retrieval."
      ],
      "metadata": {
        "id": "QKpCQcJEd_iF"
      }
    },
    {
      "cell_type": "markdown",
      "source": [
        "## NLSQL with Table Schema stored in a Index"
      ],
      "metadata": {
        "id": "P-G43jWHjb83"
      }
    },
    {
      "cell_type": "code",
      "source": [
        "from llama_index.core.indices.struct_store.sql_query import SQLTableRetrieverQueryEngine\n",
        "from llama_index.core.objects import SQLTableNodeMapping,ObjectIndex,SQLTableSchema\n",
        "from llama_index.core import VectorStoreIndex\n",
        "\n",
        "# manually set context text for the table\n",
        "context_str = (\n",
        "    \"This table gives information regarding the employees of the organization\"\n",
        ")\n",
        "\n",
        "table_node_mapping = SQLTableNodeMapping(sql_database)\n",
        "table_schema_objs = [\n",
        "    (SQLTableSchema(table_name=\"employee\",context_str=context_str))\n",
        "]  # add a SQLTableSchema if more tables are present\n",
        "\n",
        "obj_index = ObjectIndex.from_objects(\n",
        "    table_schema_objs,\n",
        "    table_node_mapping,\n",
        "    VectorStoreIndex,\n",
        ")\n",
        "\n",
        "query_engine = SQLTableRetrieverQueryEngine(\n",
        "    sql_database, obj_index.as_retriever(similarity_top_k=1)\n",
        ")"
      ],
      "metadata": {
        "id": "WdX3iNjoc93K"
      },
      "execution_count": 13,
      "outputs": []
    },
    {
      "cell_type": "code",
      "source": [
        "response = query_engine.query(\"Who are the employees have salary greater than 70000?\")\n",
        "display(response)"
      ],
      "metadata": {
        "colab": {
          "base_uri": "https://localhost:8080/",
          "height": 231
        },
        "id": "JiPj8lNfeN1l",
        "outputId": "2025c45e-ec5d-4719-95b0-c9c8bd84f6c1"
      },
      "execution_count": 14,
      "outputs": [
        {
          "output_type": "display_data",
          "data": {
            "text/plain": [
              "Response(response='The employees with a salary greater than $70,000 are Bob Smith with a salary of $120,000, Charlie Brown with a salary of $95,000, and Alice Johnson with a salary of $85,000.', source_nodes=[NodeWithScore(node=TextNode(id_='e6c02732-937f-456f-b986-1d79af664688', embedding=None, metadata={'sql_query': 'SELECT first_name, last_name, salary\\nFROM employee\\nWHERE salary > 70000\\nORDER BY salary DESC;', 'result': [('Bob', 'Smith', 120000.0), ('Charlie', 'Brown', 95000.0), ('Alice', 'Johnson', 85000.0)], 'col_keys': ['first_name', 'last_name', 'salary']}, excluded_embed_metadata_keys=['sql_query', 'result', 'col_keys'], excluded_llm_metadata_keys=['sql_query', 'result', 'col_keys'], relationships={}, metadata_template='{key}: {value}', metadata_separator='\\n', text=\"[('Bob', 'Smith', 120000.0), ('Charlie', 'Brown', 95000.0), ('Alice', 'Johnson', 85000.0)]\", mimetype='text/plain', start_char_idx=None, end_char_idx=None, metadata_seperator='\\n', text_template='{metadata_str}\\n\\n{content}'), score=None)], metadata={'e6c02732-937f-456f-b986-1d79af664688': {'sql_query': 'SELECT first_name, last_name, salary\\nFROM employee\\nWHERE salary > 70000\\nORDER BY salary DESC;', 'result': [('Bob', 'Smith', 120000.0), ('Charlie', 'Brown', 95000.0), ('Alice', 'Johnson', 85000.0)], 'col_keys': ['first_name', 'last_name', 'salary']}, 'sql_query': 'SELECT first_name, last_name, salary\\nFROM employee\\nWHERE salary > 70000\\nORDER BY salary DESC;', 'result': [('Bob', 'Smith', 120000.0), ('Charlie', 'Brown', 95000.0), ('Alice', 'Johnson', 85000.0)], 'col_keys': ['first_name', 'last_name', 'salary']})"
            ]
          },
          "metadata": {}
        }
      ]
    },
    {
      "cell_type": "code",
      "source": [
        "response.response"
      ],
      "metadata": {
        "colab": {
          "base_uri": "https://localhost:8080/",
          "height": 53
        },
        "id": "IcRAbgBheZSd",
        "outputId": "a35c9ac9-e8cf-42f8-edb5-8b7b70989eaf"
      },
      "execution_count": 15,
      "outputs": [
        {
          "output_type": "execute_result",
          "data": {
            "text/plain": [
              "'The employees with a salary greater than $70,000 are Bob Smith with a salary of $120,000, Charlie Brown with a salary of $95,000, and Alice Johnson with a salary of $85,000.'"
            ],
            "application/vnd.google.colaboratory.intrinsic+json": {
              "type": "string"
            }
          },
          "metadata": {},
          "execution_count": 15
        }
      ]
    },
    {
      "cell_type": "code",
      "source": [
        "response.metadata[\"result\"]"
      ],
      "metadata": {
        "colab": {
          "base_uri": "https://localhost:8080/"
        },
        "id": "hZHD-dxYeabO",
        "outputId": "aaf561ac-2895-4fac-c3b3-47cfeabd5f61"
      },
      "execution_count": 16,
      "outputs": [
        {
          "output_type": "execute_result",
          "data": {
            "text/plain": [
              "[('Bob', 'Smith', 120000.0),\n",
              " ('Charlie', 'Brown', 95000.0),\n",
              " ('Alice', 'Johnson', 85000.0)]"
            ]
          },
          "metadata": {},
          "execution_count": 16
        }
      ]
    }
  ]
}