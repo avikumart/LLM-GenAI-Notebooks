{
  "nbformat": 4,
  "nbformat_minor": 0,
  "metadata": {
    "colab": {
      "provenance": [],
      "include_colab_link": true
    },
    "kernelspec": {
      "name": "python3",
      "display_name": "Python 3"
    },
    "language_info": {
      "name": "python"
    }
  },
  "cells": [
    {
      "cell_type": "markdown",
      "metadata": {
        "id": "view-in-github",
        "colab_type": "text"
      },
      "source": [
        "<a href=\"https://colab.research.google.com/github/avikumart/LLM-GenAI-Transformers-Notebooks/blob/main/TMLC_LLM_projects/Basic_Prompt_Engineering_Techniques_OpenAI.ipynb\" target=\"_parent\"><img src=\"https://colab.research.google.com/assets/colab-badge.svg\" alt=\"Open In Colab\"/></a>"
      ]
    },
    {
      "cell_type": "code",
      "execution_count": 1,
      "metadata": {
        "collapsed": true,
        "id": "e2YogrNA9MkM"
      },
      "outputs": [],
      "source": [
        "!pip install openai -q"
      ]
    },
    {
      "cell_type": "code",
      "source": [
        "import os\n",
        "from openai import OpenAI\n",
        "\n",
        "from google.colab import userdata\n",
        "OpenAI_API = userdata.get('OPENAI_API_KEY')\n",
        "\n",
        "os.environ['OPENAI_API_KEY'] = OpenAI_API"
      ],
      "metadata": {
        "id": "N3Z3tdb69qHV"
      },
      "execution_count": 2,
      "outputs": []
    },
    {
      "cell_type": "code",
      "source": [
        "client = OpenAI()"
      ],
      "metadata": {
        "id": "-8j6i9dP-Fv-"
      },
      "execution_count": 3,
      "outputs": []
    },
    {
      "cell_type": "markdown",
      "source": [
        "## zero-shot prompting"
      ],
      "metadata": {
        "id": "mQ0_Xq0-COFu"
      }
    },
    {
      "cell_type": "code",
      "source": [
        "def zero_shot_prompt(prompt):\n",
        "    \"\"\"Demonstrate zero-shot prompting.\"\"\"\n",
        "\n",
        "    response = client.chat.completions.create(\n",
        "        model=\"gpt-4o-mini\",\n",
        "        messages=[\n",
        "          {\"role\": \"user\", \"content\": prompt}\n",
        "        ]\n",
        "    )\n",
        "    print(\"Zero-shot Prompting:\\n\", response.choices[0].message.content)\n",
        "\n",
        "zero_shot_prompt(\"Explain the concept of quantum computing in simple terms.\")"
      ],
      "metadata": {
        "colab": {
          "base_uri": "https://localhost:8080/"
        },
        "id": "20K3cPfPCG7-",
        "outputId": "62311bc2-dcf4-452a-fe67-75d2e0bec371"
      },
      "execution_count": 4,
      "outputs": [
        {
          "output_type": "stream",
          "name": "stdout",
          "text": [
            "Zero-shot Prompting:\n",
            " Sure! Quantum computing is a new type of computing that takes advantage of the strange and fascinating rules of quantum mechanics, which is the science of very small things like atoms and particles.\n",
            "\n",
            "Here’s a simple breakdown:\n",
            "\n",
            "1. **Bits vs. Qubits**: Traditional computers use bits as the smallest units of information, which can be either 0 or 1. Quantum computers use \"qubits,\" which can be 0, 1, or both at the same time! This ability comes from a property called superposition.\n",
            "\n",
            "2. **Superposition**: Because qubits can exist in multiple states at once, a quantum computer can process a vast amount of information simultaneously. Imagine flipping a coin; while it's spinning, it's not just heads or tails—it's in a state of both until you stop it.\n",
            "\n",
            "3. **Entanglement**: Qubits can be linked together through a phenomenon called entanglement. When qubits are entangled, the state of one instantly influences the state of another, no matter how far apart they are. This allows quantum computers to work on problems in ways that traditional computers cannot.\n",
            "\n",
            "4. **Quantum Gates**: Just like traditional computers use logic gates to perform calculations on bits, quantum computers use quantum gates to manipulate qubits. These gates allow the qubits to interact through quantum operations, enabling complex computations.\n",
            "\n",
            "5. **Speed and Power**: Because of superposition and entanglement, quantum computers can solve certain problems much faster than classical computers. For example, they could tackle complex problems in cryptography, drug discovery, and optimization much more efficiently.\n",
            "\n",
            "Overall, quantum computing is like a supercharged version of computing that could solve problems that are currently impossible or take an impractical amount of time on traditional computers. However, this technology is still in its early stages and has many challenges to overcome before it becomes widely used.\n"
          ]
        }
      ]
    },
    {
      "cell_type": "markdown",
      "source": [
        "## one-shot prompting"
      ],
      "metadata": {
        "id": "OM11jqSyD9jc"
      }
    },
    {
      "cell_type": "code",
      "source": [
        "def few_shot_prompt(prompt):\n",
        "    \"\"\"Demonstrate few-shot prompting.\"\"\"\n",
        "\n",
        "    response = client.chat.completions.create(\n",
        "        model=\"gpt-4o-mini\",\n",
        "        messages=[\n",
        "          {\"role\": \"user\", \"content\": prompt}\n",
        "        ]\n",
        "    )\n",
        "    print(\"Few-shot Prompting:\\n\", response.choices[0].message.content)\n",
        "\n",
        "prompt = (\n",
        "        \"Translate the following English phrases to French:\\n\"\n",
        "        \"English: Hello, how are you?\\n\"\n",
        "        \"French: Bonjour, comment ça va?\\n\"\n",
        "        \"English: What is your name?\\n\"\n",
        "        \"French: Comment vous appelez-vous?\\n\"\n",
        "        \"English: Where is the library?\\n\"\n",
        "        \"French:\")\n",
        "\n",
        "few_shot_prompt(prompt)"
      ],
      "metadata": {
        "colab": {
          "base_uri": "https://localhost:8080/"
        },
        "id": "U1M-D-itCRXV",
        "outputId": "60bed045-ae0a-4da2-c413-0d582e826edb"
      },
      "execution_count": 5,
      "outputs": [
        {
          "output_type": "stream",
          "name": "stdout",
          "text": [
            "Few-shot Prompting:\n",
            " French: Où est la bibliothèque ?\n"
          ]
        }
      ]
    },
    {
      "cell_type": "markdown",
      "source": [
        "## prompt chaining"
      ],
      "metadata": {
        "id": "frqTafreD-8c"
      }
    },
    {
      "cell_type": "code",
      "source": [
        "def chain_part1(initial_prompt):\n",
        "    \"\"\"Demonstrate prompt chaining.\"\"\"\n",
        "    # First prompt\n",
        "    response1 = client.chat.completions.create(\n",
        "        model=\"gpt-4o-mini\",\n",
        "        messages=[\n",
        "          {\"role\": \"user\", \"content\": initial_prompt}\n",
        "        ]\n",
        "    )\n",
        "    languages = response1.choices[0].message.content\n",
        "\n",
        "    return languages\n",
        "\n",
        "def chain_part2(follow_up_prompt):\n",
        "    # Second prompt using the output of the first\n",
        "    response2 = client.chat.completions.create(\n",
        "        model=\"gpt-4o-mini\",\n",
        "        messages=[\n",
        "          {\"role\": \"user\", \"content\": follow_up_prompt}\n",
        "        ]\n",
        "    )\n",
        "    return response2.choices[0].message.content\n",
        "\n",
        "initial_prompt = \"Provide a list of three popular programming languages.\"\n",
        "\n",
        "response_part1 = chain_part1(initial_prompt)\n",
        "\n",
        "follow_up_prompt = f\"Explain the primary use case for each of these programming languages:\\n{response_part1}\"\n",
        "\n",
        "response_part2 = chain_part2(follow_up_prompt)\n",
        "\n",
        "print(\"Part 1:\\n\", response_part1,\"\\n\")\n",
        "print(\"-\"*150,\"\\n\")\n",
        "print(\"Part 2:\\n\", response_part2)"
      ],
      "metadata": {
        "colab": {
          "base_uri": "https://localhost:8080/"
        },
        "id": "EIDJhskkCUhu",
        "outputId": "c13eaaf9-dd49-4fc8-cc9a-c633f747eee4"
      },
      "execution_count": 6,
      "outputs": [
        {
          "output_type": "stream",
          "name": "stdout",
          "text": [
            "Part 1:\n",
            " Here are three popular programming languages:\n",
            "\n",
            "1. **Python** - Widely used for web development, data analysis, artificial intelligence, scientific computing, and more.\n",
            "2. **JavaScript** - A key language for web development, primarily for creating interactive and dynamic content on websites.\n",
            "3. **Java** - Commonly used for building enterprise-level applications, Android app development, and cloud-based services. \n",
            "\n",
            "------------------------------------------------------------------------------------------------------------------------------------------------------ \n",
            "\n",
            "Part 2:\n",
            " Certainly! Below are the primary use cases for each of the mentioned programming languages:\n",
            "\n",
            "1. **Python**: \n",
            "   - **Data Analysis and Visualization**: Python is extensively used in data science due to its simplicity and the powerful libraries available (like Pandas, NumPy, and Matplotlib) that make data manipulation and visualization straightforward.\n",
            "   - **Artificial Intelligence and Machine Learning**: Its rich ecosystem of libraries (such as TensorFlow, Keras, and scikit-learn) makes Python a preferred choice for developing machine learning models and AI applications.\n",
            "   - **Web Development**: Frameworks like Django and Flask enable developers to build dynamic web applications efficiently.\n",
            "   - **Scientific Computing**: Libraries like SciPy make Python a go-to for scientists and researchers who require high-level computations.\n",
            "\n",
            "2. **JavaScript**:\n",
            "   - **Web Development**: JavaScript is the backbone of modern web development. It allows for the creation of interactive and responsive user interfaces. Frameworks like React, Angular, and Vue.js further enhance its capabilities in building single-page applications (SPAs).\n",
            "   - **Front-End Development**: It runs directly in the browser, making it essential for client-side scripting. Developers use it to manipulate the DOM, manage events, and communicate with servers via AJAX.\n",
            "   - **Back-End Development**: With the advent of Node.js, JavaScript is increasingly used on the server side, allowing for full-stack development using a single language across both front-end and back-end.\n",
            "\n",
            "3. **Java**: \n",
            "   - **Enterprise-Level Applications**: Java is favored for building large-scale enterprise applications due to its robustness, security features, and scalability. It is commonly used in industries such as finance and healthcare.\n",
            "   - **Android App Development**: Java was the official language for Android development for many years and remains widely used for creating mobile applications on the Android platform.\n",
            "   - **Cloud-Based Services**: Java is used for developing cloud-based applications and microservices, leveraging frameworks such as Spring Boot to create scalable and maintainable systems.\n",
            "\n",
            "In summary, Python excels in data-centric and scientific applications, JavaScript is essential for interactive web applications, and Java is the go-to for enterprise solutions and Android development.\n"
          ]
        }
      ]
    },
    {
      "cell_type": "markdown",
      "source": [
        "## Chain of Thought (CoT)"
      ],
      "metadata": {
        "id": "kYjqJF5zEBHt"
      }
    },
    {
      "cell_type": "code",
      "source": [
        "def chain_of_thought(prompt):\n",
        "    \"\"\"Demonstrate chain-of-thought reasoning.\"\"\"\n",
        "\n",
        "    response = client.chat.completions.create(\n",
        "        model=\"gpt-4o-mini\",\n",
        "        messages=[\n",
        "          {\"role\": \"user\", \"content\": prompt}\n",
        "        ]\n",
        "    )\n",
        "    print(\"Chain of Thought:\\n\", response.choices[0].message.content)\n",
        "\n",
        "prompt = (\n",
        "        \"A train leaves the station at 60 miles per hour. Another train leaves the same station \"\n",
        "        \"one hour later at 80 miles per hour. How long will it take for the second train to catch the first train? \"\n",
        "        \"Explain your reasoning step by step.\"\n",
        "    )\n",
        "\n",
        "chain_of_thought(prompt)"
      ],
      "metadata": {
        "colab": {
          "base_uri": "https://localhost:8080/"
        },
        "id": "HPEqCdo2CWDc",
        "outputId": "887c59d2-fe5e-431a-a1c7-7195ce051f1c"
      },
      "execution_count": 7,
      "outputs": [
        {
          "output_type": "stream",
          "name": "stdout",
          "text": [
            "Chain of Thought:\n",
            " To determine how long it will take for the second train to catch the first train, we can follow these steps:\n",
            "\n",
            "1. **Understand the situation**: \n",
            "   - The first train leaves the station at a speed of 60 miles per hour (mph).\n",
            "   - The second train leaves one hour later at a speed of 80 mph.\n",
            "\n",
            "2. **Calculate the head start of the first train**:\n",
            "   - Since the first train leaves one hour earlier, by the time the second train starts, the first train has already been traveling for one hour.\n",
            "   - Distance covered by the first train in that one hour = speed × time = 60 mph × 1 hour = 60 miles.\n",
            "   - So, the first train is 60 miles ahead of the second train when the second train starts.\n",
            "\n",
            "3. **Set up the equations**:\n",
            "   - Let \\( t \\) be the time in hours that the second train travels until it catches the first train.\n",
            "   - During this time \\( t \\), the first train will also continue to travel.\n",
            "   - The distance the first train travels in total after the second train starts is:\n",
            "     \\[\n",
            "     \\text{Distance} = \\text{speed} \\times \\text{time} = 60 \\text{ mph} \\times (t + 1) \\text{ hours} = 60t + 60 \\text{ miles}\n",
            "     \\]\n",
            "   - The distance the second train travels in \\( t \\) hours is:\n",
            "     \\[\n",
            "     \\text{Distance} = \\text{speed} \\times \\text{time} = 80 \\text{ mph} \\times t \\text{ hours} = 80t \\text{ miles}\n",
            "     \\]\n",
            "\n",
            "4. **Set the distances equal**:\n",
            "   - For the second train to catch the first train, the distances they traveled must be equal:\n",
            "     \\[\n",
            "     80t = 60t + 60\n",
            "     \\]\n",
            "\n",
            "5. **Solve for \\( t \\)**:\n",
            "   - Rearranging the equation, we subtract \\( 60t \\) from both sides:\n",
            "     \\[\n",
            "     80t - 60t = 60\n",
            "     \\]\n",
            "     \\[\n",
            "     20t = 60\n",
            "     \\]\n",
            "   - Now, divide both sides by 20:\n",
            "     \\[\n",
            "     t = \\frac{60}{20} = 3 \\text{ hours}\n",
            "     \\]\n",
            "\n",
            "6. **Conclusion**:\n",
            "   The second train will take 3 hours to catch up to the first train.\n",
            "\n",
            "Thus, the final answer is that it takes the second train **3 hours** to catch the first train.\n"
          ]
        }
      ]
    }
  ]
}