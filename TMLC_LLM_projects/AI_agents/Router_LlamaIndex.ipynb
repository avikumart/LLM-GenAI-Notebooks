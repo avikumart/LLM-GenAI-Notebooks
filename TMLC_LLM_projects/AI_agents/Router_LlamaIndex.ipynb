{
  "nbformat": 4,
  "nbformat_minor": 0,
  "metadata": {
    "colab": {
      "provenance": [],
      "include_colab_link": true
    },
    "kernelspec": {
      "name": "python3",
      "display_name": "Python 3"
    },
    "language_info": {
      "name": "python"
    }
  },
  "cells": [
    {
      "cell_type": "markdown",
      "metadata": {
        "id": "view-in-github",
        "colab_type": "text"
      },
      "source": [
        "<a href=\"https://colab.research.google.com/github/avikumart/LLM-GenAI-Transformers-Notebooks/blob/main/TMLC_LLM_projects/AI_agents/Router_LlamaIndex.ipynb\" target=\"_parent\"><img src=\"https://colab.research.google.com/assets/colab-badge.svg\" alt=\"Open In Colab\"/></a>"
      ]
    },
    {
      "cell_type": "markdown",
      "source": [
        "## Installing Libraries"
      ],
      "metadata": {
        "id": "UuwS8W75tJJ3"
      }
    },
    {
      "cell_type": "code",
      "execution_count": 1,
      "metadata": {
        "colab": {
          "base_uri": "https://localhost:8080/"
        },
        "collapsed": true,
        "id": "luPWtPvsp7L1",
        "outputId": "808c9c8a-fa92-4ffa-b7f5-b4a8bf47081e"
      },
      "outputs": [
        {
          "output_type": "stream",
          "name": "stdout",
          "text": [
            "\u001b[2K   \u001b[90m━━━━━━━━━━━━━━━━━━━━━━━━━━━━━━━━━━━━━━━━\u001b[0m \u001b[32m1.6/1.6 MB\u001b[0m \u001b[31m11.4 MB/s\u001b[0m eta \u001b[36m0:00:00\u001b[0m\n",
            "\u001b[2K   \u001b[90m━━━━━━━━━━━━━━━━━━━━━━━━━━━━━━━━━━━━━━━━\u001b[0m \u001b[32m253.0/253.0 kB\u001b[0m \u001b[31m14.8 MB/s\u001b[0m eta \u001b[36m0:00:00\u001b[0m\n",
            "\u001b[2K   \u001b[90m━━━━━━━━━━━━━━━━━━━━━━━━━━━━━━━━━━━━━━━━\u001b[0m \u001b[32m300.7/300.7 kB\u001b[0m \u001b[31m15.7 MB/s\u001b[0m eta \u001b[36m0:00:00\u001b[0m\n",
            "\u001b[2K   \u001b[90m━━━━━━━━━━━━━━━━━━━━━━━━━━━━━━━━━━━━━━━━\u001b[0m \u001b[32m1.2/1.2 MB\u001b[0m \u001b[31m44.1 MB/s\u001b[0m eta \u001b[36m0:00:00\u001b[0m\n",
            "\u001b[2K   \u001b[90m━━━━━━━━━━━━━━━━━━━━━━━━━━━━━━━━━━━━━━━━\u001b[0m \u001b[32m50.9/50.9 kB\u001b[0m \u001b[31m3.0 MB/s\u001b[0m eta \u001b[36m0:00:00\u001b[0m\n",
            "\u001b[?25h"
          ]
        }
      ],
      "source": [
        "!pip install llama-index llama-index-llms-openai openai -q"
      ]
    },
    {
      "cell_type": "code",
      "source": [
        "import os\n",
        "from google.colab import userdata\n",
        "OpenAI_API = userdata.get('OPENAI_API_KEY')\n",
        "os.environ['OPENAI_API_KEY'] = OpenAI_API"
      ],
      "metadata": {
        "id": "SUwO8IVSqLK2"
      },
      "execution_count": 2,
      "outputs": []
    },
    {
      "cell_type": "markdown",
      "source": [
        "## Import Libraries"
      ],
      "metadata": {
        "id": "rWjak7kstige"
      }
    },
    {
      "cell_type": "code",
      "source": [
        "from llama_index.core import SimpleDirectoryReader\n",
        "from llama_index.core.node_parser import SentenceSplitter\n",
        "from llama_index.core import VectorStoreIndex\n",
        "from llama_index.core.tools import QueryEngineTool\n",
        "\n",
        "from llama_index.core import Settings\n",
        "from llama_index.llms.openai import OpenAI\n",
        "from llama_index.embeddings.openai import OpenAIEmbedding\n",
        "\n",
        "# Set the llm and embedding model to the LlamaIndex Settings\n",
        "Settings.llm = OpenAI(model=\"gpt-4o-mini\")\n",
        "Settings.embed_model = OpenAIEmbedding(model=\"text-embedding-3-small\")"
      ],
      "metadata": {
        "id": "Y7WLG1DatkQf"
      },
      "execution_count": 3,
      "outputs": []
    },
    {
      "cell_type": "markdown",
      "source": [
        "## Download and load Data"
      ],
      "metadata": {
        "id": "Kw1ehPWvtIzH"
      }
    },
    {
      "cell_type": "code",
      "source": [
        "# Create directory to store pdfs in it\n",
        "!mkdir data\n",
        "%cd data"
      ],
      "metadata": {
        "colab": {
          "base_uri": "https://localhost:8080/"
        },
        "id": "bfnhnqevtR4Y",
        "outputId": "7d90ebb3-da60-41ae-ae50-50e099933ebb"
      },
      "execution_count": 4,
      "outputs": [
        {
          "output_type": "stream",
          "name": "stdout",
          "text": [
            "/content/data\n"
          ]
        }
      ]
    },
    {
      "cell_type": "code",
      "source": [
        "!wget https://ocw.mit.edu/courses/1-264j-database-internet-and-systems-integration-technologies-fall-2013/d549b3ecf40310a93fec5da29a293fd5_MIT1_264JF13_lect_15.pdf\n",
        "!wget https://web.mit.edu/~csvoss/Public/usabo/stats_handout.pdf"
      ],
      "metadata": {
        "colab": {
          "base_uri": "https://localhost:8080/"
        },
        "collapsed": true,
        "id": "eKEEmEuitMbK",
        "outputId": "465e876b-b7b9-48c3-ee6c-f41ce6b7f300"
      },
      "execution_count": 5,
      "outputs": [
        {
          "output_type": "stream",
          "name": "stdout",
          "text": [
            "--2025-02-12 14:19:07--  https://ocw.mit.edu/courses/1-264j-database-internet-and-systems-integration-technologies-fall-2013/d549b3ecf40310a93fec5da29a293fd5_MIT1_264JF13_lect_15.pdf\n",
            "Resolving ocw.mit.edu (ocw.mit.edu)... 151.101.130.133, 151.101.194.133, 151.101.66.133, ...\n",
            "Connecting to ocw.mit.edu (ocw.mit.edu)|151.101.130.133|:443... connected.\n",
            "HTTP request sent, awaiting response... 200 OK\n",
            "Length: 160716 (157K) [application/pdf]\n",
            "Saving to: ‘d549b3ecf40310a93fec5da29a293fd5_MIT1_264JF13_lect_15.pdf’\n",
            "\n",
            "d549b3ecf40310a93fe 100%[===================>] 156.95K   977KB/s    in 0.2s    \n",
            "\n",
            "2025-02-12 14:19:09 (977 KB/s) - ‘d549b3ecf40310a93fec5da29a293fd5_MIT1_264JF13_lect_15.pdf’ saved [160716/160716]\n",
            "\n",
            "--2025-02-12 14:19:09--  https://web.mit.edu/~csvoss/Public/usabo/stats_handout.pdf\n",
            "Resolving web.mit.edu (web.mit.edu)... 104.115.233.48, 2600:1417:76:480::255e, 2600:1417:76:4a0::255e\n",
            "Connecting to web.mit.edu (web.mit.edu)|104.115.233.48|:443... connected.\n",
            "HTTP request sent, awaiting response... 200 OK\n",
            "Length: 1367357 (1.3M) [application/pdf]\n",
            "Saving to: ‘stats_handout.pdf’\n",
            "\n",
            "stats_handout.pdf   100%[===================>]   1.30M  --.-KB/s    in 0.03s   \n",
            "\n",
            "2025-02-12 14:19:09 (50.3 MB/s) - ‘stats_handout.pdf’ saved [1367357/1367357]\n",
            "\n"
          ]
        }
      ]
    },
    {
      "cell_type": "code",
      "source": [
        "# Generate two vector stores, one for statistics and another for SQL.\n",
        "def load_sql():\n",
        "  documents = SimpleDirectoryReader(input_files=[\"/content/data/d549b3ecf40310a93fec5da29a293fd5_MIT1_264JF13_lect_15.pdf\"]).load_data()\n",
        "  splitter = SentenceSplitter(chunk_size=1024)\n",
        "  nodes = splitter.get_nodes_from_documents(documents)\n",
        "  vector_index = VectorStoreIndex(nodes)\n",
        "  vector_query_engine = vector_index.as_query_engine()\n",
        "  return vector_query_engine\n",
        "\n",
        "def load_stats():\n",
        "  documents = SimpleDirectoryReader(input_files=[\"/content/data/stats_handout.pdf\"]).load_data()\n",
        "  splitter = SentenceSplitter(chunk_size=1024)\n",
        "  nodes = splitter.get_nodes_from_documents(documents)\n",
        "  vector_index = VectorStoreIndex(nodes)\n",
        "  vector_query_engine = vector_index.as_query_engine()\n",
        "  return vector_query_engine"
      ],
      "metadata": {
        "id": "6FRoaZACtfK3"
      },
      "execution_count": 6,
      "outputs": []
    },
    {
      "cell_type": "code",
      "source": [
        "# load the vector indexes to query engine tool to make them available for retrieval with description for the\n",
        "# router engine to make decision based on user query\n",
        "\n",
        "sql_tool = QueryEngineTool.from_defaults(\n",
        "    query_engine=load_sql(),\n",
        "    description=(\n",
        "        \"Useful for retrieving specific context related to SQL from the SQL lecture.\"\n",
        "    ),\n",
        ")\n",
        "\n",
        "stats_tool = QueryEngineTool.from_defaults(\n",
        "    query_engine=load_stats(),\n",
        "    description=(\n",
        "        \"Useful for retrieving specific context related to statistics from the stats handbook.\"\n",
        "    ),\n",
        ")"
      ],
      "metadata": {
        "id": "KcaGZgQuuOmS"
      },
      "execution_count": 7,
      "outputs": []
    },
    {
      "cell_type": "markdown",
      "source": [
        "## Agentic Rag with Router"
      ],
      "metadata": {
        "id": "X_XeqF83ugAA"
      }
    },
    {
      "cell_type": "markdown",
      "source": [
        "LLMSingleSelector: This is a selector that uses the LLM to select a single choice from a list of choices."
      ],
      "metadata": {
        "id": "5_Lls6tsus9f"
      }
    },
    {
      "cell_type": "code",
      "source": [
        "from llama_index.core.query_engine.router_query_engine import RouterQueryEngine\n",
        "from llama_index.core.selectors import LLMSingleSelector\n",
        "\n",
        "# Load the Router query engine module with llm and tools\n",
        "\n",
        "query_engine = RouterQueryEngine(\n",
        "    selector=LLMSingleSelector.from_defaults(),\n",
        "    query_engine_tools=[\n",
        "        sql_tool,\n",
        "        stats_tool,\n",
        "    ],\n",
        "    verbose=True\n",
        ")"
      ],
      "metadata": {
        "id": "sOK1Q5Osun-_"
      },
      "execution_count": 8,
      "outputs": []
    },
    {
      "cell_type": "code",
      "source": [
        "response = query_engine.query(\"What are transactions?\")\n",
        "print(response)"
      ],
      "metadata": {
        "colab": {
          "base_uri": "https://localhost:8080/"
        },
        "id": "HVgpuRhduvCw",
        "outputId": "d0274eaf-db50-4c15-da01-1342af024eb4"
      },
      "execution_count": 9,
      "outputs": [
        {
          "output_type": "stream",
          "name": "stdout",
          "text": [
            "\u001b[1;3;38;5;200mSelecting query engine 0: Transactions are a concept related to SQL, and the SQL lecture would provide specific context about them..\n",
            "\u001b[0mTransactions are sequences of operations performed as a single logical unit of work in a database. They ensure that a series of actions either complete successfully or are entirely rolled back, maintaining the integrity of the database. Transactions are characterized by properties known as ACID: Atomicity, Consistency, Isolation, and Durability. These properties help manage issues that arise in multi-user databases, such as conflicting actions and ensuring that data remains accurate and reliable even in the event of failures.\n"
          ]
        }
      ]
    },
    {
      "cell_type": "code",
      "source": [
        "response = query_engine.query(\"What is variance?\")\n",
        "print(response)"
      ],
      "metadata": {
        "colab": {
          "base_uri": "https://localhost:8080/"
        },
        "id": "esMmHjT3uzBs",
        "outputId": "3d7e7eab-f9d0-4def-b724-2e18746a1f5d"
      },
      "execution_count": 10,
      "outputs": [
        {
          "output_type": "stream",
          "name": "stdout",
          "text": [
            "\u001b[1;3;38;5;200mSelecting query engine 1: Variance is a statistical concept, and the stats handbook would provide relevant context and information about it..\n",
            "\u001b[0mVariance is a statistical measure that represents the degree of spread or dispersion of a set of values. It quantifies how much the values in a dataset differ from the mean (average) of that dataset. A higher variance indicates that the values are more spread out, while a lower variance suggests that they are closer to the mean. Variance is calculated by taking the average of the squared differences between each value and the mean.\n"
          ]
        }
      ]
    },
    {
      "cell_type": "code",
      "source": [
        "query_engine.query(\"What is the skeness in stats?\")"
      ],
      "metadata": {
        "id": "WPZPTdwSiQBz",
        "outputId": "d23bf859-a053-440d-f1df-fa4414dc97e2",
        "colab": {
          "base_uri": "https://localhost:8080/"
        }
      },
      "execution_count": 11,
      "outputs": [
        {
          "output_type": "stream",
          "name": "stdout",
          "text": [
            "\u001b[1;3;38;5;200mSelecting query engine 1: The question pertains to statistics, and choice 2 is specifically related to retrieving context from a stats handbook..\n",
            "\u001b[0m"
          ]
        },
        {
          "output_type": "execute_result",
          "data": {
            "text/plain": [
              "Response(response='Skewness in statistics refers to the measure of asymmetry in the distribution of data. It indicates whether the data points are concentrated on one side of the mean, which can help in understanding the shape of the distribution. A positive skewness suggests that the tail on the right side is longer or fatter than the left side, while a negative skewness indicates that the tail on the left side is longer or fatter than the right side. A skewness close to zero suggests a symmetrical distribution.', source_nodes=[NodeWithScore(node=TextNode(id_='bb0d7f56-e3d5-4534-ae57-ed7a78b2fe8b', embedding=None, metadata={'page_label': '7', 'file_name': 'stats_handout.pdf', 'file_path': '/content/data/stats_handout.pdf', 'file_type': 'application/pdf', 'file_size': 1367357, 'creation_date': '2025-02-12', 'last_modified_date': '2014-10-13'}, excluded_embed_metadata_keys=['file_name', 'file_type', 'file_size', 'creation_date', 'last_modified_date', 'last_accessed_date'], excluded_llm_metadata_keys=['file_name', 'file_type', 'file_size', 'creation_date', 'last_modified_date', 'last_accessed_date'], relationships={<NodeRelationship.SOURCE: '1'>: RelatedNodeInfo(node_id='de169af1-f07c-4250-a026-c46ee0c9aa52', node_type='4', metadata={'page_label': '7', 'file_name': 'stats_handout.pdf', 'file_path': '/content/data/stats_handout.pdf', 'file_type': 'application/pdf', 'file_size': 1367357, 'creation_date': '2025-02-12', 'last_modified_date': '2014-10-13'}, hash='9de65b141aea3d38dcdcb7bd9f0f731efddca0ee2df97c45a33ab32791205428')}, metadata_template='{key}: {value}', metadata_separator='\\n', text='\\x01', mimetype='text/plain', start_char_idx=0, end_char_idx=1, metadata_seperator='\\n', text_template='{metadata_str}\\n\\n{content}'), score=0.25765732404184455), NodeWithScore(node=TextNode(id_='9d64ff7a-d87e-4dd3-9ac9-40b53513d12a', embedding=None, metadata={'page_label': '8', 'file_name': 'stats_handout.pdf', 'file_path': '/content/data/stats_handout.pdf', 'file_type': 'application/pdf', 'file_size': 1367357, 'creation_date': '2025-02-12', 'last_modified_date': '2014-10-13'}, excluded_embed_metadata_keys=['file_name', 'file_type', 'file_size', 'creation_date', 'last_modified_date', 'last_accessed_date'], excluded_llm_metadata_keys=['file_name', 'file_type', 'file_size', 'creation_date', 'last_modified_date', 'last_accessed_date'], relationships={<NodeRelationship.SOURCE: '1'>: RelatedNodeInfo(node_id='82d7ee90-5802-430f-a896-d361e4df004e', node_type='4', metadata={'page_label': '8', 'file_name': 'stats_handout.pdf', 'file_path': '/content/data/stats_handout.pdf', 'file_type': 'application/pdf', 'file_size': 1367357, 'creation_date': '2025-02-12', 'last_modified_date': '2014-10-13'}, hash='b9fbdbedb5870fb00940451400e605a8f0e7456aefebc6be5f75f78cf00b87a8')}, metadata_template='{key}: {value}', metadata_separator='\\n', text='', mimetype='text/plain', start_char_idx=0, end_char_idx=0, metadata_seperator='\\n', text_template='{metadata_str}\\n\\n{content}'), score=0.2562706042732604)], metadata={'bb0d7f56-e3d5-4534-ae57-ed7a78b2fe8b': {'page_label': '7', 'file_name': 'stats_handout.pdf', 'file_path': '/content/data/stats_handout.pdf', 'file_type': 'application/pdf', 'file_size': 1367357, 'creation_date': '2025-02-12', 'last_modified_date': '2014-10-13'}, '9d64ff7a-d87e-4dd3-9ac9-40b53513d12a': {'page_label': '8', 'file_name': 'stats_handout.pdf', 'file_path': '/content/data/stats_handout.pdf', 'file_type': 'application/pdf', 'file_size': 1367357, 'creation_date': '2025-02-12', 'last_modified_date': '2014-10-13'}, 'selector_result': MultiSelection(selections=[SingleSelection(index=1, reason='The question pertains to statistics, and choice 2 is specifically related to retrieving context from a stats handbook.')])})"
            ]
          },
          "metadata": {},
          "execution_count": 11
        }
      ]
    },
    {
      "cell_type": "markdown",
      "source": [
        "To allow using multiple tools at once use LLMMultiSelector"
      ],
      "metadata": {
        "id": "1bNXF3CRx_ZY"
      }
    }
  ]
}