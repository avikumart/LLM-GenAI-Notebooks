{
  "nbformat": 4,
  "nbformat_minor": 0,
  "metadata": {
    "colab": {
      "provenance": [],
      "include_colab_link": true
    },
    "kernelspec": {
      "name": "python3",
      "display_name": "Python 3"
    },
    "language_info": {
      "name": "python"
    }
  },
  "cells": [
    {
      "cell_type": "markdown",
      "metadata": {
        "id": "view-in-github",
        "colab_type": "text"
      },
      "source": [
        "<a href=\"https://colab.research.google.com/github/avikumart/LLM-GenAI-Transformers-Notebooks/blob/main/OpenAI_chat_compleation_API.ipynb\" target=\"_parent\"><img src=\"https://colab.research.google.com/assets/colab-badge.svg\" alt=\"Open In Colab\"/></a>"
      ]
    },
    {
      "cell_type": "code",
      "execution_count": 1,
      "metadata": {
        "id": "Es7D395lKAp5"
      },
      "outputs": [],
      "source": [
        "pip install openai -q"
      ]
    },
    {
      "cell_type": "code",
      "source": [
        "from openai import OpenAI\n",
        "import os\n",
        "from google.colab import userdata\n",
        "\n",
        "# Retrieve the OpenAI API key from the user data\n",
        "OpenAI_API = userdata.get('OPENAI_API_KEY')\n",
        "os.environ['OPENAI_API_KEY'] = OpenAI_API"
      ],
      "metadata": {
        "id": "N27xs_-KOXDU"
      },
      "execution_count": 3,
      "outputs": []
    },
    {
      "cell_type": "code",
      "source": [
        "client = OpenAI()"
      ],
      "metadata": {
        "id": "srQOuON-TTFk"
      },
      "execution_count": 4,
      "outputs": []
    },
    {
      "cell_type": "code",
      "source": [
        "response = client.chat.completions.create(\n",
        "  model=\"gpt-3.5-turbo\",\n",
        "  messages=[\n",
        "        {\"role\": \"system\", \"content\": \"You are a helpful AI Tutor.\"},\n",
        "        {\"role\": \"user\", \"content\": \"I am Avi, I want to learn AI\"},\n",
        "        {\"role\": \"assistant\", \"content\": \"Hello, Avi Thats awesome, what do you want to know aboout AI\"},\n",
        "        {\"role\": \"user\", \"content\": \"What is computer vision?\"}\n",
        "    ],\n",
        "  temperature=0,\n",
        ")\n",
        "response"
      ],
      "metadata": {
        "colab": {
          "base_uri": "https://localhost:8080/"
        },
        "id": "4tLtcuT3OdBz",
        "outputId": "0aae09af-dfb1-4fcc-99fc-27d9446c929c"
      },
      "execution_count": 6,
      "outputs": [
        {
          "output_type": "execute_result",
          "data": {
            "text/plain": [
              "ChatCompletion(id='chatcmpl-AtUcmP2Qg9edcXweJEfgT0pnIihRH', choices=[Choice(finish_reason='stop', index=0, logprobs=None, message=ChatCompletionMessage(content='Computer vision is a field of artificial intelligence that enables computers to interpret and understand the visual world. It involves developing algorithms and techniques that allow computers to extract meaningful information from images or videos. Computer vision tasks include image recognition, object detection, facial recognition, image segmentation, and more. This technology is used in various applications such as autonomous vehicles, medical imaging, surveillance systems, and augmented reality.', refusal=None, role='assistant', audio=None, function_call=None, tool_calls=None))], created=1737789124, model='gpt-3.5-turbo-0125', object='chat.completion', service_tier='default', system_fingerprint=None, usage=CompletionUsage(completion_tokens=79, prompt_tokens=59, total_tokens=138, completion_tokens_details=CompletionTokensDetails(accepted_prediction_tokens=0, audio_tokens=0, reasoning_tokens=0, rejected_prediction_tokens=0), prompt_tokens_details=PromptTokensDetails(audio_tokens=0, cached_tokens=0)))"
            ]
          },
          "metadata": {},
          "execution_count": 6
        }
      ]
    },
    {
      "cell_type": "code",
      "source": [
        "response.choices[0].message.content"
      ],
      "metadata": {
        "id": "u4_aa725QOYd",
        "colab": {
          "base_uri": "https://localhost:8080/",
          "height": 71
        },
        "outputId": "feaaa0b5-fe78-4a89-a980-22377ffc5374"
      },
      "execution_count": 13,
      "outputs": [
        {
          "output_type": "execute_result",
          "data": {
            "text/plain": [
              "'Computer vision is a field of artificial intelligence that enables computers to interpret and understand the visual world. It involves developing algorithms and techniques that allow computers to extract meaningful information from images or videos. Computer vision tasks include image recognition, object detection, facial recognition, image segmentation, and more. This technology is used in various applications such as autonomous vehicles, medical imaging, surveillance systems, and augmented reality.'"
            ],
            "application/vnd.google.colaboratory.intrinsic+json": {
              "type": "string"
            }
          },
          "metadata": {},
          "execution_count": 13
        }
      ]
    },
    {
      "cell_type": "markdown",
      "source": [
        "### Set the helper functions for conversational AI chatbot"
      ],
      "metadata": {
        "id": "YwkEdJnBDo4o"
      }
    },
    {
      "cell_type": "code",
      "source": [
        "# update chat function\n",
        "def update_chat(messages, role, content):\n",
        "  messages.append({\"role\": role, \"content\": content})\n",
        "  return messages"
      ],
      "metadata": {
        "id": "PwmxOdvCDI07"
      },
      "execution_count": 10,
      "outputs": []
    },
    {
      "cell_type": "code",
      "source": [
        "# to get new resonse base on previous chats\n",
        "def get_chatgpt_response(messages):\n",
        "  response = client.chat.completions.create(\n",
        "  model=\"gpt-3.5-turbo\",\n",
        "  messages=messages\n",
        ")\n",
        "  return  response.choices[0].message.content"
      ],
      "metadata": {
        "id": "At2yjtt0JcOl"
      },
      "execution_count": 14,
      "outputs": []
    },
    {
      "cell_type": "markdown",
      "source": [
        "## OpenAI chat completion run"
      ],
      "metadata": {
        "id": "WFoNbyuoJ0AN"
      }
    },
    {
      "cell_type": "markdown",
      "source": [
        "### Prompt techniques with OpenAI API:\n",
        "[Doc link](https://docs.google.com/document/d/10ALsinSIs8boXAIjg_irW6I-6H1GkCG3eq0fsQP0u08/edit?usp=sharing)"
      ],
      "metadata": {
        "id": "oC1iVhzJIKUF"
      }
    },
    {
      "cell_type": "code",
      "source": [
        "import pprint\n",
        "\n",
        "messages=[\n",
        "      {\"role\": \"system\", \"content\": \"You are a professional women medical adviser.\"},\n",
        "      {\"role\": \"user\", \"content\": \"I am Avi, I want to learn about postpartum health in women\"},\n",
        "      {\"role\": \"assistant\", \"content\": \"Hello, Avi Thats awesome, what do you want to know about postpartum health in women\"},\n",
        "  ]\n",
        "\n",
        "while True:\n",
        "  pprint.pprint(messages)\n",
        "  user_input = input()\n",
        "  messages = update_chat(messages, \"user\", user_input)\n",
        "  model_response = get_chatgpt_response(messages)\n",
        "  messages = update_chat(messages, \"assistant\", model_response)"
      ],
      "metadata": {
        "colab": {
          "base_uri": "https://localhost:8080/",
          "height": 1000
        },
        "id": "1ReLRqwMJjPH",
        "outputId": "1c266078-68d5-4f43-ed2e-7773e75fe4fb"
      },
      "execution_count": 15,
      "outputs": [
        {
          "output_type": "stream",
          "name": "stdout",
          "text": [
            "[{'content': 'You are a professional women medical adviser.', 'role': 'system'},\n",
            " {'content': 'I am Avi, I want to learn about postpartum health in women',\n",
            "  'role': 'user'},\n",
            " {'content': 'Hello, Avi Thats awesome, what do you want to know about '\n",
            "             'postpartum health in women',\n",
            "  'role': 'assistant'}]\n",
            "what's the post-partum health?\n",
            "[{'content': 'You are a professional women medical adviser.', 'role': 'system'},\n",
            " {'content': 'I am Avi, I want to learn about postpartum health in women',\n",
            "  'role': 'user'},\n",
            " {'content': 'Hello, Avi Thats awesome, what do you want to know about '\n",
            "             'postpartum health in women',\n",
            "  'role': 'assistant'},\n",
            " {'content': \"what's the post-partum health?\", 'role': 'user'},\n",
            " {'content': 'Postpartum health refers to the well-being of a woman after she '\n",
            "             'has given birth. This period, also known as the postnatal '\n",
            "             'period, typically lasts around six weeks as the body goes '\n",
            "             'through various physical and emotional changes in the aftermath '\n",
            "             'of childbirth. It is a critical time that requires attention to '\n",
            "             'ensure proper healing and adjustment to the new role of '\n",
            "             'motherhood. Postpartum health encompasses physical recovery, '\n",
            "             'emotional well-being, and adjustments in daily routines and '\n",
            "             'responsibilities. Proper postpartum care is crucial for the '\n",
            "             'health and well-being of both the mother and the newborn.',\n",
            "  'role': 'assistant'}]\n",
            "who can be affected by this?\n",
            "[{'content': 'You are a professional women medical adviser.', 'role': 'system'},\n",
            " {'content': 'I am Avi, I want to learn about postpartum health in women',\n",
            "  'role': 'user'},\n",
            " {'content': 'Hello, Avi Thats awesome, what do you want to know about '\n",
            "             'postpartum health in women',\n",
            "  'role': 'assistant'},\n",
            " {'content': \"what's the post-partum health?\", 'role': 'user'},\n",
            " {'content': 'Postpartum health refers to the well-being of a woman after she '\n",
            "             'has given birth. This period, also known as the postnatal '\n",
            "             'period, typically lasts around six weeks as the body goes '\n",
            "             'through various physical and emotional changes in the aftermath '\n",
            "             'of childbirth. It is a critical time that requires attention to '\n",
            "             'ensure proper healing and adjustment to the new role of '\n",
            "             'motherhood. Postpartum health encompasses physical recovery, '\n",
            "             'emotional well-being, and adjustments in daily routines and '\n",
            "             'responsibilities. Proper postpartum care is crucial for the '\n",
            "             'health and well-being of both the mother and the newborn.',\n",
            "  'role': 'assistant'},\n",
            " {'content': 'who can be affected by this?', 'role': 'user'},\n",
            " {'content': 'Postpartum health can affect any woman who has given birth, '\n",
            "             \"regardless of whether it's her first child or if she has had \"\n",
            "             'multiple pregnancies. The physical and emotional changes that '\n",
            "             'occur during the postpartum period can impact women differently '\n",
            "             'based on various factors such as overall health, the type of '\n",
            "             'delivery, presence of complications during childbirth, level of '\n",
            "             'support from family and friends, and existing medical '\n",
            "             \"conditions. It's important for all women who have recently given \"\n",
            "             'birth to pay attention to their postpartum health and seek '\n",
            "             'support if needed.',\n",
            "  'role': 'assistant'}]\n",
            "what happens to mother and newly born child?\n",
            "[{'content': 'You are a professional women medical adviser.', 'role': 'system'},\n",
            " {'content': 'I am Avi, I want to learn about postpartum health in women',\n",
            "  'role': 'user'},\n",
            " {'content': 'Hello, Avi Thats awesome, what do you want to know about '\n",
            "             'postpartum health in women',\n",
            "  'role': 'assistant'},\n",
            " {'content': \"what's the post-partum health?\", 'role': 'user'},\n",
            " {'content': 'Postpartum health refers to the well-being of a woman after she '\n",
            "             'has given birth. This period, also known as the postnatal '\n",
            "             'period, typically lasts around six weeks as the body goes '\n",
            "             'through various physical and emotional changes in the aftermath '\n",
            "             'of childbirth. It is a critical time that requires attention to '\n",
            "             'ensure proper healing and adjustment to the new role of '\n",
            "             'motherhood. Postpartum health encompasses physical recovery, '\n",
            "             'emotional well-being, and adjustments in daily routines and '\n",
            "             'responsibilities. Proper postpartum care is crucial for the '\n",
            "             'health and well-being of both the mother and the newborn.',\n",
            "  'role': 'assistant'},\n",
            " {'content': 'who can be affected by this?', 'role': 'user'},\n",
            " {'content': 'Postpartum health can affect any woman who has given birth, '\n",
            "             \"regardless of whether it's her first child or if she has had \"\n",
            "             'multiple pregnancies. The physical and emotional changes that '\n",
            "             'occur during the postpartum period can impact women differently '\n",
            "             'based on various factors such as overall health, the type of '\n",
            "             'delivery, presence of complications during childbirth, level of '\n",
            "             'support from family and friends, and existing medical '\n",
            "             \"conditions. It's important for all women who have recently given \"\n",
            "             'birth to pay attention to their postpartum health and seek '\n",
            "             'support if needed.',\n",
            "  'role': 'assistant'},\n",
            " {'content': 'what happens to mother and newly born child?', 'role': 'user'},\n",
            " {'content': 'During the postpartum period, both the mother and the newborn '\n",
            "             'child undergo various changes and adjustments:\\n'\n",
            "             '\\n'\n",
            "             '1. Mother:\\n'\n",
            "             \"- Physical recovery: The mother's body goes through a healing \"\n",
            "             'process after childbirth, including the shrinking of the uterus, '\n",
            "             'recovery of vaginal or cesarean incisions, and hormonal '\n",
            "             'fluctuations.\\n'\n",
            "             '- Emotional well-being: Postpartum emotional changes can range '\n",
            "             'from baby blues to postpartum depression, anxiety, or other mood '\n",
            "             'disorders.\\n'\n",
            "             '- Breastfeeding: Establishing breastfeeding and ensuring a good '\n",
            "             \"latch is crucial for both the mother's health and the baby's \"\n",
            "             'nutrition.\\n'\n",
            "             '- Sleep patterns: Managing sleep deprivation and adapting to the '\n",
            "             \"newborn's sleep schedule can impact the mother's overall \"\n",
            "             'well-being.\\n'\n",
            "             '- Nutrition and hydration: Proper nutrition and hydration are '\n",
            "             \"essential for the mother's recovery and to support \"\n",
            "             'breastfeeding.\\n'\n",
            "             '\\n'\n",
            "             '2. Newborn child:\\n'\n",
            "             '- Feeding: The newborn requires frequent feeding, ideally breast '\n",
            "             'milk or formula, to support growth and development.\\n'\n",
            "             '- Sleeping patterns: Newborns sleep for short periods throughout '\n",
            "             \"the day and night, which can affect the mother's sleep.\\n\"\n",
            "             '- Monitoring: Regular check-ups with healthcare providers and '\n",
            "             'monitoring developmental milestones are important in ensuring '\n",
            "             \"the newborn's health.\\n\"\n",
            "             '- Bonding: Building a strong bond with the newborn through '\n",
            "             'skin-to-skin contact, cuddling, and interacting is beneficial '\n",
            "             'for both the mother and the child.\\n'\n",
            "             '\\n'\n",
            "             \"It's important for both the mother and the newborn to receive \"\n",
            "             'proper care and support during the postpartum period to ensure a '\n",
            "             'smooth and healthy transition for both.',\n",
            "  'role': 'assistant'}]\n"
          ]
        },
        {
          "output_type": "error",
          "ename": "KeyboardInterrupt",
          "evalue": "Interrupted by user",
          "traceback": [
            "\u001b[0;31m---------------------------------------------------------------------------\u001b[0m",
            "\u001b[0;31mKeyboardInterrupt\u001b[0m                         Traceback (most recent call last)",
            "\u001b[0;32m<ipython-input-15-0482e454a1f3>\u001b[0m in \u001b[0;36m<cell line: 0>\u001b[0;34m()\u001b[0m\n\u001b[1;32m      9\u001b[0m \u001b[0;32mwhile\u001b[0m \u001b[0;32mTrue\u001b[0m\u001b[0;34m:\u001b[0m\u001b[0;34m\u001b[0m\u001b[0;34m\u001b[0m\u001b[0m\n\u001b[1;32m     10\u001b[0m   \u001b[0mpprint\u001b[0m\u001b[0;34m.\u001b[0m\u001b[0mpprint\u001b[0m\u001b[0;34m(\u001b[0m\u001b[0mmessages\u001b[0m\u001b[0;34m)\u001b[0m\u001b[0;34m\u001b[0m\u001b[0;34m\u001b[0m\u001b[0m\n\u001b[0;32m---> 11\u001b[0;31m   \u001b[0muser_input\u001b[0m \u001b[0;34m=\u001b[0m \u001b[0minput\u001b[0m\u001b[0;34m(\u001b[0m\u001b[0;34m)\u001b[0m\u001b[0;34m\u001b[0m\u001b[0;34m\u001b[0m\u001b[0m\n\u001b[0m\u001b[1;32m     12\u001b[0m   \u001b[0mmessages\u001b[0m \u001b[0;34m=\u001b[0m \u001b[0mupdate_chat\u001b[0m\u001b[0;34m(\u001b[0m\u001b[0mmessages\u001b[0m\u001b[0;34m,\u001b[0m \u001b[0;34m\"user\"\u001b[0m\u001b[0;34m,\u001b[0m \u001b[0muser_input\u001b[0m\u001b[0;34m)\u001b[0m\u001b[0;34m\u001b[0m\u001b[0;34m\u001b[0m\u001b[0m\n\u001b[1;32m     13\u001b[0m   \u001b[0mmodel_response\u001b[0m \u001b[0;34m=\u001b[0m \u001b[0mget_chatgpt_response\u001b[0m\u001b[0;34m(\u001b[0m\u001b[0mmessages\u001b[0m\u001b[0;34m)\u001b[0m\u001b[0;34m\u001b[0m\u001b[0;34m\u001b[0m\u001b[0m\n",
            "\u001b[0;32m/usr/local/lib/python3.11/dist-packages/ipykernel/kernelbase.py\u001b[0m in \u001b[0;36mraw_input\u001b[0;34m(self, prompt)\u001b[0m\n\u001b[1;32m    849\u001b[0m                 \u001b[0;34m\"raw_input was called, but this frontend does not support input requests.\"\u001b[0m\u001b[0;34m\u001b[0m\u001b[0;34m\u001b[0m\u001b[0m\n\u001b[1;32m    850\u001b[0m             )\n\u001b[0;32m--> 851\u001b[0;31m         return self._input_request(str(prompt),\n\u001b[0m\u001b[1;32m    852\u001b[0m             \u001b[0mself\u001b[0m\u001b[0;34m.\u001b[0m\u001b[0m_parent_ident\u001b[0m\u001b[0;34m,\u001b[0m\u001b[0;34m\u001b[0m\u001b[0;34m\u001b[0m\u001b[0m\n\u001b[1;32m    853\u001b[0m             \u001b[0mself\u001b[0m\u001b[0;34m.\u001b[0m\u001b[0m_parent_header\u001b[0m\u001b[0;34m,\u001b[0m\u001b[0;34m\u001b[0m\u001b[0;34m\u001b[0m\u001b[0m\n",
            "\u001b[0;32m/usr/local/lib/python3.11/dist-packages/ipykernel/kernelbase.py\u001b[0m in \u001b[0;36m_input_request\u001b[0;34m(self, prompt, ident, parent, password)\u001b[0m\n\u001b[1;32m    893\u001b[0m             \u001b[0;32mexcept\u001b[0m \u001b[0mKeyboardInterrupt\u001b[0m\u001b[0;34m:\u001b[0m\u001b[0;34m\u001b[0m\u001b[0;34m\u001b[0m\u001b[0m\n\u001b[1;32m    894\u001b[0m                 \u001b[0;31m# re-raise KeyboardInterrupt, to truncate traceback\u001b[0m\u001b[0;34m\u001b[0m\u001b[0;34m\u001b[0m\u001b[0m\n\u001b[0;32m--> 895\u001b[0;31m                 \u001b[0;32mraise\u001b[0m \u001b[0mKeyboardInterrupt\u001b[0m\u001b[0;34m(\u001b[0m\u001b[0;34m\"Interrupted by user\"\u001b[0m\u001b[0;34m)\u001b[0m \u001b[0;32mfrom\u001b[0m \u001b[0;32mNone\u001b[0m\u001b[0;34m\u001b[0m\u001b[0;34m\u001b[0m\u001b[0m\n\u001b[0m\u001b[1;32m    896\u001b[0m             \u001b[0;32mexcept\u001b[0m \u001b[0mException\u001b[0m \u001b[0;32mas\u001b[0m \u001b[0me\u001b[0m\u001b[0;34m:\u001b[0m\u001b[0;34m\u001b[0m\u001b[0;34m\u001b[0m\u001b[0m\n\u001b[1;32m    897\u001b[0m                 \u001b[0mself\u001b[0m\u001b[0;34m.\u001b[0m\u001b[0mlog\u001b[0m\u001b[0;34m.\u001b[0m\u001b[0mwarning\u001b[0m\u001b[0;34m(\u001b[0m\u001b[0;34m\"Invalid Message:\"\u001b[0m\u001b[0;34m,\u001b[0m \u001b[0mexc_info\u001b[0m\u001b[0;34m=\u001b[0m\u001b[0;32mTrue\u001b[0m\u001b[0;34m)\u001b[0m\u001b[0;34m\u001b[0m\u001b[0;34m\u001b[0m\u001b[0m\n",
            "\u001b[0;31mKeyboardInterrupt\u001b[0m: Interrupted by user"
          ]
        }
      ]
    },
    {
      "cell_type": "code",
      "source": [],
      "metadata": {
        "id": "qRmeIHKHKDQ2"
      },
      "execution_count": null,
      "outputs": []
    }
  ]
}