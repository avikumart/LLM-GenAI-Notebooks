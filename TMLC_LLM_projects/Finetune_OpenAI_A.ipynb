{
  "nbformat": 4,
  "nbformat_minor": 0,
  "metadata": {
    "colab": {
      "provenance": [],
      "include_colab_link": true
    },
    "kernelspec": {
      "name": "python3",
      "display_name": "Python 3"
    },
    "language_info": {
      "name": "python"
    }
  },
  "cells": [
    {
      "cell_type": "markdown",
      "metadata": {
        "id": "view-in-github",
        "colab_type": "text"
      },
      "source": [
        "<a href=\"https://colab.research.google.com/github/avikumart/LLM-GenAI-Transformers-Notebooks/blob/main/TMLC_LLM_projects/Finetune_OpenAI_A.ipynb\" target=\"_parent\"><img src=\"https://colab.research.google.com/assets/colab-badge.svg\" alt=\"Open In Colab\"/></a>"
      ]
    },
    {
      "cell_type": "markdown",
      "source": [
        "## Step 1: Install the required library\n",
        "\n",
        "Make sure you have the `openai` library installed. Use the command below if not already installed:"
      ],
      "metadata": {
        "id": "I_cQv8i71CaC"
      }
    },
    {
      "cell_type": "code",
      "source": [
        "!pip install openai==1.55.3 httpx==0.27.2"
      ],
      "metadata": {
        "id": "E57-Byti1GjQ",
        "outputId": "feb9dfe6-eb0f-40aa-e14c-c727f34f29c6",
        "colab": {
          "base_uri": "https://localhost:8080/"
        }
      },
      "execution_count": 1,
      "outputs": [
        {
          "output_type": "stream",
          "name": "stdout",
          "text": [
            "Collecting openai==1.55.3\n",
            "  Downloading openai-1.55.3-py3-none-any.whl.metadata (24 kB)\n",
            "Collecting httpx==0.27.2\n",
            "  Downloading httpx-0.27.2-py3-none-any.whl.metadata (7.1 kB)\n",
            "Requirement already satisfied: anyio<5,>=3.5.0 in /usr/local/lib/python3.10/dist-packages (from openai==1.55.3) (3.7.1)\n",
            "Requirement already satisfied: distro<2,>=1.7.0 in /usr/local/lib/python3.10/dist-packages (from openai==1.55.3) (1.9.0)\n",
            "Requirement already satisfied: jiter<1,>=0.4.0 in /usr/local/lib/python3.10/dist-packages (from openai==1.55.3) (0.8.0)\n",
            "Requirement already satisfied: pydantic<3,>=1.9.0 in /usr/local/lib/python3.10/dist-packages (from openai==1.55.3) (2.10.3)\n",
            "Requirement already satisfied: sniffio in /usr/local/lib/python3.10/dist-packages (from openai==1.55.3) (1.3.1)\n",
            "Requirement already satisfied: tqdm>4 in /usr/local/lib/python3.10/dist-packages (from openai==1.55.3) (4.66.6)\n",
            "Requirement already satisfied: typing-extensions<5,>=4.11 in /usr/local/lib/python3.10/dist-packages (from openai==1.55.3) (4.12.2)\n",
            "Requirement already satisfied: certifi in /usr/local/lib/python3.10/dist-packages (from httpx==0.27.2) (2024.8.30)\n",
            "Requirement already satisfied: httpcore==1.* in /usr/local/lib/python3.10/dist-packages (from httpx==0.27.2) (1.0.7)\n",
            "Requirement already satisfied: idna in /usr/local/lib/python3.10/dist-packages (from httpx==0.27.2) (3.10)\n",
            "Requirement already satisfied: h11<0.15,>=0.13 in /usr/local/lib/python3.10/dist-packages (from httpcore==1.*->httpx==0.27.2) (0.14.0)\n",
            "Requirement already satisfied: exceptiongroup in /usr/local/lib/python3.10/dist-packages (from anyio<5,>=3.5.0->openai==1.55.3) (1.2.2)\n",
            "Requirement already satisfied: annotated-types>=0.6.0 in /usr/local/lib/python3.10/dist-packages (from pydantic<3,>=1.9.0->openai==1.55.3) (0.7.0)\n",
            "Requirement already satisfied: pydantic-core==2.27.1 in /usr/local/lib/python3.10/dist-packages (from pydantic<3,>=1.9.0->openai==1.55.3) (2.27.1)\n",
            "Downloading openai-1.55.3-py3-none-any.whl (389 kB)\n",
            "\u001b[2K   \u001b[90m━━━━━━━━━━━━━━━━━━━━━━━━━━━━━━━━━━━━━━━━\u001b[0m \u001b[32m389.6/389.6 kB\u001b[0m \u001b[31m7.8 MB/s\u001b[0m eta \u001b[36m0:00:00\u001b[0m\n",
            "\u001b[?25hDownloading httpx-0.27.2-py3-none-any.whl (76 kB)\n",
            "\u001b[2K   \u001b[90m━━━━━━━━━━━━━━━━━━━━━━━━━━━━━━━━━━━━━━━━\u001b[0m \u001b[32m76.4/76.4 kB\u001b[0m \u001b[31m3.9 MB/s\u001b[0m eta \u001b[36m0:00:00\u001b[0m\n",
            "\u001b[?25hInstalling collected packages: httpx, openai\n",
            "  Attempting uninstall: httpx\n",
            "    Found existing installation: httpx 0.28.0\n",
            "    Uninstalling httpx-0.28.0:\n",
            "      Successfully uninstalled httpx-0.28.0\n",
            "  Attempting uninstall: openai\n",
            "    Found existing installation: openai 1.54.5\n",
            "    Uninstalling openai-1.54.5:\n",
            "      Successfully uninstalled openai-1.54.5\n",
            "Successfully installed httpx-0.27.2 openai-1.55.3\n"
          ]
        }
      ]
    },
    {
      "cell_type": "code",
      "source": [
        "# Import necessary libraries\n",
        "import os\n",
        "import pandas as pd\n",
        "import json\n",
        "from openai import OpenAI"
      ],
      "metadata": {
        "id": "lYp9G4HS1Hy5"
      },
      "execution_count": 2,
      "outputs": []
    },
    {
      "cell_type": "markdown",
      "source": [
        "Access data from this [link](https://themlco-my.sharepoint.com/:f:/p/chiragchauhan/Eg7biBxP1hhEta6JLchrfWgBvLawQsfxSDJO6K1BQl_J9g?e=FhiWT3)"
      ],
      "metadata": {
        "id": "FVR25CahPm4c"
      }
    },
    {
      "cell_type": "markdown",
      "source": [
        "## Step 2: Set up your API key\n",
        "Replace 'YOUR_API_KEY' with your actual OpenAI API key."
      ],
      "metadata": {
        "id": "W_llIihG1TSQ"
      }
    },
    {
      "cell_type": "code",
      "source": [
        "os.environ['OPENAI_API_KEY'] = 'YOUR_OPENAI_KEY'"
      ],
      "metadata": {
        "id": "zXj66vTY1I4h"
      },
      "execution_count": 3,
      "outputs": []
    },
    {
      "cell_type": "markdown",
      "source": [
        "## Step 3: Prepare the dataset\n",
        "\n",
        "Hint: Use a JSON or CSV file and convert it to JSONL\n",
        "\n",
        "If loading a CSV dataset and convert it to JSONL format.\n",
        "Complete the conversion code below:"
      ],
      "metadata": {
        "id": "6Ec9hsic1Klw"
      }
    },
    {
      "cell_type": "code",
      "source": [
        "## JSONL file creation\n",
        "import pandas as pd\n",
        "import json\n",
        "\n",
        "df = pd.read_csv('/content/GenAI_Program_FAQ_dataset.csv')"
      ],
      "metadata": {
        "id": "IojHTAj01M9h"
      },
      "execution_count": 8,
      "outputs": []
    },
    {
      "cell_type": "code",
      "source": [
        "df.head()"
      ],
      "metadata": {
        "id": "8EvpX5oko-Yq",
        "outputId": "23e55820-3653-4118-ba31-d217cc403f60",
        "colab": {
          "base_uri": "https://localhost:8080/",
          "height": 206
        }
      },
      "execution_count": 9,
      "outputs": [
        {
          "output_type": "execute_result",
          "data": {
            "text/plain": [
              "                                              prompt  \\\n",
              "0  How the sessions will be organized. Will the r...   \n",
              "1  Is there any pre-requisite required before or ...   \n",
              "2          What will be the duration of the program?   \n",
              "3  What materials will be provided during the cou...   \n",
              "4          What will be the timings of the sessions?   \n",
              "\n",
              "                                          completion  \n",
              "0  This program contains both pre-recorded and li...  \n",
              "1  Intermediate level python programming is requi...  \n",
              "2                    This is a 6 weeks long program.  \n",
              "3  Videos, documents, coding assignments will be ...  \n",
              "4  Live sessions will happen 6 to 7:30 PM IST on ...  "
            ],
            "text/html": [
              "\n",
              "  <div id=\"df-207a493e-619f-42cc-a772-acd843857fbf\" class=\"colab-df-container\">\n",
              "    <div>\n",
              "<style scoped>\n",
              "    .dataframe tbody tr th:only-of-type {\n",
              "        vertical-align: middle;\n",
              "    }\n",
              "\n",
              "    .dataframe tbody tr th {\n",
              "        vertical-align: top;\n",
              "    }\n",
              "\n",
              "    .dataframe thead th {\n",
              "        text-align: right;\n",
              "    }\n",
              "</style>\n",
              "<table border=\"1\" class=\"dataframe\">\n",
              "  <thead>\n",
              "    <tr style=\"text-align: right;\">\n",
              "      <th></th>\n",
              "      <th>prompt</th>\n",
              "      <th>completion</th>\n",
              "    </tr>\n",
              "  </thead>\n",
              "  <tbody>\n",
              "    <tr>\n",
              "      <th>0</th>\n",
              "      <td>How the sessions will be organized. Will the r...</td>\n",
              "      <td>This program contains both pre-recorded and li...</td>\n",
              "    </tr>\n",
              "    <tr>\n",
              "      <th>1</th>\n",
              "      <td>Is there any pre-requisite required before or ...</td>\n",
              "      <td>Intermediate level python programming is requi...</td>\n",
              "    </tr>\n",
              "    <tr>\n",
              "      <th>2</th>\n",
              "      <td>What will be the duration of the program?</td>\n",
              "      <td>This is a 6 weeks long program.</td>\n",
              "    </tr>\n",
              "    <tr>\n",
              "      <th>3</th>\n",
              "      <td>What materials will be provided during the cou...</td>\n",
              "      <td>Videos, documents, coding assignments will be ...</td>\n",
              "    </tr>\n",
              "    <tr>\n",
              "      <th>4</th>\n",
              "      <td>What will be the timings of the sessions?</td>\n",
              "      <td>Live sessions will happen 6 to 7:30 PM IST on ...</td>\n",
              "    </tr>\n",
              "  </tbody>\n",
              "</table>\n",
              "</div>\n",
              "    <div class=\"colab-df-buttons\">\n",
              "\n",
              "  <div class=\"colab-df-container\">\n",
              "    <button class=\"colab-df-convert\" onclick=\"convertToInteractive('df-207a493e-619f-42cc-a772-acd843857fbf')\"\n",
              "            title=\"Convert this dataframe to an interactive table.\"\n",
              "            style=\"display:none;\">\n",
              "\n",
              "  <svg xmlns=\"http://www.w3.org/2000/svg\" height=\"24px\" viewBox=\"0 -960 960 960\">\n",
              "    <path d=\"M120-120v-720h720v720H120Zm60-500h600v-160H180v160Zm220 220h160v-160H400v160Zm0 220h160v-160H400v160ZM180-400h160v-160H180v160Zm440 0h160v-160H620v160ZM180-180h160v-160H180v160Zm440 0h160v-160H620v160Z\"/>\n",
              "  </svg>\n",
              "    </button>\n",
              "\n",
              "  <style>\n",
              "    .colab-df-container {\n",
              "      display:flex;\n",
              "      gap: 12px;\n",
              "    }\n",
              "\n",
              "    .colab-df-convert {\n",
              "      background-color: #E8F0FE;\n",
              "      border: none;\n",
              "      border-radius: 50%;\n",
              "      cursor: pointer;\n",
              "      display: none;\n",
              "      fill: #1967D2;\n",
              "      height: 32px;\n",
              "      padding: 0 0 0 0;\n",
              "      width: 32px;\n",
              "    }\n",
              "\n",
              "    .colab-df-convert:hover {\n",
              "      background-color: #E2EBFA;\n",
              "      box-shadow: 0px 1px 2px rgba(60, 64, 67, 0.3), 0px 1px 3px 1px rgba(60, 64, 67, 0.15);\n",
              "      fill: #174EA6;\n",
              "    }\n",
              "\n",
              "    .colab-df-buttons div {\n",
              "      margin-bottom: 4px;\n",
              "    }\n",
              "\n",
              "    [theme=dark] .colab-df-convert {\n",
              "      background-color: #3B4455;\n",
              "      fill: #D2E3FC;\n",
              "    }\n",
              "\n",
              "    [theme=dark] .colab-df-convert:hover {\n",
              "      background-color: #434B5C;\n",
              "      box-shadow: 0px 1px 3px 1px rgba(0, 0, 0, 0.15);\n",
              "      filter: drop-shadow(0px 1px 2px rgba(0, 0, 0, 0.3));\n",
              "      fill: #FFFFFF;\n",
              "    }\n",
              "  </style>\n",
              "\n",
              "    <script>\n",
              "      const buttonEl =\n",
              "        document.querySelector('#df-207a493e-619f-42cc-a772-acd843857fbf button.colab-df-convert');\n",
              "      buttonEl.style.display =\n",
              "        google.colab.kernel.accessAllowed ? 'block' : 'none';\n",
              "\n",
              "      async function convertToInteractive(key) {\n",
              "        const element = document.querySelector('#df-207a493e-619f-42cc-a772-acd843857fbf');\n",
              "        const dataTable =\n",
              "          await google.colab.kernel.invokeFunction('convertToInteractive',\n",
              "                                                    [key], {});\n",
              "        if (!dataTable) return;\n",
              "\n",
              "        const docLinkHtml = 'Like what you see? Visit the ' +\n",
              "          '<a target=\"_blank\" href=https://colab.research.google.com/notebooks/data_table.ipynb>data table notebook</a>'\n",
              "          + ' to learn more about interactive tables.';\n",
              "        element.innerHTML = '';\n",
              "        dataTable['output_type'] = 'display_data';\n",
              "        await google.colab.output.renderOutput(dataTable, element);\n",
              "        const docLink = document.createElement('div');\n",
              "        docLink.innerHTML = docLinkHtml;\n",
              "        element.appendChild(docLink);\n",
              "      }\n",
              "    </script>\n",
              "  </div>\n",
              "\n",
              "\n",
              "<div id=\"df-62cb0cb4-387e-4564-8db0-2b9ea9df2d7c\">\n",
              "  <button class=\"colab-df-quickchart\" onclick=\"quickchart('df-62cb0cb4-387e-4564-8db0-2b9ea9df2d7c')\"\n",
              "            title=\"Suggest charts\"\n",
              "            style=\"display:none;\">\n",
              "\n",
              "<svg xmlns=\"http://www.w3.org/2000/svg\" height=\"24px\"viewBox=\"0 0 24 24\"\n",
              "     width=\"24px\">\n",
              "    <g>\n",
              "        <path d=\"M19 3H5c-1.1 0-2 .9-2 2v14c0 1.1.9 2 2 2h14c1.1 0 2-.9 2-2V5c0-1.1-.9-2-2-2zM9 17H7v-7h2v7zm4 0h-2V7h2v10zm4 0h-2v-4h2v4z\"/>\n",
              "    </g>\n",
              "</svg>\n",
              "  </button>\n",
              "\n",
              "<style>\n",
              "  .colab-df-quickchart {\n",
              "      --bg-color: #E8F0FE;\n",
              "      --fill-color: #1967D2;\n",
              "      --hover-bg-color: #E2EBFA;\n",
              "      --hover-fill-color: #174EA6;\n",
              "      --disabled-fill-color: #AAA;\n",
              "      --disabled-bg-color: #DDD;\n",
              "  }\n",
              "\n",
              "  [theme=dark] .colab-df-quickchart {\n",
              "      --bg-color: #3B4455;\n",
              "      --fill-color: #D2E3FC;\n",
              "      --hover-bg-color: #434B5C;\n",
              "      --hover-fill-color: #FFFFFF;\n",
              "      --disabled-bg-color: #3B4455;\n",
              "      --disabled-fill-color: #666;\n",
              "  }\n",
              "\n",
              "  .colab-df-quickchart {\n",
              "    background-color: var(--bg-color);\n",
              "    border: none;\n",
              "    border-radius: 50%;\n",
              "    cursor: pointer;\n",
              "    display: none;\n",
              "    fill: var(--fill-color);\n",
              "    height: 32px;\n",
              "    padding: 0;\n",
              "    width: 32px;\n",
              "  }\n",
              "\n",
              "  .colab-df-quickchart:hover {\n",
              "    background-color: var(--hover-bg-color);\n",
              "    box-shadow: 0 1px 2px rgba(60, 64, 67, 0.3), 0 1px 3px 1px rgba(60, 64, 67, 0.15);\n",
              "    fill: var(--button-hover-fill-color);\n",
              "  }\n",
              "\n",
              "  .colab-df-quickchart-complete:disabled,\n",
              "  .colab-df-quickchart-complete:disabled:hover {\n",
              "    background-color: var(--disabled-bg-color);\n",
              "    fill: var(--disabled-fill-color);\n",
              "    box-shadow: none;\n",
              "  }\n",
              "\n",
              "  .colab-df-spinner {\n",
              "    border: 2px solid var(--fill-color);\n",
              "    border-color: transparent;\n",
              "    border-bottom-color: var(--fill-color);\n",
              "    animation:\n",
              "      spin 1s steps(1) infinite;\n",
              "  }\n",
              "\n",
              "  @keyframes spin {\n",
              "    0% {\n",
              "      border-color: transparent;\n",
              "      border-bottom-color: var(--fill-color);\n",
              "      border-left-color: var(--fill-color);\n",
              "    }\n",
              "    20% {\n",
              "      border-color: transparent;\n",
              "      border-left-color: var(--fill-color);\n",
              "      border-top-color: var(--fill-color);\n",
              "    }\n",
              "    30% {\n",
              "      border-color: transparent;\n",
              "      border-left-color: var(--fill-color);\n",
              "      border-top-color: var(--fill-color);\n",
              "      border-right-color: var(--fill-color);\n",
              "    }\n",
              "    40% {\n",
              "      border-color: transparent;\n",
              "      border-right-color: var(--fill-color);\n",
              "      border-top-color: var(--fill-color);\n",
              "    }\n",
              "    60% {\n",
              "      border-color: transparent;\n",
              "      border-right-color: var(--fill-color);\n",
              "    }\n",
              "    80% {\n",
              "      border-color: transparent;\n",
              "      border-right-color: var(--fill-color);\n",
              "      border-bottom-color: var(--fill-color);\n",
              "    }\n",
              "    90% {\n",
              "      border-color: transparent;\n",
              "      border-bottom-color: var(--fill-color);\n",
              "    }\n",
              "  }\n",
              "</style>\n",
              "\n",
              "  <script>\n",
              "    async function quickchart(key) {\n",
              "      const quickchartButtonEl =\n",
              "        document.querySelector('#' + key + ' button');\n",
              "      quickchartButtonEl.disabled = true;  // To prevent multiple clicks.\n",
              "      quickchartButtonEl.classList.add('colab-df-spinner');\n",
              "      try {\n",
              "        const charts = await google.colab.kernel.invokeFunction(\n",
              "            'suggestCharts', [key], {});\n",
              "      } catch (error) {\n",
              "        console.error('Error during call to suggestCharts:', error);\n",
              "      }\n",
              "      quickchartButtonEl.classList.remove('colab-df-spinner');\n",
              "      quickchartButtonEl.classList.add('colab-df-quickchart-complete');\n",
              "    }\n",
              "    (() => {\n",
              "      let quickchartButtonEl =\n",
              "        document.querySelector('#df-62cb0cb4-387e-4564-8db0-2b9ea9df2d7c button');\n",
              "      quickchartButtonEl.style.display =\n",
              "        google.colab.kernel.accessAllowed ? 'block' : 'none';\n",
              "    })();\n",
              "  </script>\n",
              "</div>\n",
              "\n",
              "    </div>\n",
              "  </div>\n"
            ],
            "application/vnd.google.colaboratory.intrinsic+json": {
              "type": "dataframe",
              "variable_name": "df",
              "summary": "{\n  \"name\": \"df\",\n  \"rows\": 28,\n  \"fields\": [\n    {\n      \"column\": \"prompt\",\n      \"properties\": {\n        \"dtype\": \"string\",\n        \"num_unique_values\": 28,\n        \"samples\": [\n          \"When does the latest cohort/program starts?\",\n          \"How is the course structured in terms of difficulty?\",\n          \"What are the main topics covered during the program?\"\n        ],\n        \"semantic_type\": \"\",\n        \"description\": \"\"\n      }\n    },\n    {\n      \"column\": \"completion\",\n      \"properties\": {\n        \"dtype\": \"string\",\n        \"num_unique_values\": 28,\n        \"samples\": [\n          \"The latest cohort starts on 29th November 2024\",\n          \"The program is designed to gradually increase in difficulty, starting with foundational concepts and advancing to complex applications and projects.\",\n          \"Topics like Generative AI, LLMs, Finetuning, RAG, Agents, LLMOps etc are covered during the program. To learn more please visit https://www.tmlcacademy.in/genai\"\n        ],\n        \"semantic_type\": \"\",\n        \"description\": \"\"\n      }\n    }\n  ]\n}"
            }
          },
          "metadata": {},
          "execution_count": 9
        }
      ]
    },
    {
      "cell_type": "code",
      "source": [
        "with open(\"faq_data.jsonl\", \"w\") as f:\n",
        "  for _, row in df.iterrows():\n",
        "    json_line = {\n",
        "        \"messages\": [\n",
        "            {\"role\": \"system\", \"content\": \"You are a helpful assistant.\"},\n",
        "            {\"role\": \"user\", \"content\": row['prompt']},\n",
        "            {\"role\": \"assistant\", \"content\": row['completion']}\n",
        "        ]\n",
        "        }\n",
        "    f.write(json.dumps(json_line) + \"\\n\")"
      ],
      "metadata": {
        "id": "vtkpzsDupHhl"
      },
      "execution_count": 13,
      "outputs": []
    },
    {
      "cell_type": "markdown",
      "source": [
        "## Step 4: Upload the file for fine-tuning\n",
        "\n",
        "Use the OpenAI API to upload the dataset. Replace '<JSONL_FILE>' with your dataset file name."
      ],
      "metadata": {
        "id": "p9tT8xj31qox"
      }
    },
    {
      "cell_type": "code",
      "source": [
        "# upload file with openai client.files\n",
        "client = OpenAI()\n",
        "client.files.create(\n",
        "    file=open(\"faq_data.jsonl\", \"rb\"),\n",
        "    purpose='fine-tune'\n",
        ")"
      ],
      "metadata": {
        "id": "lNn_O2Zv1N7x",
        "outputId": "d3a1d614-e6ba-4dce-adb1-bfc74f8fd93a",
        "colab": {
          "base_uri": "https://localhost:8080/"
        }
      },
      "execution_count": 14,
      "outputs": [
        {
          "output_type": "execute_result",
          "data": {
            "text/plain": [
              "FileObject(id='file-JhKcwRpSxggRkMxgZ8ka5i', bytes=8409, created_at=1733667887, filename='faq_data.jsonl', object='file', purpose='fine-tune', status='processed', status_details=None)"
            ]
          },
          "metadata": {},
          "execution_count": 14
        }
      ]
    },
    {
      "cell_type": "markdown",
      "source": [
        "## Step 5: Fine-tune the model\n",
        "\n",
        "Trigger the fine-tuning job process using the uploaded file ID. Replace '<FILE_ID>' and '<MODEL_NAME>' accordingly."
      ],
      "metadata": {
        "id": "QjhYQXev14PZ"
      }
    },
    {
      "cell_type": "code",
      "source": [
        "# Use client.fine_tuning.jobs.create\n",
        "client.fine_tuning.jobs.create(\n",
        "    training_file=\"file-JhKcwRpSxggRkMxgZ8ka5i\",\n",
        "    model=\"gpt-3.5-turbo\"\n",
        ")"
      ],
      "metadata": {
        "id": "PD1pxir01O75",
        "outputId": "4bf6e2bf-9760-4ad6-e104-d11a90999deb",
        "colab": {
          "base_uri": "https://localhost:8080/"
        }
      },
      "execution_count": 16,
      "outputs": [
        {
          "output_type": "execute_result",
          "data": {
            "text/plain": [
              "FineTuningJob(id='ftjob-47oADAFHIraKWFj3MIVzC29w', created_at=1733667943, error=Error(code=None, message=None, param=None), fine_tuned_model=None, finished_at=None, hyperparameters=Hyperparameters(n_epochs='auto', batch_size='auto', learning_rate_multiplier='auto'), model='gpt-3.5-turbo-0125', object='fine_tuning.job', organization_id='org-bQVIhPzVjnoakAjRyRFBoo5Y', result_files=[], seed=1289404331, status='validating_files', trained_tokens=None, training_file='file-JhKcwRpSxggRkMxgZ8ka5i', validation_file=None, estimated_finish=None, integrations=[], user_provided_suffix=None)"
            ]
          },
          "metadata": {},
          "execution_count": 16
        }
      ]
    },
    {
      "cell_type": "markdown",
      "source": [
        "## Step 6: Monitor and use the fine-tuned model\n",
        "\n",
        "Check list of fine-tuning jobs, retrieve job details."
      ],
      "metadata": {
        "id": "TlxlwCAe2LbB"
      }
    },
    {
      "cell_type": "code",
      "source": [
        "# fine_tuning.jobs.list\n",
        "client.fine_tuning.jobs.list()"
      ],
      "metadata": {
        "id": "c2HCBEnK2SfZ",
        "outputId": "a3d7e73e-a144-4af8-cf91-5f0c0d5b0725",
        "colab": {
          "base_uri": "https://localhost:8080/"
        }
      },
      "execution_count": 17,
      "outputs": [
        {
          "output_type": "execute_result",
          "data": {
            "text/plain": [
              "SyncCursorPage[FineTuningJob](data=[FineTuningJob(id='ftjob-47oADAFHIraKWFj3MIVzC29w', created_at=1733667943, error=Error(code=None, message=None, param=None), fine_tuned_model=None, finished_at=None, hyperparameters=Hyperparameters(n_epochs=3, batch_size=1, learning_rate_multiplier=2), model='gpt-3.5-turbo-0125', object='fine_tuning.job', organization_id='org-bQVIhPzVjnoakAjRyRFBoo5Y', result_files=[], seed=1289404331, status='validating_files', trained_tokens=None, training_file='file-JhKcwRpSxggRkMxgZ8ka5i', validation_file=None, estimated_finish=None, integrations=[], user_provided_suffix=None), FineTuningJob(id='ftjob-piheNt0g58nraC0gv3zG7Cvb', created_at=1733662110, error=Error(code=None, message=None, param=None), fine_tuned_model='ft:gpt-3.5-turbo-0125:personal:faq-model:AcBAxlr4', finished_at=1733662785, hyperparameters=Hyperparameters(n_epochs=3, batch_size=1, learning_rate_multiplier=2), model='gpt-3.5-turbo-0125', object='fine_tuning.job', organization_id='org-bQVIhPzVjnoakAjRyRFBoo5Y', result_files=['file-KvrLFArDzH71obxCX23cEB'], seed=42, status='succeeded', trained_tokens=6183, training_file='file-5pjvKcvrKSRTa5hVJk3JdY', validation_file=None, estimated_finish=None, integrations=[], user_provided_suffix='faq-model')], object='list', has_more=False)"
            ]
          },
          "metadata": {},
          "execution_count": 17
        }
      ]
    },
    {
      "cell_type": "code",
      "source": [
        "# Completion calls can be added to test the fine-tuned model.\n",
        "client.fine_tuning.jobs.retrieve(\"ftjob-47oADAFHIraKWFj3MIVzC29w\")\n",
        "# Remember to test and validate the model after fine-tuning!"
      ],
      "metadata": {
        "id": "NZ-nF9OP1QCy",
        "outputId": "744064ec-c5be-40a6-beca-644194330681",
        "colab": {
          "base_uri": "https://localhost:8080/"
        }
      },
      "execution_count": 18,
      "outputs": [
        {
          "output_type": "execute_result",
          "data": {
            "text/plain": [
              "FineTuningJob(id='ftjob-47oADAFHIraKWFj3MIVzC29w', created_at=1733667943, error=Error(code=None, message=None, param=None), fine_tuned_model=None, finished_at=None, hyperparameters=Hyperparameters(n_epochs=3, batch_size=1, learning_rate_multiplier=2), model='gpt-3.5-turbo-0125', object='fine_tuning.job', organization_id='org-bQVIhPzVjnoakAjRyRFBoo5Y', result_files=[], seed=1289404331, status='running', trained_tokens=None, training_file='file-JhKcwRpSxggRkMxgZ8ka5i', validation_file=None, estimated_finish=None, integrations=[], user_provided_suffix=None)"
            ]
          },
          "metadata": {},
          "execution_count": 18
        }
      ]
    },
    {
      "cell_type": "code",
      "source": [
        "client.fine_tuning.jobs.list_events(\n",
        "    fine_tuning_job_id=\"ftjob-47oADAFHIraKWFj3MIVzC29w\", limit=50\n",
        ").data"
      ],
      "metadata": {
        "id": "gOyXSmTbq7XH",
        "outputId": "6c2cbb7c-25cf-463c-d1d6-81bf14c6e890",
        "colab": {
          "base_uri": "https://localhost:8080/"
        }
      },
      "execution_count": 24,
      "outputs": [
        {
          "output_type": "execute_result",
          "data": {
            "text/plain": [
              "[FineTuningJobEvent(id='ftevent-AbhOWUBOzWpfcORWmHTfPCTT', created_at=1733668299, level='info', message='The job has successfully completed', object='fine_tuning.job.event', data={}, type='message'),\n",
              " FineTuningJobEvent(id='ftevent-wdc44vdFyz0gXmi152ebSCD8', created_at=1733668296, level='info', message='New fine-tuned model created', object='fine_tuning.job.event', data={}, type='message'),\n",
              " FineTuningJobEvent(id='ftevent-4nCxOJPHlUqP4ILbOCrL32bN', created_at=1733668296, level='info', message='Checkpoint created at step 56', object='fine_tuning.job.event', data={}, type='message'),\n",
              " FineTuningJobEvent(id='ftevent-Kl224QV5l71FCjVdfBc3VXr3', created_at=1733668296, level='info', message='Checkpoint created at step 28', object='fine_tuning.job.event', data={}, type='message'),\n",
              " FineTuningJobEvent(id='ftevent-uGPw7yCYe9QOIk3kQxWahqG7', created_at=1733668276, level='info', message='Step 84/84: training loss=0.60', object='fine_tuning.job.event', data={'step': 84, 'train_loss': 0.6044702529907227, 'total_steps': 84, 'train_mean_token_accuracy': 0.8333333134651184}, type='metrics'),\n",
              " FineTuningJobEvent(id='ftevent-CEnivSZV8rsgWb2h77ptPfH8', created_at=1733668268, level='info', message='Step 83/84: training loss=1.16', object='fine_tuning.job.event', data={'step': 83, 'train_loss': 1.1562492847442627, 'total_steps': 84, 'train_mean_token_accuracy': 0.6666666865348816}, type='metrics'),\n",
              " FineTuningJobEvent(id='ftevent-KPUPM01OjyvFLXmFXY7shVYx', created_at=1733668265, level='info', message='Step 82/84: training loss=0.82', object='fine_tuning.job.event', data={'step': 82, 'train_loss': 0.8192035555839539, 'total_steps': 84, 'train_mean_token_accuracy': 0.8695651888847351}, type='metrics'),\n",
              " FineTuningJobEvent(id='ftevent-xpGkG4RnzD3dg0ThZV5V8uT0', created_at=1733668265, level='info', message='Step 81/84: training loss=2.36', object='fine_tuning.job.event', data={'step': 81, 'train_loss': 2.355576276779175, 'total_steps': 84, 'train_mean_token_accuracy': 0.5744680762290955}, type='metrics'),\n",
              " FineTuningJobEvent(id='ftevent-kaIxNVcPzMHjbqcG5YG4Zk4j', created_at=1733668264, level='info', message='Step 80/84: training loss=0.97', object='fine_tuning.job.event', data={'step': 80, 'train_loss': 0.9680308103561401, 'total_steps': 84, 'train_mean_token_accuracy': 0.6666666865348816}, type='metrics'),\n",
              " FineTuningJobEvent(id='ftevent-i7ZKCj4UhDZI6IuON96ZKGWs', created_at=1733668260, level='info', message='Step 79/84: training loss=0.87', object='fine_tuning.job.event', data={'step': 79, 'train_loss': 0.8672753572463989, 'total_steps': 84, 'train_mean_token_accuracy': 0.7586206793785095}, type='metrics'),\n",
              " FineTuningJobEvent(id='ftevent-dkro5wvirfO8DTisMeEFZrgE', created_at=1733668259, level='info', message='Step 78/84: training loss=0.92', object='fine_tuning.job.event', data={'step': 78, 'train_loss': 0.9194737672805786, 'total_steps': 84, 'train_mean_token_accuracy': 0.6666666865348816}, type='metrics'),\n",
              " FineTuningJobEvent(id='ftevent-wVCJeKrkJTh0QyLrS7NnBKa9', created_at=1733668256, level='info', message='Step 77/84: training loss=0.81', object='fine_tuning.job.event', data={'step': 77, 'train_loss': 0.806574285030365, 'total_steps': 84, 'train_mean_token_accuracy': 0.7777777910232544}, type='metrics'),\n",
              " FineTuningJobEvent(id='ftevent-ibSZFfbLc4xmtROcvwi76skl', created_at=1733668256, level='info', message='Step 76/84: training loss=1.04', object='fine_tuning.job.event', data={'step': 76, 'train_loss': 1.0356954336166382, 'total_steps': 84, 'train_mean_token_accuracy': 0.6190476417541504}, type='metrics'),\n",
              " FineTuningJobEvent(id='ftevent-x6VaA9rnmgD0vYtloKULSvx8', created_at=1733668252, level='info', message='Step 75/84: training loss=1.57', object='fine_tuning.job.event', data={'step': 75, 'train_loss': 1.5659741163253784, 'total_steps': 84, 'train_mean_token_accuracy': 0.6538461446762085}, type='metrics'),\n",
              " FineTuningJobEvent(id='ftevent-5r1hHcP3qo6HMleNSYM0zFfv', created_at=1733668252, level='info', message='Step 74/84: training loss=0.75', object='fine_tuning.job.event', data={'step': 74, 'train_loss': 0.7549886107444763, 'total_steps': 84, 'train_mean_token_accuracy': 0.7142857313156128}, type='metrics'),\n",
              " FineTuningJobEvent(id='ftevent-QmoOtmj4P282QsFvVOQ8btzR', created_at=1733668251, level='info', message='Step 73/84: training loss=1.84', object='fine_tuning.job.event', data={'step': 73, 'train_loss': 1.839545488357544, 'total_steps': 84, 'train_mean_token_accuracy': 0.5199999809265137}, type='metrics'),\n",
              " FineTuningJobEvent(id='ftevent-0txWMdII13FRvjzTJAmrt73x', created_at=1733668248, level='info', message='Step 72/84: training loss=0.65', object='fine_tuning.job.event', data={'step': 72, 'train_loss': 0.6515880227088928, 'total_steps': 84, 'train_mean_token_accuracy': 0.7777777910232544}, type='metrics'),\n",
              " FineTuningJobEvent(id='ftevent-jHoTlQSfESCo5yOVS0bomnvd', created_at=1733668248, level='info', message='Step 71/84: training loss=0.98', object='fine_tuning.job.event', data={'step': 71, 'train_loss': 0.9763118028640747, 'total_steps': 84, 'train_mean_token_accuracy': 0.7857142686843872}, type='metrics'),\n",
              " FineTuningJobEvent(id='ftevent-sqG2Yau2L9pxD7SJGVF5DWIW', created_at=1733668246, level='info', message='Step 70/84: training loss=2.12', object='fine_tuning.job.event', data={'step': 70, 'train_loss': 2.1217665672302246, 'total_steps': 84, 'train_mean_token_accuracy': 0.5199999809265137}, type='metrics'),\n",
              " FineTuningJobEvent(id='ftevent-XLVRRF5NODF7oYRdJfTEZc59', created_at=1733668243, level='info', message='Step 69/84: training loss=0.70', object='fine_tuning.job.event', data={'step': 69, 'train_loss': 0.6970384120941162, 'total_steps': 84, 'train_mean_token_accuracy': 0.782608687877655}, type='metrics'),\n",
              " FineTuningJobEvent(id='ftevent-jsPpBRUXTZ7kYiK6K9SreeFj', created_at=1733668243, level='info', message='Step 68/84: training loss=1.65', object='fine_tuning.job.event', data={'step': 68, 'train_loss': 1.646716594696045, 'total_steps': 84, 'train_mean_token_accuracy': 0.5333333611488342}, type='metrics'),\n",
              " FineTuningJobEvent(id='ftevent-45aB9j9Gml3lsYRuXf1CzNA9', created_at=1733668242, level='info', message='Step 67/84: training loss=1.72', object='fine_tuning.job.event', data={'step': 67, 'train_loss': 1.7242047786712646, 'total_steps': 84, 'train_mean_token_accuracy': 0.6129032373428345}, type='metrics'),\n",
              " FineTuningJobEvent(id='ftevent-QZsLX8Naj9grCS0t1qUEzx9j', created_at=1733668238, level='info', message='Step 66/84: training loss=1.04', object='fine_tuning.job.event', data={'step': 66, 'train_loss': 1.039278507232666, 'total_steps': 84, 'train_mean_token_accuracy': 0.7058823704719543}, type='metrics'),\n",
              " FineTuningJobEvent(id='ftevent-w0XhpWdhvmYyYIYUlOFqTNEU', created_at=1733668235, level='info', message='Step 65/84: training loss=0.82', object='fine_tuning.job.event', data={'step': 65, 'train_loss': 0.8193031549453735, 'total_steps': 84, 'train_mean_token_accuracy': 0.7647058963775635}, type='metrics'),\n",
              " FineTuningJobEvent(id='ftevent-rbUsKBbHEZ5xTeLjMVoRNBJA', created_at=1733668232, level='info', message='Step 64/84: training loss=1.70', object='fine_tuning.job.event', data={'step': 64, 'train_loss': 1.6953399181365967, 'total_steps': 84, 'train_mean_token_accuracy': 0.5}, type='metrics'),\n",
              " FineTuningJobEvent(id='ftevent-7SoeCiCQTjPclGvA1tx5Mq0r', created_at=1733668232, level='info', message='Step 63/84: training loss=1.08', object='fine_tuning.job.event', data={'step': 63, 'train_loss': 1.0842057466506958, 'total_steps': 84, 'train_mean_token_accuracy': 0.7777777910232544}, type='metrics'),\n",
              " FineTuningJobEvent(id='ftevent-xCIyD2KZFvpSzMSlqdAFxQlD', created_at=1733668232, level='info', message='Step 62/84: training loss=1.07', object='fine_tuning.job.event', data={'step': 62, 'train_loss': 1.0683636665344238, 'total_steps': 84, 'train_mean_token_accuracy': 0.6842105388641357}, type='metrics'),\n",
              " FineTuningJobEvent(id='ftevent-fQpSu00w3sC4ClpRN9jQ50zi', created_at=1733668228, level='info', message='Step 61/84: training loss=0.77', object='fine_tuning.job.event', data={'step': 61, 'train_loss': 0.7697800993919373, 'total_steps': 84, 'train_mean_token_accuracy': 0.7419354915618896}, type='metrics'),\n",
              " FineTuningJobEvent(id='ftevent-w7eMrn6qK4rj2zvmDU4A63lz', created_at=1733668226, level='info', message='Step 60/84: training loss=2.22', object='fine_tuning.job.event', data={'step': 60, 'train_loss': 2.2185068130493164, 'total_steps': 84, 'train_mean_token_accuracy': 0.6000000238418579}, type='metrics'),\n",
              " FineTuningJobEvent(id='ftevent-n4O9udloFOLsmDBHWUH2icRh', created_at=1733668223, level='info', message='Step 59/84: training loss=0.49', object='fine_tuning.job.event', data={'step': 59, 'train_loss': 0.4860405921936035, 'total_steps': 84, 'train_mean_token_accuracy': 0.8333333134651184}, type='metrics'),\n",
              " FineTuningJobEvent(id='ftevent-0r8Z7ib8Nr5aISEUOtobAla5', created_at=1733668223, level='info', message='Step 58/84: training loss=3.32', object='fine_tuning.job.event', data={'step': 58, 'train_loss': 3.317253351211548, 'total_steps': 84, 'train_mean_token_accuracy': 0.4848484992980957}, type='metrics'),\n",
              " FineTuningJobEvent(id='ftevent-7iLoarg11dEgr9lCZ1NpajMx', created_at=1733668223, level='info', message='Step 57/84: training loss=0.70', object='fine_tuning.job.event', data={'step': 57, 'train_loss': 0.7023801207542419, 'total_steps': 84, 'train_mean_token_accuracy': 0.7272727489471436}, type='metrics'),\n",
              " FineTuningJobEvent(id='ftevent-3b1WmTCGGqLgnOuF4hEk0a28', created_at=1733668218, level='info', message='Step 56/84: training loss=2.33', object='fine_tuning.job.event', data={'step': 56, 'train_loss': 2.33042573928833, 'total_steps': 84, 'train_mean_token_accuracy': 0.6000000238418579}, type='metrics'),\n",
              " FineTuningJobEvent(id='ftevent-xBg43uUVLLq4P5PwQiPhJRGW', created_at=1733668213, level='info', message='Step 55/84: training loss=1.07', object='fine_tuning.job.event', data={'step': 55, 'train_loss': 1.07302725315094, 'total_steps': 84, 'train_mean_token_accuracy': 0.6333333253860474}, type='metrics'),\n",
              " FineTuningJobEvent(id='ftevent-TpZjcCVMijOf1jJgsnJ7EXQt', created_at=1733668210, level='info', message='Step 54/84: training loss=0.99', object='fine_tuning.job.event', data={'step': 54, 'train_loss': 0.9876435399055481, 'total_steps': 84, 'train_mean_token_accuracy': 0.7142857313156128}, type='metrics'),\n",
              " FineTuningJobEvent(id='ftevent-i9lJ3IVbpj2gjlSAZKt0zrB0', created_at=1733668210, level='info', message='Step 53/84: training loss=1.96', object='fine_tuning.job.event', data={'step': 53, 'train_loss': 1.9583078622817993, 'total_steps': 84, 'train_mean_token_accuracy': 0.5806451439857483}, type='metrics'),\n",
              " FineTuningJobEvent(id='ftevent-ydFcdad3oIbGpM3IBQKzceZv', created_at=1733668209, level='info', message='Step 52/84: training loss=0.97', object='fine_tuning.job.event', data={'step': 52, 'train_loss': 0.9652819037437439, 'total_steps': 84, 'train_mean_token_accuracy': 0.6111111044883728}, type='metrics'),\n",
              " FineTuningJobEvent(id='ftevent-hrvJtzOlgf1QpbQWQmRUjV0T', created_at=1733668204, level='info', message='Step 51/84: training loss=0.89', object='fine_tuning.job.event', data={'step': 51, 'train_loss': 0.893244206905365, 'total_steps': 84, 'train_mean_token_accuracy': 0.75}, type='metrics'),\n",
              " FineTuningJobEvent(id='ftevent-Cj0OwkUp4bNfVjSEGhkfhsOp', created_at=1733668203, level='info', message='Step 50/84: training loss=1.04', object='fine_tuning.job.event', data={'step': 50, 'train_loss': 1.0379390716552734, 'total_steps': 84, 'train_mean_token_accuracy': 0.695652186870575}, type='metrics'),\n",
              " FineTuningJobEvent(id='ftevent-OdTrbSqxHfLOnPjcQGX3k1eG', created_at=1733668203, level='info', message='Step 49/84: training loss=1.00', object='fine_tuning.job.event', data={'step': 49, 'train_loss': 1.0003937482833862, 'total_steps': 84, 'train_mean_token_accuracy': 0.7777777910232544}, type='metrics'),\n",
              " FineTuningJobEvent(id='ftevent-QqUFIShfJZaqhJrvXOsL7lfp', created_at=1733668199, level='info', message='Step 48/84: training loss=1.03', object='fine_tuning.job.event', data={'step': 48, 'train_loss': 1.0317106246948242, 'total_steps': 84, 'train_mean_token_accuracy': 0.739130437374115}, type='metrics'),\n",
              " FineTuningJobEvent(id='ftevent-OmsmG2To4g1CpICfvrLS4zt9', created_at=1733668198, level='info', message='Step 47/84: training loss=1.56', object='fine_tuning.job.event', data={'step': 47, 'train_loss': 1.558778166770935, 'total_steps': 84, 'train_mean_token_accuracy': 0.529411792755127}, type='metrics'),\n",
              " FineTuningJobEvent(id='ftevent-OCp6PPv5Rjvtw9Jp80nJ1FfC', created_at=1733668195, level='info', message='Step 46/84: training loss=1.26', object='fine_tuning.job.event', data={'step': 46, 'train_loss': 1.2551906108856201, 'total_steps': 84, 'train_mean_token_accuracy': 0.6333333253860474}, type='metrics'),\n",
              " FineTuningJobEvent(id='ftevent-PzhnNdL7H9pjwG7prvaa4QUg', created_at=1733668195, level='info', message='Step 45/84: training loss=1.85', object='fine_tuning.job.event', data={'step': 45, 'train_loss': 1.8518903255462646, 'total_steps': 84, 'train_mean_token_accuracy': 0.5333333611488342}, type='metrics'),\n",
              " FineTuningJobEvent(id='ftevent-GI1f2cKO24h9WYKsQaPaZZlU', created_at=1733668195, level='info', message='Step 44/84: training loss=2.42', object='fine_tuning.job.event', data={'step': 44, 'train_loss': 2.4194726943969727, 'total_steps': 84, 'train_mean_token_accuracy': 0.47999998927116394}, type='metrics'),\n",
              " FineTuningJobEvent(id='ftevent-RPetwR3aCMIEVBeUfogLenqS', created_at=1733668191, level='info', message='Step 43/84: training loss=2.03', object='fine_tuning.job.event', data={'step': 43, 'train_loss': 2.028123140335083, 'total_steps': 84, 'train_mean_token_accuracy': 0.4399999976158142}, type='metrics'),\n",
              " FineTuningJobEvent(id='ftevent-m5zSiODgQwZCiB9Mms7IL1ov', created_at=1733668190, level='info', message='Step 42/84: training loss=0.81', object='fine_tuning.job.event', data={'step': 42, 'train_loss': 0.8138200640678406, 'total_steps': 84, 'train_mean_token_accuracy': 0.7272727489471436}, type='metrics'),\n",
              " FineTuningJobEvent(id='ftevent-HtRyNNnnQtfJeKgBovQvtyIn', created_at=1733668187, level='info', message='Step 41/84: training loss=3.62', object='fine_tuning.job.event', data={'step': 41, 'train_loss': 3.6239991188049316, 'total_steps': 84, 'train_mean_token_accuracy': 0.4545454680919647}, type='metrics'),\n",
              " FineTuningJobEvent(id='ftevent-yi5ScEayHy3J8zMggzh0Xhuu', created_at=1733668186, level='info', message='Step 40/84: training loss=2.05', object='fine_tuning.job.event', data={'step': 40, 'train_loss': 2.0494384765625, 'total_steps': 84, 'train_mean_token_accuracy': 0.5555555820465088}, type='metrics'),\n",
              " FineTuningJobEvent(id='ftevent-SK2Ub1NjHH9nzQDeJxwlzAyE', created_at=1733668186, level='info', message='Step 39/84: training loss=0.76', object='fine_tuning.job.event', data={'step': 39, 'train_loss': 0.7583715319633484, 'total_steps': 84, 'train_mean_token_accuracy': 0.8333333134651184}, type='metrics')]"
            ]
          },
          "metadata": {},
          "execution_count": 24
        }
      ]
    },
    {
      "cell_type": "markdown",
      "source": [
        "## Step 7: Use the fine-tuned model"
      ],
      "metadata": {
        "id": "1mzRIIwl2WNA"
      }
    },
    {
      "cell_type": "code",
      "source": [
        "from openai import OpenAI\n",
        "client = OpenAI()"
      ],
      "metadata": {
        "id": "uc2QX52Ocn2d"
      },
      "execution_count": 4,
      "outputs": []
    },
    {
      "cell_type": "code",
      "source": [
        "completion = client.chat.completions.create(\n",
        "    model=\"ft:gpt-3.5-turbo-0125:personal::AcCbn4dP\",\n",
        "    messages=[\n",
        "        {\"role\": \"system\", \"content\": \"You are a helpful assistant to answering TMLC questions.\"},\n",
        "        {\"role\": \"user\", \"content\": \"Can you tell what's the duration of TMLC course?\"}\n",
        "    ]\n",
        ")\n",
        "print(\"Fine-tuned model response:\", completion.choices[0].message.content)"
      ],
      "metadata": {
        "id": "Yo4RAWpk2XfP",
        "outputId": "428f25fe-7d01-4bbe-c3f3-f083476c1900",
        "colab": {
          "base_uri": "https://localhost:8080/"
        }
      },
      "execution_count": 23,
      "outputs": [
        {
          "output_type": "stream",
          "name": "stdout",
          "text": [
            "Fine-tuned model response: TMLC is a 1-month Comprehensive course.\n"
          ]
        }
      ]
    }
  ]
}