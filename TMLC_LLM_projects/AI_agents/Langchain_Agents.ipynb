{
  "nbformat": 4,
  "nbformat_minor": 0,
  "metadata": {
    "colab": {
      "provenance": [],
      "include_colab_link": true
    },
    "kernelspec": {
      "name": "python3",
      "display_name": "Python 3"
    },
    "language_info": {
      "name": "python"
    }
  },
  "cells": [
    {
      "cell_type": "markdown",
      "metadata": {
        "id": "view-in-github",
        "colab_type": "text"
      },
      "source": [
        "<a href=\"https://colab.research.google.com/github/avikumart/LLM-GenAI-Transformers-Notebooks/blob/main/TMLC_LLM_projects/AI_agents/Langchain_Agents.ipynb\" target=\"_parent\"><img src=\"https://colab.research.google.com/assets/colab-badge.svg\" alt=\"Open In Colab\"/></a>"
      ]
    },
    {
      "cell_type": "markdown",
      "source": [
        "## Install Libraries"
      ],
      "metadata": {
        "id": "4AnKwmEEnA1Q"
      }
    },
    {
      "cell_type": "code",
      "execution_count": 1,
      "metadata": {
        "colab": {
          "base_uri": "https://localhost:8080/"
        },
        "collapsed": true,
        "id": "zLKHKXBdmrBu",
        "outputId": "016aefab-ab20-43e9-8337-13c5ccfa8f11"
      },
      "outputs": [
        {
          "output_type": "stream",
          "name": "stdout",
          "text": [
            "  Preparing metadata (setup.py) ... \u001b[?25l\u001b[?25hdone\n",
            "\u001b[2K   \u001b[90m━━━━━━━━━━━━━━━━━━━━━━━━━━━━━━━━━━━━━━━━\u001b[0m \u001b[32m54.5/54.5 kB\u001b[0m \u001b[31m2.5 MB/s\u001b[0m eta \u001b[36m0:00:00\u001b[0m\n",
            "\u001b[2K   \u001b[90m━━━━━━━━━━━━━━━━━━━━━━━━━━━━━━━━━━━━━━━━\u001b[0m \u001b[32m2.5/2.5 MB\u001b[0m \u001b[31m11.5 MB/s\u001b[0m eta \u001b[36m0:00:00\u001b[0m\n",
            "\u001b[2K   \u001b[90m━━━━━━━━━━━━━━━━━━━━━━━━━━━━━━━━━━━━━━━━\u001b[0m \u001b[32m209.2/209.2 kB\u001b[0m \u001b[31m3.7 MB/s\u001b[0m eta \u001b[36m0:00:00\u001b[0m\n",
            "\u001b[2K   \u001b[90m━━━━━━━━━━━━━━━━━━━━━━━━━━━━━━━━━━━━━━━━\u001b[0m \u001b[32m412.7/412.7 kB\u001b[0m \u001b[31m10.5 MB/s\u001b[0m eta \u001b[36m0:00:00\u001b[0m\n",
            "\u001b[2K   \u001b[90m━━━━━━━━━━━━━━━━━━━━━━━━━━━━━━━━━━━━━━━━\u001b[0m \u001b[32m1.2/1.2 MB\u001b[0m \u001b[31m22.8 MB/s\u001b[0m eta \u001b[36m0:00:00\u001b[0m\n",
            "\u001b[2K   \u001b[90m━━━━━━━━━━━━━━━━━━━━━━━━━━━━━━━━━━━━━━━━\u001b[0m \u001b[32m50.9/50.9 kB\u001b[0m \u001b[31m2.5 MB/s\u001b[0m eta \u001b[36m0:00:00\u001b[0m\n",
            "\u001b[?25h  Building wheel for wikipedia (setup.py) ... \u001b[?25l\u001b[?25hdone\n"
          ]
        }
      ],
      "source": [
        "!pip install langchain langchain-openai openai wikipedia langchain-community langchain-experimental -q"
      ]
    },
    {
      "cell_type": "code",
      "source": [
        "import os\n",
        "from google.colab import userdata\n",
        "OpenAI_API = userdata.get('OPENAI_API_KEY')\n",
        "os.environ['OPENAI_API_KEY'] = OpenAI_API"
      ],
      "metadata": {
        "id": "3_4hrpqFnaev"
      },
      "execution_count": 2,
      "outputs": []
    },
    {
      "cell_type": "markdown",
      "source": [
        "## React Agent with tools"
      ],
      "metadata": {
        "id": "WRahFRY93GHY"
      }
    },
    {
      "cell_type": "markdown",
      "source": [
        "A Zero-shot ReAct Agent refers to a type of agent used in ReAct (Reasoning and Acting) frameworks that can perform tasks without requiring specific training or fine-tuning on task-specific examples. In the zero-shot setting, the agent is capable of reasoning and acting on a given task or prompt without being explicitly trained on that exact task."
      ],
      "metadata": {
        "id": "5tS8Da2x9goY"
      }
    },
    {
      "cell_type": "code",
      "source": [
        "import pandas as pd\n",
        "import os\n",
        "from langchain.agents import initialize_agent, AgentType, load_tools\n",
        "from langchain_community.chat_models import ChatOpenAI\n",
        "from langchain_core.tools import Tool\n",
        "from langchain.chat_models import ChatOpenAI\n",
        "from langchain import hub"
      ],
      "metadata": {
        "id": "2c0nr1JO0Vbn"
      },
      "execution_count": 3,
      "outputs": []
    },
    {
      "cell_type": "code",
      "source": [
        "llm = ChatOpenAI(temperature=0, model_name=\"gpt-4o-mini\")"
      ],
      "metadata": {
        "colab": {
          "base_uri": "https://localhost:8080/"
        },
        "id": "IQ7ASuAr7gGg",
        "outputId": "4b5e5bcb-e045-4f71-88af-c9aebe63b6e4"
      },
      "execution_count": 4,
      "outputs": [
        {
          "output_type": "stream",
          "name": "stderr",
          "text": [
            "<ipython-input-4-4faf22c6b3bb>:1: LangChainDeprecationWarning: The class `ChatOpenAI` was deprecated in LangChain 0.0.10 and will be removed in 1.0. An updated version of the class exists in the :class:`~langchain-openai package and should be used instead. To use it run `pip install -U :class:`~langchain-openai` and import as `from :class:`~langchain_openai import ChatOpenAI``.\n",
            "  llm = ChatOpenAI(temperature=0, model_name=\"gpt-4o-mini\")\n"
          ]
        }
      ]
    },
    {
      "cell_type": "code",
      "source": [
        "# Load the required tools (Wikipedia and LLM Math) to be used by the agent\n",
        "tools = load_tools([\"wikipedia\", \"llm-math\"], llm=llm)\n",
        "# Initialize the agent with the tools and set the agent type to ZERO_SHOT_REACT_DESCRIPTION\n",
        "# The 'verbose=True' argument enables detailed logging during execution\n",
        "agent = initialize_agent(tools , llm, agent=AgentType.ZERO_SHOT_REACT_DESCRIPTION, verbose=True)\n",
        "result_1 = agent.run(\"I am going to buy 5 boxes of apple. Each box containes 2 apples. If I don't buy 5 boxes of apple instead buy 3 and get 2 boxes of oranges which contain 3 oranges per box. How many total apples will I have?\")\n",
        "# Print the result of the agent's response to the query\n",
        "print(result_1)"
      ],
      "metadata": {
        "colab": {
          "base_uri": "https://localhost:8080/"
        },
        "id": "qQ94AKsY8fxD",
        "outputId": "1fe970fa-faf9-478c-d368-b0b3a5a57477"
      },
      "execution_count": 5,
      "outputs": [
        {
          "output_type": "stream",
          "name": "stderr",
          "text": [
            "<ipython-input-5-3156c10a1a1e>:5: LangChainDeprecationWarning: LangChain agents will continue to be supported, but it is recommended for new use cases to be built with LangGraph. LangGraph offers a more flexible and full-featured framework for building agents, including support for tool-calling, persistence of state, and human-in-the-loop workflows. For details, refer to the `LangGraph documentation <https://langchain-ai.github.io/langgraph/>`_ as well as guides for `Migrating from AgentExecutor <https://python.langchain.com/docs/how_to/migrate_agent/>`_ and LangGraph's `Pre-built ReAct agent <https://langchain-ai.github.io/langgraph/how-tos/create-react-agent/>`_.\n",
            "  agent = initialize_agent(tools , llm, agent=AgentType.ZERO_SHOT_REACT_DESCRIPTION, verbose=True)\n",
            "<ipython-input-5-3156c10a1a1e>:6: LangChainDeprecationWarning: The method `Chain.run` was deprecated in langchain 0.1.0 and will be removed in 1.0. Use :meth:`~invoke` instead.\n",
            "  result_1 = agent.run(\"I am going to buy 5 boxes of apple. Each box containes 2 apples. If I don't buy 5 boxes of apple instead buy 3 and get 2 boxes of oranges which contain 3 oranges per box. How many total apples will I have?\")\n"
          ]
        },
        {
          "output_type": "stream",
          "name": "stdout",
          "text": [
            "\n",
            "\n",
            "\u001b[1m> Entering new AgentExecutor chain...\u001b[0m\n",
            "\u001b[32;1m\u001b[1;3mTo find out how many total apples I will have, I need to calculate the number of apples in the 3 boxes I plan to buy. Each box contains 2 apples, so I will multiply the number of boxes by the number of apples per box. \n",
            "\n",
            "Action: Calculator\n",
            "Action Input: 3 * 2\u001b[0m\n",
            "Observation: \u001b[33;1m\u001b[1;3mAnswer: 6\u001b[0m\n",
            "Thought:\u001b[32;1m\u001b[1;3mI have calculated that if I buy 3 boxes of apples, I will have 6 apples. Now, I need to consider the oranges, but since the question only asks for the total number of apples, I don't need to calculate the oranges. \n",
            "\n",
            "Final Answer: 6 apples.\u001b[0m\n",
            "\n",
            "\u001b[1m> Finished chain.\u001b[0m\n",
            "6 apples.\n"
          ]
        }
      ]
    },
    {
      "cell_type": "code",
      "source": [
        "result_2 = agent.run(\"Who is the highest mountain peaks of world? What are the other two highest mountain peaks in the world following the first?\")\n",
        "print(result_2)"
      ],
      "metadata": {
        "colab": {
          "base_uri": "https://localhost:8080/"
        },
        "id": "Zy60c06l9SAR",
        "outputId": "7a3a3bf2-4257-4b63-c3e8-5ff53679d107"
      },
      "execution_count": null,
      "outputs": [
        {
          "output_type": "stream",
          "name": "stdout",
          "text": [
            "\n",
            "\n",
            "\u001b[1m> Entering new AgentExecutor chain...\u001b[0m\n",
            "\u001b[32;1m\u001b[1;3mTo answer the question about the highest mountain peaks in the world, I need to look up information regarding the tallest mountains. The highest peak is known to be Mount Everest, but I need to confirm this and find the next two highest peaks as well. \n",
            "\n",
            "Action: wikipedia  \n",
            "Action Input: \"highest mountain peaks in the world\"  \u001b[0m\n",
            "Observation: \u001b[36;1m\u001b[1;3mPage: List of highest mountains on Earth\n",
            "Summary: There are at least 108 mountains on Earth with elevations of 7,200 m (23,600 ft; 4.5 mi) or greater above sea level. Of these, 14 are more than 8,000 m (26,000 ft; 5.0 mi). The vast majority of these mountains are located on the edge of the Indian Plate and Eurasian Plate in China, India, Nepal, and Pakistan.\n",
            "\n",
            "The dividing line between a mountain with multiple peaks and separate mountains is not always clear (see also Highest unclimbed mountain). A popular and intuitive way to distinguish mountains from subsidiary peaks is by their height above the highest saddle connecting it to a higher summit, a measure called topographic prominence or re-ascent (the higher summit is called the \"parent peak\"). A common definition of a mountain is a summit with 300 m (980 ft) prominence. Alternatively, a relative prominence (prominence/height) is used (usually 7–8%) to reflect that in higher mountain ranges everything is on a larger scale. The table below lists the highest 100 summits with at least 500 m (1,640 ft) prominence, approximating a 7% relative prominence. A drawback of a prominence-based list is that it may exclude well-known or spectacular mountains that are connected via a high ridge to a taller summit, such as Eiger, Nuptse or Annapurna IV. A few such peaks and mountains with nearly sufficient prominence are included in this list, and given a rank of \"S\".\n",
            "It is very unlikely that all given heights are correct to the nearest metre; indeed, the sea level is often problematic to define when a mountain is remote from the sea. Different sources often differ by many metres, and the heights given below may well differ from those elsewhere in this encyclopedia. As an extreme example, Ulugh Muztagh on the north Tibetan Plateau is often listed as 7,723 m (25,338 ft) to 7,754 m (25,440 ft), but appears to be only 6,973 m (22,877 ft) to 6,987 m (22,923 ft). Some mountains differ by more than 100 m (330 ft) on different maps, while even very thorough current measurements of Mount Everest range from 8,840 m (29,003 ft) to 8,849 m (29,032 ft). These discrepancies serve to emphasize the uncertainties in the listed heights.\n",
            "Though some parts of the world, especially the most mountainous parts, have never been thoroughly mapped, it is unlikely that any mountains this high have been overlooked, because synthetic aperture radar can and has been used to measure elevations of most otherwise inaccessible places. Still, heights or prominences may be revised, so that the order of the list may change and even new mountains could enter the list over time. To be safe, the list has been extended to include all 7,200 m (23,622 ft) peaks.\n",
            "The highest mountains above sea level are generally not the highest above the surrounding terrain. There is no precise definition of surrounding base, but Denali, Mount Kilimanjaro and Nanga Parbat are possible candidates for the tallest mountain on land by this measure. The bases of mountain islands are below sea level, and given this consideration Mauna Kea (4,207 m (13,802 ft) above sea level) is the world's tallest mountain and volcano, rising about 10,203 m (33,474 ft) from the Pacific Ocean floor. Mount Lamlam on Guam is periodically claimed to be among the world's highest mountains because it is adjacent to the Mariana Trench; the most extreme claim is that, measured from Challenger Deep 313 kilometres (194 mi) away, Mount Lamlam is 11,530 metres (37,820 ft) tall. Ojos del Salado has the greatest rise on Earth: 13,420 m (44,029 ft) vertically to the summit from the bottom of the Atacama Trench, which is about 560 km (350 mi) away, although most of this rise is not part of the mountain.\n",
            "The highest mountains are also not generally the most voluminous. Mauna Loa (4,169 m or 13,678 ft) is the largest mountain on Earth in terms of base area (about 5,200 km2 or 2,000 sq mi) and volume (about 42,000 km3 or 10,000 cu mi), although, due to the intergrade of lava from Kilauea,\u001b[0m\n",
            "Thought:\u001b[32;1m\u001b[1;3mI need to extract the specific information about the highest mountain peaks, particularly Mount Everest and the next two highest peaks.\n",
            "\n",
            "Action: wikipedia  \n",
            "Action Input: \"Mount Everest\"  \u001b[0m\n",
            "Observation: \u001b[36;1m\u001b[1;3mPage: Mount Everest\n",
            "Summary: Mount Everest, known locally as Sagarmatha or Qomolangma,  is Earth's highest mountain above sea level, located in the Mahalangur Himal sub-range of the Himalayas. The China–Nepal border runs across its summit point. Its elevation (snow height) of 8,848.86 m (29,031 ft 8+1⁄2 in) was most recently established in 2020 by the Chinese and Nepali authorities.\n",
            "Mount Everest attracts many climbers, including highly experienced mountaineers. There are two main climbing routes, one approaching the summit from the southeast in Nepal (known as the \"standard route\") and the other from the north in Tibet. While not posing substantial technical climbing challenges on the standard route, Everest presents dangers such as altitude sickness, weather, and wind, as well as hazards from avalanches and the Khumbu Icefall. As of May 2024, 340 people have died on Everest. Over 200 bodies remain on the mountain and have not been removed due to the dangerous conditions.\n",
            "Climbers typically ascend only part of Mount Everest's elevation, as the mountain's full elevation is measured from the geoid, which approximates sea level. The closest sea to Mount Everest's summit is the Bay of Bengal, almost 700 km (430 mi) away. To approximate a climb of the entire height of Mount Everest, one would need to start from this coastline, a feat accomplished by Tim Macartney-Snape's team in 1990.\n",
            "Climbers usually begin their ascent from base camps above 5,000 m (16,404 ft). The amount of elevation climbed from below these camps varies. On the Tibetan side, most climbers drive directly to the North Base Camp. On the Nepalese side, climbers generally fly into Kathmandu, then Lukla, and trek to the South Base Camp, making the climb from Lukla to the summit about 6,000 m (19,685 ft) in elevation gain.\n",
            "The first recorded efforts to reach Everest's summit were made by British mountaineers. As Nepal did not allow foreigners to enter the country at the time, the British made several attempts on the north ridge route from the Tibetan side. After the first reconnaissance expedition by the British in 1921 reached 7,000 m (22,970 ft) on the North Col, the 1922 expedition pushed the north ridge route up to 8,320 m (27,300 ft), marking the first time a human had climbed above 8,000 m (26,247 ft). The 1924 expedition resulted in one of the greatest mysteries on Everest to this day: George Mallory and Andrew Irvine made a final summit attempt on 8 June but never returned, sparking debate as to whether they were the first to reach the top. Tenzing Norgay and Edmund Hillary made the first documented ascent of Everest in 1953, using the southeast ridge route. Norgay had reached 8,595 m (28,199 ft) the previous year as a member of the 1952 Swiss expedition. The Chinese mountaineering team of Wang Fuzhou, Gonpo, and Qu Yinhua made the first reported ascent of the peak from the north ridge on 25 May 1960.\n",
            "\n",
            "Page: List of people who died climbing Mount Everest\n",
            "Summary: Over 340 people have died attempting to reach—or return from—the summit of Mount Everest which, at 8,848.86 m (29,031 ft 8+1⁄2 in), is Earth's highest mountain and a particularly desirable peak for mountaineers. This makes it the mountain with the most deaths, although it does not have the highest death rate. The most recent years without known deaths on the mountain are 1977, in which only two people reached the summit, and 2020, when permits were suspended by Nepal because of the COVID-19 pandemic.\n",
            "\n",
            "Deaths have been attributed to avalanches, falls, serac collapse, exposure, frostbite, or health problems related to conditions on the mountain. Not all bodies have been located, so details on those deaths are not available.\n",
            "The upper reaches of the mountain are in the death zone, a mountaineering term for altitudes above a certain point – around 8,000 m (26,000 ft), or less than 356 millibars (5.16 psi) of atmospheric pressure – where the oxygen pressure level is not sufficient to sustain human life. Ma\u001b[0m\n",
            "Thought:\u001b[32;1m\u001b[1;3mI have gathered the necessary information about the highest mountain peaks in the world. \n",
            "\n",
            "1. **Mount Everest** is the highest mountain, with an elevation of **8,848.86 m (29,031 ft)**.\n",
            "2. The second highest mountain is **K2 (Mount Godwin-Austen)**, which has an elevation of **8,611 m (28,251 ft)**.\n",
            "3. The third highest mountain is **Kangchenjunga**, with an elevation of **8,586 m (28,169 ft)**.\n",
            "\n",
            "Final Answer: The highest mountain peak in the world is Mount Everest (8,848.86 m), followed by K2 (8,611 m) and Kangchenjunga (8,586 m).\u001b[0m\n",
            "\n",
            "\u001b[1m> Finished chain.\u001b[0m\n",
            "The highest mountain peak in the world is Mount Everest (8,848.86 m), followed by K2 (8,611 m) and Kangchenjunga (8,586 m).\n"
          ]
        }
      ]
    },
    {
      "cell_type": "markdown",
      "source": [
        "## Add memory to Agent"
      ],
      "metadata": {
        "id": "a1-Gi9lT9lag"
      }
    },
    {
      "cell_type": "code",
      "source": [
        "from langchain.memory import ConversationBufferMemory"
      ],
      "metadata": {
        "id": "R3y5N7kB9m99"
      },
      "execution_count": 7,
      "outputs": []
    },
    {
      "cell_type": "code",
      "source": [
        "# Initialize memory to store the conversation history with a key 'chat_history'\n",
        "memory = ConversationBufferMemory(memory_key=\"chat_history\")  # Storing the conversation history\n",
        "\n",
        "# Initialize the conversational agent with specified configurations\n",
        "conversational_agent = initialize_agent(\n",
        "    agent='conversational-react-description',  # Set the agent type to conversational-react-description\n",
        "    tools=tools,  # Provide the tools (e.g., Wikipedia, LLM math) to the agent\n",
        "    llm=llm,  # Assign the language model to the agent\n",
        "    verbose=True,  # Enable detailed logging of the agent's actions\n",
        "    max_iterations=3,  # Limit the number of iterations for the agent's response\n",
        "    memory=memory,  # Pass the conversation memory to store the chat history\n",
        ")"
      ],
      "metadata": {
        "colab": {
          "base_uri": "https://localhost:8080/"
        },
        "id": "JLDhwbL29pi1",
        "outputId": "b9855af6-c5c6-47be-9604-53a563a1ff7e"
      },
      "execution_count": 8,
      "outputs": [
        {
          "output_type": "stream",
          "name": "stderr",
          "text": [
            "<ipython-input-8-62ebcf29c8e9>:2: LangChainDeprecationWarning: Please see the migration guide at: https://python.langchain.com/docs/versions/migrating_memory/\n",
            "  memory = ConversationBufferMemory(memory_key=\"chat_history\")  # Storing the conversation history\n"
          ]
        }
      ]
    },
    {
      "cell_type": "code",
      "source": [
        "result_3 = conversational_agent.run(\"Who won the 2022 Fifa world cup?\")\n",
        "print(result_3)"
      ],
      "metadata": {
        "colab": {
          "base_uri": "https://localhost:8080/"
        },
        "id": "wGOHH6jy9q1n",
        "outputId": "f8ceb765-e242-44f5-fb34-edbf4ce39517"
      },
      "execution_count": 9,
      "outputs": [
        {
          "output_type": "stream",
          "name": "stdout",
          "text": [
            "\n",
            "\n",
            "\u001b[1m> Entering new AgentExecutor chain...\u001b[0m\n",
            "\u001b[32;1m\u001b[1;3m```\n",
            "Thought: Do I need to use a tool? Yes\n",
            "Action: wikipedia\n",
            "Action Input: 2022 FIFA World Cup winner\u001b[0m\n",
            "Observation: \u001b[36;1m\u001b[1;3mPage: 2022 FIFA World Cup\n",
            "Summary: The 2022 FIFA World Cup was the 22nd FIFA World Cup, the quadrennial world championship for national football teams organized by FIFA. It took place in Qatar from 20 November to 18 December 2022, after the country was awarded the hosting rights in 2010. It was the first World Cup to be held in the Middle East and Persian Gulf countries, and the second in an Asian country after the 2002 tournament in South Korea and Japan.\n",
            "This tournament was the last with 32 participating teams, with the number of teams being increased to 48 for the 2026 edition. To avoid the extremes of Qatar's hot and humid climate in summers, the event was held in November and December, becoming the first one to take place outside the traditional months of May, June, and July. It was held over a reduced time frame of 29 days with 64 matches played in eight venues across five cities. Qatar entered the event—their first World Cup—automatically as the host's national team, alongside 31 teams determined by the qualification process.\n",
            "Argentina were crowned the champions after winning the final against the title holder France 4–2 on penalties following a 3–3 draw after extra time. It was Argentina's third title and their first since 1986, as well as being the first nation from outside of Europe to win the tournament since 2002. French player Kylian Mbappé became the first player to score a hat-trick in a World Cup final since Geoff Hurst in the 1966 final and won the Golden Boot as he scored the most goals (eight) during the tournament. Mbappé also became the first player to score in two consecutive finals since Vavá of Brazil did the same in 1958 and 1962.\n",
            "Argentine captain Lionel Messi was voted the tournament's best player, winning his second Golden Ball. The tournament has been considered exceptionally poetic as the capstone of his career, with the win fulfilling for some commentators a previously unmet criterion to be regarded as the greatest player of all time. Teammates Emiliano Martínez and Enzo Fernández won the Golden Glove, awarded to the tournament's best goalkeeper; and the Young Player Award, awarded to the tournament's best young player, respectively. With 172 goals, the tournament set a record for the highest number of goals scored in the 32-team format, with every participating team scoring at least one goal.\n",
            "The choice to host the World Cup in Qatar attracted significant criticism, with concerns raised over the country's treatment of migrant workers, women, and members of the LGBTQ+ community, as well as Qatar's climate, lack of a strong football culture, scheduling changes, and allegations of bribery for hosting rights and wider FIFA corruption.\n",
            "\n",
            "\n",
            "\n",
            "Page: List of FIFA World Cup finals\n",
            "Summary: The FIFA World Cup is an international association football competition contested by the senior men's national teams of the Fédération Internationale de Football Association (FIFA), the sport's global governing body. The championship has been awarded every four years since 1930, except in 1942 and 1946, when it was not held because of World War II.\n",
            "The World Cup final is the last match of the competition, played by the only two teams remaining in contention, and the result determines which country is declared the world champion. It is a one-off match decided in regulation time. In case of a draw, extra time is used. If scores are then still level, a penalty shoot-out determines the winner, under the rules in force since 1986; prior to that, finals still tied after extra time would have been replayed, though this never proved necessary. The golden goal rule would have applied during extra time in 1998 and 2002, but was not put in practice either.\n",
            "The only exception to this type of format was the 1950 World Cup, which featured a final round-robin group of four teams; the decisive match of that group is often regarded as the de facto final of that tournament, including by FIFA itself.\n",
            "The team that wins the final receives th\u001b[0m\n",
            "Thought:\u001b[32;1m\u001b[1;3mDo I need to use a tool? No  \n",
            "AI: Argentina won the 2022 FIFA World Cup, defeating France in the final. The match ended in a 3-3 draw after extra time, and Argentina won 4-2 on penalties. This victory marked Argentina's third World Cup title, their first since 1986.\u001b[0m\n",
            "\n",
            "\u001b[1m> Finished chain.\u001b[0m\n",
            "Argentina won the 2022 FIFA World Cup, defeating France in the final. The match ended in a 3-3 draw after extra time, and Argentina won 4-2 on penalties. This victory marked Argentina's third World Cup title, their first since 1986.\n"
          ]
        }
      ]
    },
    {
      "cell_type": "code",
      "source": [
        "result_3=conversational_agent.run(\"Which teams were in top 10?\")\n",
        "print(result_3)"
      ],
      "metadata": {
        "colab": {
          "base_uri": "https://localhost:8080/"
        },
        "id": "zUVySU3P92Hw",
        "outputId": "97f2a4ac-0e5e-4c1c-b03b-80a12ca40b90"
      },
      "execution_count": 16,
      "outputs": [
        {
          "output_type": "stream",
          "name": "stdout",
          "text": [
            "\n",
            "\n",
            "\u001b[1m> Entering new AgentExecutor chain...\u001b[0m\n",
            "\u001b[32;1m\u001b[1;3m```\n",
            "Thought: Do I need to use a tool? Yes\n",
            "Action: wikipedia\n",
            "Action Input: 2022 FIFA World Cup final standings\u001b[0m\n",
            "Observation: \u001b[36;1m\u001b[1;3mPage: 2022 FIFA World Cup\n",
            "Summary: The 2022 FIFA World Cup was the 22nd FIFA World Cup, the quadrennial world championship for national football teams organized by FIFA. It took place in Qatar from 20 November to 18 December 2022, after the country was awarded the hosting rights in 2010. It was the first World Cup to be held in the Middle East and Persian Gulf countries, and the second in an Asian country after the 2002 tournament in South Korea and Japan.\n",
            "This tournament was the last with 32 participating teams, with the number of teams being increased to 48 for the 2026 edition. To avoid the extremes of Qatar's hot and humid climate in summers, the event was held in November and December, becoming the first one to take place outside the traditional months of May, June, and July. It was held over a reduced time frame of 29 days with 64 matches played in eight venues across five cities. Qatar entered the event—their first World Cup—automatically as the host's national team, alongside 31 teams determined by the qualification process.\n",
            "Argentina were crowned the champions after winning the final against the title holder France 4–2 on penalties following a 3–3 draw after extra time. It was Argentina's third title and their first since 1986, as well as being the first nation from outside of Europe to win the tournament since 2002. French player Kylian Mbappé became the first player to score a hat-trick in a World Cup final since Geoff Hurst in the 1966 final and won the Golden Boot as he scored the most goals (eight) during the tournament. Mbappé also became the first player to score in two consecutive finals since Vavá of Brazil did the same in 1958 and 1962.\n",
            "Argentine captain Lionel Messi was voted the tournament's best player, winning his second Golden Ball. The tournament has been considered exceptionally poetic as the capstone of his career, with the win fulfilling for some commentators a previously unmet criterion to be regarded as the greatest player of all time. Teammates Emiliano Martínez and Enzo Fernández won the Golden Glove, awarded to the tournament's best goalkeeper; and the Young Player Award, awarded to the tournament's best young player, respectively. With 172 goals, the tournament set a record for the highest number of goals scored in the 32-team format, with every participating team scoring at least one goal.\n",
            "The choice to host the World Cup in Qatar attracted significant criticism, with concerns raised over the country's treatment of migrant workers, women, and members of the LGBTQ+ community, as well as Qatar's climate, lack of a strong football culture, scheduling changes, and allegations of bribery for hosting rights and wider FIFA corruption.\n",
            "\n",
            "\n",
            "\n",
            "Page: 2026 FIFA World Cup\n",
            "Summary: The 2026 FIFA World Cup, marketed as FIFA World Cup 26, will be the 23rd FIFA World Cup, the quadrennial international men's soccer championship contested by the national teams of the member associations of FIFA. The tournament will take place from June 11 to July 19, 2026. It will be jointly hosted by 16 cities in three North American countries; the majority of matches will take place in the United States, while Canada and Mexico will host selected matches. The tournament will be the first hosted by three nations and the first North American World Cup since 1994.\n",
            "This tournament will be the first to include 48 teams, expanded from 32. The United 2026 bid beat a rival bid by Morocco during a final vote at the 68th FIFA Congress in Moscow. It will be the first World Cup since 2002 to be hosted by more than one nation. With its past hosting of the 1970 and 1986 tournaments, Mexico will become the first country to host or co-host the men's World Cup three times. The United States last hosted the men's World Cup in 1994, whereas it will be Canada's first time hosting or co-hosting the men's tournament. The event will also return to its traditional northern summer schedule after the 2022 edition in Qatar was held in November and Decembe\u001b[0m\n",
            "Thought:\u001b[32;1m\u001b[1;3mDo I need to use a tool? No  \n",
            "AI: The top 10 teams in the 2022 FIFA World Cup, based on their final standings, are as follows:\n",
            "\n",
            "1. Argentina (Champions)\n",
            "2. France (Runners-up)\n",
            "3. Croatia (Third place)\n",
            "4. Morocco (Fourth place)\n",
            "5. Brazil (Quarter-finals)\n",
            "6. England (Quarter-finals)\n",
            "7. Netherlands (Quarter-finals)\n",
            "8. Portugal (Quarter-finals)\n",
            "9. Spain (Round of 16)\n",
            "10. Switzerland (Round of 16)\n",
            "\n",
            "These rankings reflect the teams' performance throughout the tournament.\u001b[0m\n",
            "\n",
            "\u001b[1m> Finished chain.\u001b[0m\n",
            "The top 10 teams in the 2022 FIFA World Cup, based on their final standings, are as follows:\n",
            "\n",
            "1. Argentina (Champions)\n",
            "2. France (Runners-up)\n",
            "3. Croatia (Third place)\n",
            "4. Morocco (Fourth place)\n",
            "5. Brazil (Quarter-finals)\n",
            "6. England (Quarter-finals)\n",
            "7. Netherlands (Quarter-finals)\n",
            "8. Portugal (Quarter-finals)\n",
            "9. Spain (Round of 16)\n",
            "10. Switzerland (Round of 16)\n",
            "\n",
            "These rankings reflect the teams' performance throughout the tournament.\n"
          ]
        }
      ]
    },
    {
      "cell_type": "markdown",
      "source": [
        "## Custom Tool"
      ],
      "metadata": {
        "id": "xtbGC9JjBSYQ"
      }
    },
    {
      "cell_type": "code",
      "source": [
        "from langchain.agents import AgentExecutor, create_openai_tools_agent\n",
        "from langchain.tools import BaseTool, StructuredTool, tool\n",
        "from langchain_core.prompts import ChatPromptTemplate, MessagesPlaceholder"
      ],
      "metadata": {
        "id": "MK-ItNS9Bxdp"
      },
      "execution_count": 11,
      "outputs": []
    },
    {
      "cell_type": "code",
      "source": [
        "from langchain.tools import tool\n",
        "\n",
        "@tool\n",
        "def add(a: int, b: int) -> int:\n",
        " \"\"\"Adds two numbers together\"\"\"\n",
        " return a + b # the actions our tool performs"
      ],
      "metadata": {
        "id": "-ZgEeKMeBUJB"
      },
      "execution_count": 12,
      "outputs": []
    },
    {
      "cell_type": "code",
      "source": [
        "# Create a chat prompt template with structured messages\n",
        "# The template defines the system behavior and placeholders for dynamic values\n",
        "prompt = ChatPromptTemplate.from_messages(\n",
        "    [\n",
        "        (\"system\", \"\"\"\n",
        "          You are a mathematical assistant. Use your tools to answer questions.\n",
        "          If you do not have a tool to answer the question, say so.\n",
        "\n",
        "          Return only the answers. e.g\n",
        "          Human: What is 1 + 1?\n",
        "          AI: 2\n",
        "          \"\"\"),  # Defining the system's role and expected behavior\n",
        "        MessagesPlaceholder(\"chat_history\", optional=True),  # Optional placeholder for the conversation history\n",
        "        (\"human\", \"{input}\"),  # Placeholder for the human's input\n",
        "        MessagesPlaceholder(\"agent_scratchpad\"),  # Placeholder for the agent's internal work or scratchpad\n",
        "    ]\n",
        ")\n",
        "\n",
        "# Define the toolkit that includes the 'add' operation (used for mathematical operations)\n",
        "toolkit = [add]\n",
        "\n",
        "# Create an agent using the OpenAI model with the defined prompt and toolkit\n",
        "agent = create_openai_tools_agent(llm, toolkit, prompt)\n",
        "\n",
        "# Create an agent executor to handle the agent's execution and verbose logging\n",
        "agent_executor = AgentExecutor(agent=agent, tools=toolkit, verbose=True)\n",
        "\n",
        "# Run the agent executor with an input query and print the result\n",
        "result = agent_executor.invoke({\"input\": \"what is 2  + 2\"})\n",
        "print(result)"
      ],
      "metadata": {
        "colab": {
          "base_uri": "https://localhost:8080/"
        },
        "id": "RFiVnWqfBisX",
        "outputId": "cc0f175b-3095-41e1-bf54-fbee2b3f06f4"
      },
      "execution_count": 15,
      "outputs": [
        {
          "output_type": "stream",
          "name": "stdout",
          "text": [
            "\n",
            "\n",
            "\u001b[1m> Entering new AgentExecutor chain...\u001b[0m\n",
            "\u001b[32;1m\u001b[1;3m\n",
            "Invoking: `add` with `{'a': 2, 'b': 2}`\n",
            "\n",
            "\n",
            "\u001b[0m\u001b[36;1m\u001b[1;3m4\u001b[0m\u001b[32;1m\u001b[1;3m4\u001b[0m\n",
            "\n",
            "\u001b[1m> Finished chain.\u001b[0m\n",
            "{'input': 'what is 2  + 2', 'output': '4'}\n"
          ]
        }
      ]
    },
    {
      "cell_type": "code",
      "source": [],
      "metadata": {
        "id": "b5TwhtqalJb4"
      },
      "execution_count": null,
      "outputs": []
    }
  ]
}